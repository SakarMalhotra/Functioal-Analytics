{
  "nbformat": 4,
  "nbformat_minor": 0,
  "metadata": {
    "colab": {
      "provenance": []
    },
    "kernelspec": {
      "name": "python3",
      "display_name": "Python 3"
    },
    "language_info": {
      "name": "python"
    }
  },
  "cells": [
    {
      "cell_type": "markdown",
      "source": [
        "## Name of the Dataset- Automotive Churn Prediction "
      ],
      "metadata": {
        "id": "h1BIzrlb6R0y"
      }
    },
    {
      "cell_type": "code",
      "execution_count": 412,
      "metadata": {
        "id": "01ZhfBlQ4KKi"
      },
      "outputs": [],
      "source": [
        "# 1.0 Call libraries\n",
        "# 1.1 Data manipulation libraries\n",
        "import numpy as np\n",
        "import pandas as pd\n",
        "\n",
        "# 1.2 sklearn libraries\n",
        "from sklearn.preprocessing import LabelEncoder, MinMaxScaler\n",
        "from sklearn.model_selection import train_test_split\n",
        "\n",
        "# 1.3 For plotting NN model\n",
        "#  conda install -c anaconda graphviz\n",
        "#  conda install -c anaconda pydot\n",
        "# from skimage import io\n",
        "# import pydot\n",
        "\n",
        "# 1.4 Keras model components\n",
        "import tensorflow as tf\n",
        "from tensorflow.keras.models import Model\n",
        "from tensorflow.keras.layers import Input, Dropout, Dense, concatenate, GRU, Embedding, Flatten\n",
        "from tensorflow.keras.layers import Conv1D, Reshape\n",
        "from tensorflow.keras.callbacks import ModelCheckpoint, Callback, EarlyStopping\n",
        "\n",
        "# 1.4.1 For text (word) to integer transformation\n",
        "from tensorflow.keras.preprocessing.text import Tokenizer\n",
        "\n",
        "# 1.4.2 For making all integer sequences of equal length\n",
        "from tensorflow.keras.preprocessing.sequence import pad_sequences\n",
        "\n",
        "# 1.4.3 Import backend to invoke tensorflow commands to manipulate tensors\n",
        "from tensorflow.keras import backend as K\n",
        "\n",
        "# 1.5 Plotting libraries\n",
        "from tensorflow.keras.utils import plot_model\n",
        "import matplotlib.pyplot as plt\n",
        "%matplotlib inline \n",
        "\n",
        "# 1.6 Misc\n",
        "import math, time, os,gc"
      ]
    },
    {
      "cell_type": "code",
      "source": [
        "# Check tensorflow version:\n",
        "\n",
        "tf.__version__    # 2.9.2"
      ],
      "metadata": {
        "colab": {
          "base_uri": "https://localhost:8080/",
          "height": 35
        },
        "id": "3uxq1zX04xv5",
        "outputId": "f87f02b1-76e0-4186-eb2d-daf43cbbe8cc"
      },
      "execution_count": 413,
      "outputs": [
        {
          "output_type": "execute_result",
          "data": {
            "text/plain": [
              "'2.9.2'"
            ],
            "application/vnd.google.colaboratory.intrinsic+json": {
              "type": "string"
            }
          },
          "metadata": {},
          "execution_count": 413
        }
      ]
    },
    {
      "cell_type": "code",
      "source": [
        "# Print all outputs from a cell\n",
        "\n",
        "from IPython.core.interactiveshell import InteractiveShell\n",
        "InteractiveShell.ast_node_interactivity = \"all\""
      ],
      "metadata": {
        "id": "7MwxI26C4098"
      },
      "execution_count": 414,
      "outputs": []
    },
    {
      "cell_type": "code",
      "source": [
        "# Drive mounting\n",
        "from google.colab import drive\n",
        "drive.mount('/gdrive')  "
      ],
      "metadata": {
        "colab": {
          "base_uri": "https://localhost:8080/"
        },
        "id": "mZtqQa4K46Mf",
        "outputId": "88d7a6bd-d597-42a9-886b-a758eb3103e3"
      },
      "execution_count": 415,
      "outputs": [
        {
          "output_type": "stream",
          "name": "stdout",
          "text": [
            "Drive already mounted at /gdrive; to attempt to forcibly remount, call drive.mount(\"/gdrive\", force_remount=True).\n"
          ]
        }
      ]
    },
    {
      "cell_type": "code",
      "source": [
        "# Set path to train and test data\n",
        "path = \"/content/drive/MyDrive/Colab Notebooks/automotive churn prediction\""
      ],
      "metadata": {
        "id": "u4K1PKms5A7S"
      },
      "execution_count": 416,
      "outputs": []
    },
    {
      "cell_type": "code",
      "source": [
        "# 3.0 Read datasets\n",
        "# %%time\n",
        "\n",
        "\n",
        "print(\"---Loading data---\")\n",
        "\n",
        "train = pd.read_csv(\"/gdrive/MyDrive/Colab Notebooks/automotive churn prediction/automotive_train.csv\")\n",
        "\n",
        "# 3.0.1\n",
        "test = pd.read_csv(\"/gdrive/MyDrive/Colab Notebooks/automotive churn prediction/automotive_test.csv\")\n",
        "\n",
        "print(\"---finished reading---\")"
      ],
      "metadata": {
        "colab": {
          "base_uri": "https://localhost:8080/"
        },
        "id": "AH9CtzxH6DHx",
        "outputId": "2aa81b4f-7733-4911-ddc3-9a33ec0b8972"
      },
      "execution_count": 417,
      "outputs": [
        {
          "output_type": "stream",
          "name": "stdout",
          "text": [
            "---Loading data---\n",
            "---finished reading---\n"
          ]
        }
      ]
    },
    {
      "cell_type": "code",
      "source": [
        "# Viewing columns and rows of the test and train dataset (first 2 rows)\n",
        "train.head(2)\n",
        "test.head(2)"
      ],
      "metadata": {
        "colab": {
          "base_uri": "https://localhost:8080/",
          "height": 584
        },
        "id": "Av90sAlp6ETy",
        "outputId": "d0b9292b-e66a-454f-c08e-5f5d6489d7ed"
      },
      "execution_count": 418,
      "outputs": [
        {
          "output_type": "execute_result",
          "data": {
            "text/plain": [
              "   Unnamed: 0                           customer_id              Name  age  \\\n",
              "0           2      fffe4300490044003100390032003600   Merideth Mcmeen   44   \n",
              "1           3  fffe43004900440036003000330031003600  Eufemia Cardwell   37   \n",
              "\n",
              "  gender security_no region_category membership_category joining_date  \\\n",
              "0      F     1F2TCL3            Town       No Membership   2016-11-11   \n",
              "1      M     VJGJ33N            City       No Membership   2016-10-29   \n",
              "\n",
              "  joined_through_referral referral_id  preferred_offer_types  \\\n",
              "0                     Yes    CID12313  Gift Vouchers/Coupons   \n",
              "1                     Yes     CID3793  Gift Vouchers/Coupons   \n",
              "\n",
              "  medium_of_operation internet_option last_visit_time  days_since_last_login  \\\n",
              "0             Desktop           Wi-Fi        22:53:21                     14   \n",
              "1             Desktop     Mobile_Data        15:57:50                     11   \n",
              "\n",
              "   avg_time_spent  avg_transaction_value avg_frequency_login_days  \\\n",
              "0          516.16               21027.00                     22.0   \n",
              "1           53.27               25239.56                      6.0   \n",
              "\n",
              "   points_in_wallet used_special_discount offer_application_preference  \\\n",
              "0            500.69                    No                          Yes   \n",
              "1            567.66                    No                          Yes   \n",
              "\n",
              "  past_complaint     complaint_status      feedback  churn_score  \\\n",
              "0            Yes  Solved in Follow-up  Poor Website            5   \n",
              "1            Yes             Unsolved  Poor Website            5   \n",
              "\n",
              "                                             content  \\\n",
              "0  Ordered two sets.  Jacked up car and used thes...   \n",
              "1                     Very good product worked great   \n",
              "\n",
              "                                    summary  sentiment  \n",
              "0  Not stable enough for me to crawl under.          0  \n",
              "1                                  One Star          0  "
            ],
            "text/html": [
              "\n",
              "  <div id=\"df-8c6a4529-3799-4f06-8382-80b409e0f572\">\n",
              "    <div class=\"colab-df-container\">\n",
              "      <div>\n",
              "<style scoped>\n",
              "    .dataframe tbody tr th:only-of-type {\n",
              "        vertical-align: middle;\n",
              "    }\n",
              "\n",
              "    .dataframe tbody tr th {\n",
              "        vertical-align: top;\n",
              "    }\n",
              "\n",
              "    .dataframe thead th {\n",
              "        text-align: right;\n",
              "    }\n",
              "</style>\n",
              "<table border=\"1\" class=\"dataframe\">\n",
              "  <thead>\n",
              "    <tr style=\"text-align: right;\">\n",
              "      <th></th>\n",
              "      <th>Unnamed: 0</th>\n",
              "      <th>customer_id</th>\n",
              "      <th>Name</th>\n",
              "      <th>age</th>\n",
              "      <th>gender</th>\n",
              "      <th>security_no</th>\n",
              "      <th>region_category</th>\n",
              "      <th>membership_category</th>\n",
              "      <th>joining_date</th>\n",
              "      <th>joined_through_referral</th>\n",
              "      <th>referral_id</th>\n",
              "      <th>preferred_offer_types</th>\n",
              "      <th>medium_of_operation</th>\n",
              "      <th>internet_option</th>\n",
              "      <th>last_visit_time</th>\n",
              "      <th>days_since_last_login</th>\n",
              "      <th>avg_time_spent</th>\n",
              "      <th>avg_transaction_value</th>\n",
              "      <th>avg_frequency_login_days</th>\n",
              "      <th>points_in_wallet</th>\n",
              "      <th>used_special_discount</th>\n",
              "      <th>offer_application_preference</th>\n",
              "      <th>past_complaint</th>\n",
              "      <th>complaint_status</th>\n",
              "      <th>feedback</th>\n",
              "      <th>churn_score</th>\n",
              "      <th>content</th>\n",
              "      <th>summary</th>\n",
              "      <th>sentiment</th>\n",
              "    </tr>\n",
              "  </thead>\n",
              "  <tbody>\n",
              "    <tr>\n",
              "      <th>0</th>\n",
              "      <td>2</td>\n",
              "      <td>fffe4300490044003100390032003600</td>\n",
              "      <td>Merideth Mcmeen</td>\n",
              "      <td>44</td>\n",
              "      <td>F</td>\n",
              "      <td>1F2TCL3</td>\n",
              "      <td>Town</td>\n",
              "      <td>No Membership</td>\n",
              "      <td>2016-11-11</td>\n",
              "      <td>Yes</td>\n",
              "      <td>CID12313</td>\n",
              "      <td>Gift Vouchers/Coupons</td>\n",
              "      <td>Desktop</td>\n",
              "      <td>Wi-Fi</td>\n",
              "      <td>22:53:21</td>\n",
              "      <td>14</td>\n",
              "      <td>516.16</td>\n",
              "      <td>21027.00</td>\n",
              "      <td>22.0</td>\n",
              "      <td>500.69</td>\n",
              "      <td>No</td>\n",
              "      <td>Yes</td>\n",
              "      <td>Yes</td>\n",
              "      <td>Solved in Follow-up</td>\n",
              "      <td>Poor Website</td>\n",
              "      <td>5</td>\n",
              "      <td>Ordered two sets.  Jacked up car and used thes...</td>\n",
              "      <td>Not stable enough for me to crawl under.</td>\n",
              "      <td>0</td>\n",
              "    </tr>\n",
              "    <tr>\n",
              "      <th>1</th>\n",
              "      <td>3</td>\n",
              "      <td>fffe43004900440036003000330031003600</td>\n",
              "      <td>Eufemia Cardwell</td>\n",
              "      <td>37</td>\n",
              "      <td>M</td>\n",
              "      <td>VJGJ33N</td>\n",
              "      <td>City</td>\n",
              "      <td>No Membership</td>\n",
              "      <td>2016-10-29</td>\n",
              "      <td>Yes</td>\n",
              "      <td>CID3793</td>\n",
              "      <td>Gift Vouchers/Coupons</td>\n",
              "      <td>Desktop</td>\n",
              "      <td>Mobile_Data</td>\n",
              "      <td>15:57:50</td>\n",
              "      <td>11</td>\n",
              "      <td>53.27</td>\n",
              "      <td>25239.56</td>\n",
              "      <td>6.0</td>\n",
              "      <td>567.66</td>\n",
              "      <td>No</td>\n",
              "      <td>Yes</td>\n",
              "      <td>Yes</td>\n",
              "      <td>Unsolved</td>\n",
              "      <td>Poor Website</td>\n",
              "      <td>5</td>\n",
              "      <td>Very good product worked great</td>\n",
              "      <td>One Star</td>\n",
              "      <td>0</td>\n",
              "    </tr>\n",
              "  </tbody>\n",
              "</table>\n",
              "</div>\n",
              "      <button class=\"colab-df-convert\" onclick=\"convertToInteractive('df-8c6a4529-3799-4f06-8382-80b409e0f572')\"\n",
              "              title=\"Convert this dataframe to an interactive table.\"\n",
              "              style=\"display:none;\">\n",
              "        \n",
              "  <svg xmlns=\"http://www.w3.org/2000/svg\" height=\"24px\"viewBox=\"0 0 24 24\"\n",
              "       width=\"24px\">\n",
              "    <path d=\"M0 0h24v24H0V0z\" fill=\"none\"/>\n",
              "    <path d=\"M18.56 5.44l.94 2.06.94-2.06 2.06-.94-2.06-.94-.94-2.06-.94 2.06-2.06.94zm-11 1L8.5 8.5l.94-2.06 2.06-.94-2.06-.94L8.5 2.5l-.94 2.06-2.06.94zm10 10l.94 2.06.94-2.06 2.06-.94-2.06-.94-.94-2.06-.94 2.06-2.06.94z\"/><path d=\"M17.41 7.96l-1.37-1.37c-.4-.4-.92-.59-1.43-.59-.52 0-1.04.2-1.43.59L10.3 9.45l-7.72 7.72c-.78.78-.78 2.05 0 2.83L4 21.41c.39.39.9.59 1.41.59.51 0 1.02-.2 1.41-.59l7.78-7.78 2.81-2.81c.8-.78.8-2.07 0-2.86zM5.41 20L4 18.59l7.72-7.72 1.47 1.35L5.41 20z\"/>\n",
              "  </svg>\n",
              "      </button>\n",
              "      \n",
              "  <style>\n",
              "    .colab-df-container {\n",
              "      display:flex;\n",
              "      flex-wrap:wrap;\n",
              "      gap: 12px;\n",
              "    }\n",
              "\n",
              "    .colab-df-convert {\n",
              "      background-color: #E8F0FE;\n",
              "      border: none;\n",
              "      border-radius: 50%;\n",
              "      cursor: pointer;\n",
              "      display: none;\n",
              "      fill: #1967D2;\n",
              "      height: 32px;\n",
              "      padding: 0 0 0 0;\n",
              "      width: 32px;\n",
              "    }\n",
              "\n",
              "    .colab-df-convert:hover {\n",
              "      background-color: #E2EBFA;\n",
              "      box-shadow: 0px 1px 2px rgba(60, 64, 67, 0.3), 0px 1px 3px 1px rgba(60, 64, 67, 0.15);\n",
              "      fill: #174EA6;\n",
              "    }\n",
              "\n",
              "    [theme=dark] .colab-df-convert {\n",
              "      background-color: #3B4455;\n",
              "      fill: #D2E3FC;\n",
              "    }\n",
              "\n",
              "    [theme=dark] .colab-df-convert:hover {\n",
              "      background-color: #434B5C;\n",
              "      box-shadow: 0px 1px 3px 1px rgba(0, 0, 0, 0.15);\n",
              "      filter: drop-shadow(0px 1px 2px rgba(0, 0, 0, 0.3));\n",
              "      fill: #FFFFFF;\n",
              "    }\n",
              "  </style>\n",
              "\n",
              "      <script>\n",
              "        const buttonEl =\n",
              "          document.querySelector('#df-8c6a4529-3799-4f06-8382-80b409e0f572 button.colab-df-convert');\n",
              "        buttonEl.style.display =\n",
              "          google.colab.kernel.accessAllowed ? 'block' : 'none';\n",
              "\n",
              "        async function convertToInteractive(key) {\n",
              "          const element = document.querySelector('#df-8c6a4529-3799-4f06-8382-80b409e0f572');\n",
              "          const dataTable =\n",
              "            await google.colab.kernel.invokeFunction('convertToInteractive',\n",
              "                                                     [key], {});\n",
              "          if (!dataTable) return;\n",
              "\n",
              "          const docLinkHtml = 'Like what you see? Visit the ' +\n",
              "            '<a target=\"_blank\" href=https://colab.research.google.com/notebooks/data_table.ipynb>data table notebook</a>'\n",
              "            + ' to learn more about interactive tables.';\n",
              "          element.innerHTML = '';\n",
              "          dataTable['output_type'] = 'display_data';\n",
              "          await google.colab.output.renderOutput(dataTable, element);\n",
              "          const docLink = document.createElement('div');\n",
              "          docLink.innerHTML = docLinkHtml;\n",
              "          element.appendChild(docLink);\n",
              "        }\n",
              "      </script>\n",
              "    </div>\n",
              "  </div>\n",
              "  "
            ]
          },
          "metadata": {},
          "execution_count": 418
        },
        {
          "output_type": "execute_result",
          "data": {
            "text/plain": [
              "   Unnamed: 0  Unnamed: 0.1                           customer_id  \\\n",
              "0           5             5  fffe43004900440035003700330030003600   \n",
              "1           9             9      fffe4300490044003500320033003500   \n",
              "\n",
              "             Name  age gender security_no region_category membership_category  \\\n",
              "0   Evelyne Kinch   17      M     NBV1O8W            Town    Basic Membership   \n",
              "1  Franklin Lurry   22      M     C3B77NU            Town       No Membership   \n",
              "\n",
              "  joining_date joined_through_referral referral_id     preferred_offer_types  \\\n",
              "0   2016-12-04                     Yes    CID53746            Without Offers   \n",
              "1   2015-10-14                     Yes    CID60228  Credit/Debit Card Offers   \n",
              "\n",
              "  medium_of_operation internet_option last_visit_time  days_since_last_login  \\\n",
              "0                   ?     Mobile_Data        08:45:54                   -999   \n",
              "1             Desktop     Fiber_Optic        10:44:01                      4   \n",
              "\n",
              "   avg_time_spent  avg_transaction_value avg_frequency_login_days  \\\n",
              "0           31.02                9948.54                     16.0   \n",
              "1           30.25               19363.60                    Error   \n",
              "\n",
              "   points_in_wallet used_special_discount offer_application_preference  \\\n",
              "0            577.83                   Yes                           No   \n",
              "1            528.66                   Yes                           No   \n",
              "\n",
              "  past_complaint          complaint_status              feedback  churn_score  \\\n",
              "0            Yes  No Information Available  Poor Product Quality            5   \n",
              "1             No            Not Applicable          Poor Website            5   \n",
              "\n",
              "   sentiment                                            content  \\\n",
              "0          2  I just want to say that most Meguiar's product...   \n",
              "1          1  This item is misrepresented.  Meguiar's no lon...   \n",
              "\n",
              "                                             summary  sentiments  \n",
              "0  half of the product leaked before opening...di...           0  \n",
              "1                Meguiar's Gold Class Clear Coat Wax           0  "
            ],
            "text/html": [
              "\n",
              "  <div id=\"df-5ab4ef7a-73f5-42a1-aa43-88fd13091332\">\n",
              "    <div class=\"colab-df-container\">\n",
              "      <div>\n",
              "<style scoped>\n",
              "    .dataframe tbody tr th:only-of-type {\n",
              "        vertical-align: middle;\n",
              "    }\n",
              "\n",
              "    .dataframe tbody tr th {\n",
              "        vertical-align: top;\n",
              "    }\n",
              "\n",
              "    .dataframe thead th {\n",
              "        text-align: right;\n",
              "    }\n",
              "</style>\n",
              "<table border=\"1\" class=\"dataframe\">\n",
              "  <thead>\n",
              "    <tr style=\"text-align: right;\">\n",
              "      <th></th>\n",
              "      <th>Unnamed: 0</th>\n",
              "      <th>Unnamed: 0.1</th>\n",
              "      <th>customer_id</th>\n",
              "      <th>Name</th>\n",
              "      <th>age</th>\n",
              "      <th>gender</th>\n",
              "      <th>security_no</th>\n",
              "      <th>region_category</th>\n",
              "      <th>membership_category</th>\n",
              "      <th>joining_date</th>\n",
              "      <th>joined_through_referral</th>\n",
              "      <th>referral_id</th>\n",
              "      <th>preferred_offer_types</th>\n",
              "      <th>medium_of_operation</th>\n",
              "      <th>internet_option</th>\n",
              "      <th>last_visit_time</th>\n",
              "      <th>days_since_last_login</th>\n",
              "      <th>avg_time_spent</th>\n",
              "      <th>avg_transaction_value</th>\n",
              "      <th>avg_frequency_login_days</th>\n",
              "      <th>points_in_wallet</th>\n",
              "      <th>used_special_discount</th>\n",
              "      <th>offer_application_preference</th>\n",
              "      <th>past_complaint</th>\n",
              "      <th>complaint_status</th>\n",
              "      <th>feedback</th>\n",
              "      <th>churn_score</th>\n",
              "      <th>sentiment</th>\n",
              "      <th>content</th>\n",
              "      <th>summary</th>\n",
              "      <th>sentiments</th>\n",
              "    </tr>\n",
              "  </thead>\n",
              "  <tbody>\n",
              "    <tr>\n",
              "      <th>0</th>\n",
              "      <td>5</td>\n",
              "      <td>5</td>\n",
              "      <td>fffe43004900440035003700330030003600</td>\n",
              "      <td>Evelyne Kinch</td>\n",
              "      <td>17</td>\n",
              "      <td>M</td>\n",
              "      <td>NBV1O8W</td>\n",
              "      <td>Town</td>\n",
              "      <td>Basic Membership</td>\n",
              "      <td>2016-12-04</td>\n",
              "      <td>Yes</td>\n",
              "      <td>CID53746</td>\n",
              "      <td>Without Offers</td>\n",
              "      <td>?</td>\n",
              "      <td>Mobile_Data</td>\n",
              "      <td>08:45:54</td>\n",
              "      <td>-999</td>\n",
              "      <td>31.02</td>\n",
              "      <td>9948.54</td>\n",
              "      <td>16.0</td>\n",
              "      <td>577.83</td>\n",
              "      <td>Yes</td>\n",
              "      <td>No</td>\n",
              "      <td>Yes</td>\n",
              "      <td>No Information Available</td>\n",
              "      <td>Poor Product Quality</td>\n",
              "      <td>5</td>\n",
              "      <td>2</td>\n",
              "      <td>I just want to say that most Meguiar's product...</td>\n",
              "      <td>half of the product leaked before opening...di...</td>\n",
              "      <td>0</td>\n",
              "    </tr>\n",
              "    <tr>\n",
              "      <th>1</th>\n",
              "      <td>9</td>\n",
              "      <td>9</td>\n",
              "      <td>fffe4300490044003500320033003500</td>\n",
              "      <td>Franklin Lurry</td>\n",
              "      <td>22</td>\n",
              "      <td>M</td>\n",
              "      <td>C3B77NU</td>\n",
              "      <td>Town</td>\n",
              "      <td>No Membership</td>\n",
              "      <td>2015-10-14</td>\n",
              "      <td>Yes</td>\n",
              "      <td>CID60228</td>\n",
              "      <td>Credit/Debit Card Offers</td>\n",
              "      <td>Desktop</td>\n",
              "      <td>Fiber_Optic</td>\n",
              "      <td>10:44:01</td>\n",
              "      <td>4</td>\n",
              "      <td>30.25</td>\n",
              "      <td>19363.60</td>\n",
              "      <td>Error</td>\n",
              "      <td>528.66</td>\n",
              "      <td>Yes</td>\n",
              "      <td>No</td>\n",
              "      <td>No</td>\n",
              "      <td>Not Applicable</td>\n",
              "      <td>Poor Website</td>\n",
              "      <td>5</td>\n",
              "      <td>1</td>\n",
              "      <td>This item is misrepresented.  Meguiar's no lon...</td>\n",
              "      <td>Meguiar's Gold Class Clear Coat Wax</td>\n",
              "      <td>0</td>\n",
              "    </tr>\n",
              "  </tbody>\n",
              "</table>\n",
              "</div>\n",
              "      <button class=\"colab-df-convert\" onclick=\"convertToInteractive('df-5ab4ef7a-73f5-42a1-aa43-88fd13091332')\"\n",
              "              title=\"Convert this dataframe to an interactive table.\"\n",
              "              style=\"display:none;\">\n",
              "        \n",
              "  <svg xmlns=\"http://www.w3.org/2000/svg\" height=\"24px\"viewBox=\"0 0 24 24\"\n",
              "       width=\"24px\">\n",
              "    <path d=\"M0 0h24v24H0V0z\" fill=\"none\"/>\n",
              "    <path d=\"M18.56 5.44l.94 2.06.94-2.06 2.06-.94-2.06-.94-.94-2.06-.94 2.06-2.06.94zm-11 1L8.5 8.5l.94-2.06 2.06-.94-2.06-.94L8.5 2.5l-.94 2.06-2.06.94zm10 10l.94 2.06.94-2.06 2.06-.94-2.06-.94-.94-2.06-.94 2.06-2.06.94z\"/><path d=\"M17.41 7.96l-1.37-1.37c-.4-.4-.92-.59-1.43-.59-.52 0-1.04.2-1.43.59L10.3 9.45l-7.72 7.72c-.78.78-.78 2.05 0 2.83L4 21.41c.39.39.9.59 1.41.59.51 0 1.02-.2 1.41-.59l7.78-7.78 2.81-2.81c.8-.78.8-2.07 0-2.86zM5.41 20L4 18.59l7.72-7.72 1.47 1.35L5.41 20z\"/>\n",
              "  </svg>\n",
              "      </button>\n",
              "      \n",
              "  <style>\n",
              "    .colab-df-container {\n",
              "      display:flex;\n",
              "      flex-wrap:wrap;\n",
              "      gap: 12px;\n",
              "    }\n",
              "\n",
              "    .colab-df-convert {\n",
              "      background-color: #E8F0FE;\n",
              "      border: none;\n",
              "      border-radius: 50%;\n",
              "      cursor: pointer;\n",
              "      display: none;\n",
              "      fill: #1967D2;\n",
              "      height: 32px;\n",
              "      padding: 0 0 0 0;\n",
              "      width: 32px;\n",
              "    }\n",
              "\n",
              "    .colab-df-convert:hover {\n",
              "      background-color: #E2EBFA;\n",
              "      box-shadow: 0px 1px 2px rgba(60, 64, 67, 0.3), 0px 1px 3px 1px rgba(60, 64, 67, 0.15);\n",
              "      fill: #174EA6;\n",
              "    }\n",
              "\n",
              "    [theme=dark] .colab-df-convert {\n",
              "      background-color: #3B4455;\n",
              "      fill: #D2E3FC;\n",
              "    }\n",
              "\n",
              "    [theme=dark] .colab-df-convert:hover {\n",
              "      background-color: #434B5C;\n",
              "      box-shadow: 0px 1px 3px 1px rgba(0, 0, 0, 0.15);\n",
              "      filter: drop-shadow(0px 1px 2px rgba(0, 0, 0, 0.3));\n",
              "      fill: #FFFFFF;\n",
              "    }\n",
              "  </style>\n",
              "\n",
              "      <script>\n",
              "        const buttonEl =\n",
              "          document.querySelector('#df-5ab4ef7a-73f5-42a1-aa43-88fd13091332 button.colab-df-convert');\n",
              "        buttonEl.style.display =\n",
              "          google.colab.kernel.accessAllowed ? 'block' : 'none';\n",
              "\n",
              "        async function convertToInteractive(key) {\n",
              "          const element = document.querySelector('#df-5ab4ef7a-73f5-42a1-aa43-88fd13091332');\n",
              "          const dataTable =\n",
              "            await google.colab.kernel.invokeFunction('convertToInteractive',\n",
              "                                                     [key], {});\n",
              "          if (!dataTable) return;\n",
              "\n",
              "          const docLinkHtml = 'Like what you see? Visit the ' +\n",
              "            '<a target=\"_blank\" href=https://colab.research.google.com/notebooks/data_table.ipynb>data table notebook</a>'\n",
              "            + ' to learn more about interactive tables.';\n",
              "          element.innerHTML = '';\n",
              "          dataTable['output_type'] = 'display_data';\n",
              "          await google.colab.output.renderOutput(dataTable, element);\n",
              "          const docLink = document.createElement('div');\n",
              "          docLink.innerHTML = docLinkHtml;\n",
              "          element.appendChild(docLink);\n",
              "        }\n",
              "      </script>\n",
              "    </div>\n",
              "  </div>\n",
              "  "
            ]
          },
          "metadata": {},
          "execution_count": 418
        }
      ]
    },
    {
      "cell_type": "code",
      "source": [
        "# Viewing columns and rows of the test and train dataset (last 2 rows)\n",
        "train.tail(2)\n",
        "test.head(2)"
      ],
      "metadata": {
        "colab": {
          "base_uri": "https://localhost:8080/",
          "height": 601
        },
        "id": "X34n5TIx7qBV",
        "outputId": "1039dd67-1ae7-4fa3-e66e-f1fee9abfdfb"
      },
      "execution_count": 419,
      "outputs": [
        {
          "output_type": "execute_result",
          "data": {
            "text/plain": [
              "       Unnamed: 0                           customer_id              Name  \\\n",
              "36986      289062  fffe43004900440034003900300036003500  Marlena Chastain   \n",
              "36987      289063  fffe43004900440031003200390039003000     Tawana Ardoin   \n",
              "\n",
              "       age gender security_no region_category  membership_category  \\\n",
              "36986   27      M     8X0LUUS            Town  Platinum Membership   \n",
              "36987   53      M     K6VTP1Z         Village  Platinum Membership   \n",
              "\n",
              "      joining_date joined_through_referral referral_id  \\\n",
              "36986   2015-09-07                     Yes    CID15800   \n",
              "36987   2017-06-15                      No    xxxxxxxx   \n",
              "\n",
              "          preferred_offer_types medium_of_operation internet_option  \\\n",
              "36986  Credit/Debit Card Offers             Desktop     Mobile_Data   \n",
              "36987     Gift Vouchers/Coupons          Smartphone     Mobile_Data   \n",
              "\n",
              "      last_visit_time  days_since_last_login  avg_time_spent  \\\n",
              "36986        05:29:19                     13          135.83   \n",
              "36987        09:50:03                     15          482.61   \n",
              "\n",
              "       avg_transaction_value avg_frequency_login_days  points_in_wallet  \\\n",
              "36986                8225.68                     16.0        748.570000   \n",
              "36987                2378.86                     20.0        197.264414   \n",
              "\n",
              "      used_special_discount offer_application_preference past_complaint  \\\n",
              "36986                   Yes                           No             No   \n",
              "36987                   Yes                          Yes             No   \n",
              "\n",
              "      complaint_status             feedback  churn_score  \\\n",
              "36986   Not Applicable  No reason specified            3   \n",
              "36987   Not Applicable  No reason specified            3   \n",
              "\n",
              "                                                 content  \\\n",
              "36986  This is an excellent product! It's a car \"sham...   \n",
              "36987            Works great! Helps keep the Jeep clean!   \n",
              "\n",
              "                                    summary  sentiment  \n",
              "36986  Perfect car \"shampoo & CONDITIONER\"!          1  \n",
              "36987                            Five Stars          1  "
            ],
            "text/html": [
              "\n",
              "  <div id=\"df-df430fae-4a2b-4036-9417-27cd8af8bff4\">\n",
              "    <div class=\"colab-df-container\">\n",
              "      <div>\n",
              "<style scoped>\n",
              "    .dataframe tbody tr th:only-of-type {\n",
              "        vertical-align: middle;\n",
              "    }\n",
              "\n",
              "    .dataframe tbody tr th {\n",
              "        vertical-align: top;\n",
              "    }\n",
              "\n",
              "    .dataframe thead th {\n",
              "        text-align: right;\n",
              "    }\n",
              "</style>\n",
              "<table border=\"1\" class=\"dataframe\">\n",
              "  <thead>\n",
              "    <tr style=\"text-align: right;\">\n",
              "      <th></th>\n",
              "      <th>Unnamed: 0</th>\n",
              "      <th>customer_id</th>\n",
              "      <th>Name</th>\n",
              "      <th>age</th>\n",
              "      <th>gender</th>\n",
              "      <th>security_no</th>\n",
              "      <th>region_category</th>\n",
              "      <th>membership_category</th>\n",
              "      <th>joining_date</th>\n",
              "      <th>joined_through_referral</th>\n",
              "      <th>referral_id</th>\n",
              "      <th>preferred_offer_types</th>\n",
              "      <th>medium_of_operation</th>\n",
              "      <th>internet_option</th>\n",
              "      <th>last_visit_time</th>\n",
              "      <th>days_since_last_login</th>\n",
              "      <th>avg_time_spent</th>\n",
              "      <th>avg_transaction_value</th>\n",
              "      <th>avg_frequency_login_days</th>\n",
              "      <th>points_in_wallet</th>\n",
              "      <th>used_special_discount</th>\n",
              "      <th>offer_application_preference</th>\n",
              "      <th>past_complaint</th>\n",
              "      <th>complaint_status</th>\n",
              "      <th>feedback</th>\n",
              "      <th>churn_score</th>\n",
              "      <th>content</th>\n",
              "      <th>summary</th>\n",
              "      <th>sentiment</th>\n",
              "    </tr>\n",
              "  </thead>\n",
              "  <tbody>\n",
              "    <tr>\n",
              "      <th>36986</th>\n",
              "      <td>289062</td>\n",
              "      <td>fffe43004900440034003900300036003500</td>\n",
              "      <td>Marlena Chastain</td>\n",
              "      <td>27</td>\n",
              "      <td>M</td>\n",
              "      <td>8X0LUUS</td>\n",
              "      <td>Town</td>\n",
              "      <td>Platinum Membership</td>\n",
              "      <td>2015-09-07</td>\n",
              "      <td>Yes</td>\n",
              "      <td>CID15800</td>\n",
              "      <td>Credit/Debit Card Offers</td>\n",
              "      <td>Desktop</td>\n",
              "      <td>Mobile_Data</td>\n",
              "      <td>05:29:19</td>\n",
              "      <td>13</td>\n",
              "      <td>135.83</td>\n",
              "      <td>8225.68</td>\n",
              "      <td>16.0</td>\n",
              "      <td>748.570000</td>\n",
              "      <td>Yes</td>\n",
              "      <td>No</td>\n",
              "      <td>No</td>\n",
              "      <td>Not Applicable</td>\n",
              "      <td>No reason specified</td>\n",
              "      <td>3</td>\n",
              "      <td>This is an excellent product! It's a car \"sham...</td>\n",
              "      <td>Perfect car \"shampoo &amp; CONDITIONER\"!</td>\n",
              "      <td>1</td>\n",
              "    </tr>\n",
              "    <tr>\n",
              "      <th>36987</th>\n",
              "      <td>289063</td>\n",
              "      <td>fffe43004900440031003200390039003000</td>\n",
              "      <td>Tawana Ardoin</td>\n",
              "      <td>53</td>\n",
              "      <td>M</td>\n",
              "      <td>K6VTP1Z</td>\n",
              "      <td>Village</td>\n",
              "      <td>Platinum Membership</td>\n",
              "      <td>2017-06-15</td>\n",
              "      <td>No</td>\n",
              "      <td>xxxxxxxx</td>\n",
              "      <td>Gift Vouchers/Coupons</td>\n",
              "      <td>Smartphone</td>\n",
              "      <td>Mobile_Data</td>\n",
              "      <td>09:50:03</td>\n",
              "      <td>15</td>\n",
              "      <td>482.61</td>\n",
              "      <td>2378.86</td>\n",
              "      <td>20.0</td>\n",
              "      <td>197.264414</td>\n",
              "      <td>Yes</td>\n",
              "      <td>Yes</td>\n",
              "      <td>No</td>\n",
              "      <td>Not Applicable</td>\n",
              "      <td>No reason specified</td>\n",
              "      <td>3</td>\n",
              "      <td>Works great! Helps keep the Jeep clean!</td>\n",
              "      <td>Five Stars</td>\n",
              "      <td>1</td>\n",
              "    </tr>\n",
              "  </tbody>\n",
              "</table>\n",
              "</div>\n",
              "      <button class=\"colab-df-convert\" onclick=\"convertToInteractive('df-df430fae-4a2b-4036-9417-27cd8af8bff4')\"\n",
              "              title=\"Convert this dataframe to an interactive table.\"\n",
              "              style=\"display:none;\">\n",
              "        \n",
              "  <svg xmlns=\"http://www.w3.org/2000/svg\" height=\"24px\"viewBox=\"0 0 24 24\"\n",
              "       width=\"24px\">\n",
              "    <path d=\"M0 0h24v24H0V0z\" fill=\"none\"/>\n",
              "    <path d=\"M18.56 5.44l.94 2.06.94-2.06 2.06-.94-2.06-.94-.94-2.06-.94 2.06-2.06.94zm-11 1L8.5 8.5l.94-2.06 2.06-.94-2.06-.94L8.5 2.5l-.94 2.06-2.06.94zm10 10l.94 2.06.94-2.06 2.06-.94-2.06-.94-.94-2.06-.94 2.06-2.06.94z\"/><path d=\"M17.41 7.96l-1.37-1.37c-.4-.4-.92-.59-1.43-.59-.52 0-1.04.2-1.43.59L10.3 9.45l-7.72 7.72c-.78.78-.78 2.05 0 2.83L4 21.41c.39.39.9.59 1.41.59.51 0 1.02-.2 1.41-.59l7.78-7.78 2.81-2.81c.8-.78.8-2.07 0-2.86zM5.41 20L4 18.59l7.72-7.72 1.47 1.35L5.41 20z\"/>\n",
              "  </svg>\n",
              "      </button>\n",
              "      \n",
              "  <style>\n",
              "    .colab-df-container {\n",
              "      display:flex;\n",
              "      flex-wrap:wrap;\n",
              "      gap: 12px;\n",
              "    }\n",
              "\n",
              "    .colab-df-convert {\n",
              "      background-color: #E8F0FE;\n",
              "      border: none;\n",
              "      border-radius: 50%;\n",
              "      cursor: pointer;\n",
              "      display: none;\n",
              "      fill: #1967D2;\n",
              "      height: 32px;\n",
              "      padding: 0 0 0 0;\n",
              "      width: 32px;\n",
              "    }\n",
              "\n",
              "    .colab-df-convert:hover {\n",
              "      background-color: #E2EBFA;\n",
              "      box-shadow: 0px 1px 2px rgba(60, 64, 67, 0.3), 0px 1px 3px 1px rgba(60, 64, 67, 0.15);\n",
              "      fill: #174EA6;\n",
              "    }\n",
              "\n",
              "    [theme=dark] .colab-df-convert {\n",
              "      background-color: #3B4455;\n",
              "      fill: #D2E3FC;\n",
              "    }\n",
              "\n",
              "    [theme=dark] .colab-df-convert:hover {\n",
              "      background-color: #434B5C;\n",
              "      box-shadow: 0px 1px 3px 1px rgba(0, 0, 0, 0.15);\n",
              "      filter: drop-shadow(0px 1px 2px rgba(0, 0, 0, 0.3));\n",
              "      fill: #FFFFFF;\n",
              "    }\n",
              "  </style>\n",
              "\n",
              "      <script>\n",
              "        const buttonEl =\n",
              "          document.querySelector('#df-df430fae-4a2b-4036-9417-27cd8af8bff4 button.colab-df-convert');\n",
              "        buttonEl.style.display =\n",
              "          google.colab.kernel.accessAllowed ? 'block' : 'none';\n",
              "\n",
              "        async function convertToInteractive(key) {\n",
              "          const element = document.querySelector('#df-df430fae-4a2b-4036-9417-27cd8af8bff4');\n",
              "          const dataTable =\n",
              "            await google.colab.kernel.invokeFunction('convertToInteractive',\n",
              "                                                     [key], {});\n",
              "          if (!dataTable) return;\n",
              "\n",
              "          const docLinkHtml = 'Like what you see? Visit the ' +\n",
              "            '<a target=\"_blank\" href=https://colab.research.google.com/notebooks/data_table.ipynb>data table notebook</a>'\n",
              "            + ' to learn more about interactive tables.';\n",
              "          element.innerHTML = '';\n",
              "          dataTable['output_type'] = 'display_data';\n",
              "          await google.colab.output.renderOutput(dataTable, element);\n",
              "          const docLink = document.createElement('div');\n",
              "          docLink.innerHTML = docLinkHtml;\n",
              "          element.appendChild(docLink);\n",
              "        }\n",
              "      </script>\n",
              "    </div>\n",
              "  </div>\n",
              "  "
            ]
          },
          "metadata": {},
          "execution_count": 419
        },
        {
          "output_type": "execute_result",
          "data": {
            "text/plain": [
              "   Unnamed: 0  Unnamed: 0.1                           customer_id  \\\n",
              "0           5             5  fffe43004900440035003700330030003600   \n",
              "1           9             9      fffe4300490044003500320033003500   \n",
              "\n",
              "             Name  age gender security_no region_category membership_category  \\\n",
              "0   Evelyne Kinch   17      M     NBV1O8W            Town    Basic Membership   \n",
              "1  Franklin Lurry   22      M     C3B77NU            Town       No Membership   \n",
              "\n",
              "  joining_date joined_through_referral referral_id     preferred_offer_types  \\\n",
              "0   2016-12-04                     Yes    CID53746            Without Offers   \n",
              "1   2015-10-14                     Yes    CID60228  Credit/Debit Card Offers   \n",
              "\n",
              "  medium_of_operation internet_option last_visit_time  days_since_last_login  \\\n",
              "0                   ?     Mobile_Data        08:45:54                   -999   \n",
              "1             Desktop     Fiber_Optic        10:44:01                      4   \n",
              "\n",
              "   avg_time_spent  avg_transaction_value avg_frequency_login_days  \\\n",
              "0           31.02                9948.54                     16.0   \n",
              "1           30.25               19363.60                    Error   \n",
              "\n",
              "   points_in_wallet used_special_discount offer_application_preference  \\\n",
              "0            577.83                   Yes                           No   \n",
              "1            528.66                   Yes                           No   \n",
              "\n",
              "  past_complaint          complaint_status              feedback  churn_score  \\\n",
              "0            Yes  No Information Available  Poor Product Quality            5   \n",
              "1             No            Not Applicable          Poor Website            5   \n",
              "\n",
              "   sentiment                                            content  \\\n",
              "0          2  I just want to say that most Meguiar's product...   \n",
              "1          1  This item is misrepresented.  Meguiar's no lon...   \n",
              "\n",
              "                                             summary  sentiments  \n",
              "0  half of the product leaked before opening...di...           0  \n",
              "1                Meguiar's Gold Class Clear Coat Wax           0  "
            ],
            "text/html": [
              "\n",
              "  <div id=\"df-ca444c8f-9040-489e-8992-5742b2245aba\">\n",
              "    <div class=\"colab-df-container\">\n",
              "      <div>\n",
              "<style scoped>\n",
              "    .dataframe tbody tr th:only-of-type {\n",
              "        vertical-align: middle;\n",
              "    }\n",
              "\n",
              "    .dataframe tbody tr th {\n",
              "        vertical-align: top;\n",
              "    }\n",
              "\n",
              "    .dataframe thead th {\n",
              "        text-align: right;\n",
              "    }\n",
              "</style>\n",
              "<table border=\"1\" class=\"dataframe\">\n",
              "  <thead>\n",
              "    <tr style=\"text-align: right;\">\n",
              "      <th></th>\n",
              "      <th>Unnamed: 0</th>\n",
              "      <th>Unnamed: 0.1</th>\n",
              "      <th>customer_id</th>\n",
              "      <th>Name</th>\n",
              "      <th>age</th>\n",
              "      <th>gender</th>\n",
              "      <th>security_no</th>\n",
              "      <th>region_category</th>\n",
              "      <th>membership_category</th>\n",
              "      <th>joining_date</th>\n",
              "      <th>joined_through_referral</th>\n",
              "      <th>referral_id</th>\n",
              "      <th>preferred_offer_types</th>\n",
              "      <th>medium_of_operation</th>\n",
              "      <th>internet_option</th>\n",
              "      <th>last_visit_time</th>\n",
              "      <th>days_since_last_login</th>\n",
              "      <th>avg_time_spent</th>\n",
              "      <th>avg_transaction_value</th>\n",
              "      <th>avg_frequency_login_days</th>\n",
              "      <th>points_in_wallet</th>\n",
              "      <th>used_special_discount</th>\n",
              "      <th>offer_application_preference</th>\n",
              "      <th>past_complaint</th>\n",
              "      <th>complaint_status</th>\n",
              "      <th>feedback</th>\n",
              "      <th>churn_score</th>\n",
              "      <th>sentiment</th>\n",
              "      <th>content</th>\n",
              "      <th>summary</th>\n",
              "      <th>sentiments</th>\n",
              "    </tr>\n",
              "  </thead>\n",
              "  <tbody>\n",
              "    <tr>\n",
              "      <th>0</th>\n",
              "      <td>5</td>\n",
              "      <td>5</td>\n",
              "      <td>fffe43004900440035003700330030003600</td>\n",
              "      <td>Evelyne Kinch</td>\n",
              "      <td>17</td>\n",
              "      <td>M</td>\n",
              "      <td>NBV1O8W</td>\n",
              "      <td>Town</td>\n",
              "      <td>Basic Membership</td>\n",
              "      <td>2016-12-04</td>\n",
              "      <td>Yes</td>\n",
              "      <td>CID53746</td>\n",
              "      <td>Without Offers</td>\n",
              "      <td>?</td>\n",
              "      <td>Mobile_Data</td>\n",
              "      <td>08:45:54</td>\n",
              "      <td>-999</td>\n",
              "      <td>31.02</td>\n",
              "      <td>9948.54</td>\n",
              "      <td>16.0</td>\n",
              "      <td>577.83</td>\n",
              "      <td>Yes</td>\n",
              "      <td>No</td>\n",
              "      <td>Yes</td>\n",
              "      <td>No Information Available</td>\n",
              "      <td>Poor Product Quality</td>\n",
              "      <td>5</td>\n",
              "      <td>2</td>\n",
              "      <td>I just want to say that most Meguiar's product...</td>\n",
              "      <td>half of the product leaked before opening...di...</td>\n",
              "      <td>0</td>\n",
              "    </tr>\n",
              "    <tr>\n",
              "      <th>1</th>\n",
              "      <td>9</td>\n",
              "      <td>9</td>\n",
              "      <td>fffe4300490044003500320033003500</td>\n",
              "      <td>Franklin Lurry</td>\n",
              "      <td>22</td>\n",
              "      <td>M</td>\n",
              "      <td>C3B77NU</td>\n",
              "      <td>Town</td>\n",
              "      <td>No Membership</td>\n",
              "      <td>2015-10-14</td>\n",
              "      <td>Yes</td>\n",
              "      <td>CID60228</td>\n",
              "      <td>Credit/Debit Card Offers</td>\n",
              "      <td>Desktop</td>\n",
              "      <td>Fiber_Optic</td>\n",
              "      <td>10:44:01</td>\n",
              "      <td>4</td>\n",
              "      <td>30.25</td>\n",
              "      <td>19363.60</td>\n",
              "      <td>Error</td>\n",
              "      <td>528.66</td>\n",
              "      <td>Yes</td>\n",
              "      <td>No</td>\n",
              "      <td>No</td>\n",
              "      <td>Not Applicable</td>\n",
              "      <td>Poor Website</td>\n",
              "      <td>5</td>\n",
              "      <td>1</td>\n",
              "      <td>This item is misrepresented.  Meguiar's no lon...</td>\n",
              "      <td>Meguiar's Gold Class Clear Coat Wax</td>\n",
              "      <td>0</td>\n",
              "    </tr>\n",
              "  </tbody>\n",
              "</table>\n",
              "</div>\n",
              "      <button class=\"colab-df-convert\" onclick=\"convertToInteractive('df-ca444c8f-9040-489e-8992-5742b2245aba')\"\n",
              "              title=\"Convert this dataframe to an interactive table.\"\n",
              "              style=\"display:none;\">\n",
              "        \n",
              "  <svg xmlns=\"http://www.w3.org/2000/svg\" height=\"24px\"viewBox=\"0 0 24 24\"\n",
              "       width=\"24px\">\n",
              "    <path d=\"M0 0h24v24H0V0z\" fill=\"none\"/>\n",
              "    <path d=\"M18.56 5.44l.94 2.06.94-2.06 2.06-.94-2.06-.94-.94-2.06-.94 2.06-2.06.94zm-11 1L8.5 8.5l.94-2.06 2.06-.94-2.06-.94L8.5 2.5l-.94 2.06-2.06.94zm10 10l.94 2.06.94-2.06 2.06-.94-2.06-.94-.94-2.06-.94 2.06-2.06.94z\"/><path d=\"M17.41 7.96l-1.37-1.37c-.4-.4-.92-.59-1.43-.59-.52 0-1.04.2-1.43.59L10.3 9.45l-7.72 7.72c-.78.78-.78 2.05 0 2.83L4 21.41c.39.39.9.59 1.41.59.51 0 1.02-.2 1.41-.59l7.78-7.78 2.81-2.81c.8-.78.8-2.07 0-2.86zM5.41 20L4 18.59l7.72-7.72 1.47 1.35L5.41 20z\"/>\n",
              "  </svg>\n",
              "      </button>\n",
              "      \n",
              "  <style>\n",
              "    .colab-df-container {\n",
              "      display:flex;\n",
              "      flex-wrap:wrap;\n",
              "      gap: 12px;\n",
              "    }\n",
              "\n",
              "    .colab-df-convert {\n",
              "      background-color: #E8F0FE;\n",
              "      border: none;\n",
              "      border-radius: 50%;\n",
              "      cursor: pointer;\n",
              "      display: none;\n",
              "      fill: #1967D2;\n",
              "      height: 32px;\n",
              "      padding: 0 0 0 0;\n",
              "      width: 32px;\n",
              "    }\n",
              "\n",
              "    .colab-df-convert:hover {\n",
              "      background-color: #E2EBFA;\n",
              "      box-shadow: 0px 1px 2px rgba(60, 64, 67, 0.3), 0px 1px 3px 1px rgba(60, 64, 67, 0.15);\n",
              "      fill: #174EA6;\n",
              "    }\n",
              "\n",
              "    [theme=dark] .colab-df-convert {\n",
              "      background-color: #3B4455;\n",
              "      fill: #D2E3FC;\n",
              "    }\n",
              "\n",
              "    [theme=dark] .colab-df-convert:hover {\n",
              "      background-color: #434B5C;\n",
              "      box-shadow: 0px 1px 3px 1px rgba(0, 0, 0, 0.15);\n",
              "      filter: drop-shadow(0px 1px 2px rgba(0, 0, 0, 0.3));\n",
              "      fill: #FFFFFF;\n",
              "    }\n",
              "  </style>\n",
              "\n",
              "      <script>\n",
              "        const buttonEl =\n",
              "          document.querySelector('#df-ca444c8f-9040-489e-8992-5742b2245aba button.colab-df-convert');\n",
              "        buttonEl.style.display =\n",
              "          google.colab.kernel.accessAllowed ? 'block' : 'none';\n",
              "\n",
              "        async function convertToInteractive(key) {\n",
              "          const element = document.querySelector('#df-ca444c8f-9040-489e-8992-5742b2245aba');\n",
              "          const dataTable =\n",
              "            await google.colab.kernel.invokeFunction('convertToInteractive',\n",
              "                                                     [key], {});\n",
              "          if (!dataTable) return;\n",
              "\n",
              "          const docLinkHtml = 'Like what you see? Visit the ' +\n",
              "            '<a target=\"_blank\" href=https://colab.research.google.com/notebooks/data_table.ipynb>data table notebook</a>'\n",
              "            + ' to learn more about interactive tables.';\n",
              "          element.innerHTML = '';\n",
              "          dataTable['output_type'] = 'display_data';\n",
              "          await google.colab.output.renderOutput(dataTable, element);\n",
              "          const docLink = document.createElement('div');\n",
              "          docLink.innerHTML = docLinkHtml;\n",
              "          element.appendChild(docLink);\n",
              "        }\n",
              "      </script>\n",
              "    </div>\n",
              "  </div>\n",
              "  "
            ]
          },
          "metadata": {},
          "execution_count": 419
        }
      ]
    },
    {
      "cell_type": "code",
      "source": [
        "#prints information about the train DataFrame\n",
        "\n",
        "train.info()"
      ],
      "metadata": {
        "colab": {
          "base_uri": "https://localhost:8080/"
        },
        "id": "-MIRgJBe71mz",
        "outputId": "09be4227-d4c6-412d-d6c7-47eac7646742"
      },
      "execution_count": 420,
      "outputs": [
        {
          "output_type": "stream",
          "name": "stdout",
          "text": [
            "<class 'pandas.core.frame.DataFrame'>\n",
            "RangeIndex: 36988 entries, 0 to 36987\n",
            "Data columns (total 29 columns):\n",
            " #   Column                        Non-Null Count  Dtype  \n",
            "---  ------                        --------------  -----  \n",
            " 0   Unnamed: 0                    36988 non-null  int64  \n",
            " 1   customer_id                   36988 non-null  object \n",
            " 2   Name                          36988 non-null  object \n",
            " 3   age                           36988 non-null  int64  \n",
            " 4   gender                        36988 non-null  object \n",
            " 5   security_no                   36988 non-null  object \n",
            " 6   region_category               31562 non-null  object \n",
            " 7   membership_category           36988 non-null  object \n",
            " 8   joining_date                  36988 non-null  object \n",
            " 9   joined_through_referral       36988 non-null  object \n",
            " 10  referral_id                   36988 non-null  object \n",
            " 11  preferred_offer_types         36700 non-null  object \n",
            " 12  medium_of_operation           36988 non-null  object \n",
            " 13  internet_option               36988 non-null  object \n",
            " 14  last_visit_time               36988 non-null  object \n",
            " 15  days_since_last_login         36988 non-null  int64  \n",
            " 16  avg_time_spent                36988 non-null  float64\n",
            " 17  avg_transaction_value         36988 non-null  float64\n",
            " 18  avg_frequency_login_days      36988 non-null  object \n",
            " 19  points_in_wallet              33546 non-null  float64\n",
            " 20  used_special_discount         36988 non-null  object \n",
            " 21  offer_application_preference  36988 non-null  object \n",
            " 22  past_complaint                36988 non-null  object \n",
            " 23  complaint_status              36988 non-null  object \n",
            " 24  feedback                      36988 non-null  object \n",
            " 25  churn_score                   36988 non-null  int64  \n",
            " 26  content                       36988 non-null  object \n",
            " 27  summary                       36988 non-null  object \n",
            " 28  sentiment                     36988 non-null  int64  \n",
            "dtypes: float64(3), int64(5), object(21)\n",
            "memory usage: 8.2+ MB\n"
          ]
        }
      ]
    },
    {
      "cell_type": "code",
      "source": [
        "#prints information about the test DataFrame\n",
        "\n",
        "test.info()"
      ],
      "metadata": {
        "colab": {
          "base_uri": "https://localhost:8080/"
        },
        "id": "gWtA6KCR9q0_",
        "outputId": "43b0644a-e8f7-4271-9026-ec703c024ab0"
      },
      "execution_count": 421,
      "outputs": [
        {
          "output_type": "stream",
          "name": "stdout",
          "text": [
            "<class 'pandas.core.frame.DataFrame'>\n",
            "RangeIndex: 19915 entries, 0 to 19914\n",
            "Data columns (total 31 columns):\n",
            " #   Column                        Non-Null Count  Dtype  \n",
            "---  ------                        --------------  -----  \n",
            " 0   Unnamed: 0                    19915 non-null  int64  \n",
            " 1   Unnamed: 0.1                  19915 non-null  int64  \n",
            " 2   customer_id                   19915 non-null  object \n",
            " 3   Name                          19915 non-null  object \n",
            " 4   age                           19915 non-null  int64  \n",
            " 5   gender                        19915 non-null  object \n",
            " 6   security_no                   19915 non-null  object \n",
            " 7   region_category               16967 non-null  object \n",
            " 8   membership_category           19915 non-null  object \n",
            " 9   joining_date                  19915 non-null  object \n",
            " 10  joined_through_referral       19915 non-null  object \n",
            " 11  referral_id                   19915 non-null  object \n",
            " 12  preferred_offer_types         19756 non-null  object \n",
            " 13  medium_of_operation           19915 non-null  object \n",
            " 14  internet_option               19915 non-null  object \n",
            " 15  last_visit_time               19915 non-null  object \n",
            " 16  days_since_last_login         19915 non-null  int64  \n",
            " 17  avg_time_spent                19915 non-null  float64\n",
            " 18  avg_transaction_value         19915 non-null  float64\n",
            " 19  avg_frequency_login_days      19915 non-null  object \n",
            " 20  points_in_wallet              17952 non-null  float64\n",
            " 21  used_special_discount         19915 non-null  object \n",
            " 22  offer_application_preference  19915 non-null  object \n",
            " 23  past_complaint                19915 non-null  object \n",
            " 24  complaint_status              19915 non-null  object \n",
            " 25  feedback                      19915 non-null  object \n",
            " 26  churn_score                   19915 non-null  int64  \n",
            " 27  sentiment                     19915 non-null  int64  \n",
            " 28  content                       19915 non-null  object \n",
            " 29  summary                       19915 non-null  object \n",
            " 30  sentiments                    19915 non-null  int64  \n",
            "dtypes: float64(3), int64(7), object(21)\n",
            "memory usage: 4.7+ MB\n"
          ]
        }
      ]
    },
    {
      "cell_type": "code",
      "source": [
        "#returns description of the data in the DataFrame\n",
        "\n",
        "train.describe()\n",
        "\n",
        "test.describe()"
      ],
      "metadata": {
        "colab": {
          "base_uri": "https://localhost:8080/",
          "height": 621
        },
        "id": "dDSqTNUP8nKK",
        "outputId": "4a956fe8-8c39-46f2-ab1d-1c364bcf1216"
      },
      "execution_count": 422,
      "outputs": [
        {
          "output_type": "execute_result",
          "data": {
            "text/plain": [
              "          Unnamed: 0           age  days_since_last_login  avg_time_spent  \\\n",
              "count   36988.000000  36988.000000            36988.00000    36988.000000   \n",
              "mean    34284.255326     37.116957              -41.92138      243.479301   \n",
              "std     80161.301833     15.867336              228.83158      398.309191   \n",
              "min         0.000000     10.000000             -999.00000    -2814.109110   \n",
              "25%      4132.000000     23.000000                8.00000       60.075000   \n",
              "50%      8443.500000     37.000000               12.00000      161.765000   \n",
              "75%     15435.250000     51.000000               16.00000      356.530000   \n",
              "max    289063.000000     64.000000               26.00000     3235.578521   \n",
              "\n",
              "       avg_transaction_value  points_in_wallet   churn_score     sentiment  \n",
              "count           36988.000000      33546.000000  36988.000000  36988.000000  \n",
              "mean            29271.780719        686.884840      3.463421      0.785011  \n",
              "std             19445.304446        194.071770      1.409651      0.410820  \n",
              "min               800.460000       -760.661236     -1.000000      0.000000  \n",
              "25%             14178.045000        616.127500      3.000000      1.000000  \n",
              "50%             27554.485000        697.625000      4.000000      1.000000  \n",
              "75%             40858.222500        763.950000      5.000000      1.000000  \n",
              "max             99914.050000       2069.069761      5.000000      1.000000  "
            ],
            "text/html": [
              "\n",
              "  <div id=\"df-1aa75df9-db2e-4fa3-8d6e-72f4d0331b98\">\n",
              "    <div class=\"colab-df-container\">\n",
              "      <div>\n",
              "<style scoped>\n",
              "    .dataframe tbody tr th:only-of-type {\n",
              "        vertical-align: middle;\n",
              "    }\n",
              "\n",
              "    .dataframe tbody tr th {\n",
              "        vertical-align: top;\n",
              "    }\n",
              "\n",
              "    .dataframe thead th {\n",
              "        text-align: right;\n",
              "    }\n",
              "</style>\n",
              "<table border=\"1\" class=\"dataframe\">\n",
              "  <thead>\n",
              "    <tr style=\"text-align: right;\">\n",
              "      <th></th>\n",
              "      <th>Unnamed: 0</th>\n",
              "      <th>age</th>\n",
              "      <th>days_since_last_login</th>\n",
              "      <th>avg_time_spent</th>\n",
              "      <th>avg_transaction_value</th>\n",
              "      <th>points_in_wallet</th>\n",
              "      <th>churn_score</th>\n",
              "      <th>sentiment</th>\n",
              "    </tr>\n",
              "  </thead>\n",
              "  <tbody>\n",
              "    <tr>\n",
              "      <th>count</th>\n",
              "      <td>36988.000000</td>\n",
              "      <td>36988.000000</td>\n",
              "      <td>36988.00000</td>\n",
              "      <td>36988.000000</td>\n",
              "      <td>36988.000000</td>\n",
              "      <td>33546.000000</td>\n",
              "      <td>36988.000000</td>\n",
              "      <td>36988.000000</td>\n",
              "    </tr>\n",
              "    <tr>\n",
              "      <th>mean</th>\n",
              "      <td>34284.255326</td>\n",
              "      <td>37.116957</td>\n",
              "      <td>-41.92138</td>\n",
              "      <td>243.479301</td>\n",
              "      <td>29271.780719</td>\n",
              "      <td>686.884840</td>\n",
              "      <td>3.463421</td>\n",
              "      <td>0.785011</td>\n",
              "    </tr>\n",
              "    <tr>\n",
              "      <th>std</th>\n",
              "      <td>80161.301833</td>\n",
              "      <td>15.867336</td>\n",
              "      <td>228.83158</td>\n",
              "      <td>398.309191</td>\n",
              "      <td>19445.304446</td>\n",
              "      <td>194.071770</td>\n",
              "      <td>1.409651</td>\n",
              "      <td>0.410820</td>\n",
              "    </tr>\n",
              "    <tr>\n",
              "      <th>min</th>\n",
              "      <td>0.000000</td>\n",
              "      <td>10.000000</td>\n",
              "      <td>-999.00000</td>\n",
              "      <td>-2814.109110</td>\n",
              "      <td>800.460000</td>\n",
              "      <td>-760.661236</td>\n",
              "      <td>-1.000000</td>\n",
              "      <td>0.000000</td>\n",
              "    </tr>\n",
              "    <tr>\n",
              "      <th>25%</th>\n",
              "      <td>4132.000000</td>\n",
              "      <td>23.000000</td>\n",
              "      <td>8.00000</td>\n",
              "      <td>60.075000</td>\n",
              "      <td>14178.045000</td>\n",
              "      <td>616.127500</td>\n",
              "      <td>3.000000</td>\n",
              "      <td>1.000000</td>\n",
              "    </tr>\n",
              "    <tr>\n",
              "      <th>50%</th>\n",
              "      <td>8443.500000</td>\n",
              "      <td>37.000000</td>\n",
              "      <td>12.00000</td>\n",
              "      <td>161.765000</td>\n",
              "      <td>27554.485000</td>\n",
              "      <td>697.625000</td>\n",
              "      <td>4.000000</td>\n",
              "      <td>1.000000</td>\n",
              "    </tr>\n",
              "    <tr>\n",
              "      <th>75%</th>\n",
              "      <td>15435.250000</td>\n",
              "      <td>51.000000</td>\n",
              "      <td>16.00000</td>\n",
              "      <td>356.530000</td>\n",
              "      <td>40858.222500</td>\n",
              "      <td>763.950000</td>\n",
              "      <td>5.000000</td>\n",
              "      <td>1.000000</td>\n",
              "    </tr>\n",
              "    <tr>\n",
              "      <th>max</th>\n",
              "      <td>289063.000000</td>\n",
              "      <td>64.000000</td>\n",
              "      <td>26.00000</td>\n",
              "      <td>3235.578521</td>\n",
              "      <td>99914.050000</td>\n",
              "      <td>2069.069761</td>\n",
              "      <td>5.000000</td>\n",
              "      <td>1.000000</td>\n",
              "    </tr>\n",
              "  </tbody>\n",
              "</table>\n",
              "</div>\n",
              "      <button class=\"colab-df-convert\" onclick=\"convertToInteractive('df-1aa75df9-db2e-4fa3-8d6e-72f4d0331b98')\"\n",
              "              title=\"Convert this dataframe to an interactive table.\"\n",
              "              style=\"display:none;\">\n",
              "        \n",
              "  <svg xmlns=\"http://www.w3.org/2000/svg\" height=\"24px\"viewBox=\"0 0 24 24\"\n",
              "       width=\"24px\">\n",
              "    <path d=\"M0 0h24v24H0V0z\" fill=\"none\"/>\n",
              "    <path d=\"M18.56 5.44l.94 2.06.94-2.06 2.06-.94-2.06-.94-.94-2.06-.94 2.06-2.06.94zm-11 1L8.5 8.5l.94-2.06 2.06-.94-2.06-.94L8.5 2.5l-.94 2.06-2.06.94zm10 10l.94 2.06.94-2.06 2.06-.94-2.06-.94-.94-2.06-.94 2.06-2.06.94z\"/><path d=\"M17.41 7.96l-1.37-1.37c-.4-.4-.92-.59-1.43-.59-.52 0-1.04.2-1.43.59L10.3 9.45l-7.72 7.72c-.78.78-.78 2.05 0 2.83L4 21.41c.39.39.9.59 1.41.59.51 0 1.02-.2 1.41-.59l7.78-7.78 2.81-2.81c.8-.78.8-2.07 0-2.86zM5.41 20L4 18.59l7.72-7.72 1.47 1.35L5.41 20z\"/>\n",
              "  </svg>\n",
              "      </button>\n",
              "      \n",
              "  <style>\n",
              "    .colab-df-container {\n",
              "      display:flex;\n",
              "      flex-wrap:wrap;\n",
              "      gap: 12px;\n",
              "    }\n",
              "\n",
              "    .colab-df-convert {\n",
              "      background-color: #E8F0FE;\n",
              "      border: none;\n",
              "      border-radius: 50%;\n",
              "      cursor: pointer;\n",
              "      display: none;\n",
              "      fill: #1967D2;\n",
              "      height: 32px;\n",
              "      padding: 0 0 0 0;\n",
              "      width: 32px;\n",
              "    }\n",
              "\n",
              "    .colab-df-convert:hover {\n",
              "      background-color: #E2EBFA;\n",
              "      box-shadow: 0px 1px 2px rgba(60, 64, 67, 0.3), 0px 1px 3px 1px rgba(60, 64, 67, 0.15);\n",
              "      fill: #174EA6;\n",
              "    }\n",
              "\n",
              "    [theme=dark] .colab-df-convert {\n",
              "      background-color: #3B4455;\n",
              "      fill: #D2E3FC;\n",
              "    }\n",
              "\n",
              "    [theme=dark] .colab-df-convert:hover {\n",
              "      background-color: #434B5C;\n",
              "      box-shadow: 0px 1px 3px 1px rgba(0, 0, 0, 0.15);\n",
              "      filter: drop-shadow(0px 1px 2px rgba(0, 0, 0, 0.3));\n",
              "      fill: #FFFFFF;\n",
              "    }\n",
              "  </style>\n",
              "\n",
              "      <script>\n",
              "        const buttonEl =\n",
              "          document.querySelector('#df-1aa75df9-db2e-4fa3-8d6e-72f4d0331b98 button.colab-df-convert');\n",
              "        buttonEl.style.display =\n",
              "          google.colab.kernel.accessAllowed ? 'block' : 'none';\n",
              "\n",
              "        async function convertToInteractive(key) {\n",
              "          const element = document.querySelector('#df-1aa75df9-db2e-4fa3-8d6e-72f4d0331b98');\n",
              "          const dataTable =\n",
              "            await google.colab.kernel.invokeFunction('convertToInteractive',\n",
              "                                                     [key], {});\n",
              "          if (!dataTable) return;\n",
              "\n",
              "          const docLinkHtml = 'Like what you see? Visit the ' +\n",
              "            '<a target=\"_blank\" href=https://colab.research.google.com/notebooks/data_table.ipynb>data table notebook</a>'\n",
              "            + ' to learn more about interactive tables.';\n",
              "          element.innerHTML = '';\n",
              "          dataTable['output_type'] = 'display_data';\n",
              "          await google.colab.output.renderOutput(dataTable, element);\n",
              "          const docLink = document.createElement('div');\n",
              "          docLink.innerHTML = docLinkHtml;\n",
              "          element.appendChild(docLink);\n",
              "        }\n",
              "      </script>\n",
              "    </div>\n",
              "  </div>\n",
              "  "
            ]
          },
          "metadata": {},
          "execution_count": 422
        },
        {
          "output_type": "execute_result",
          "data": {
            "text/plain": [
              "          Unnamed: 0  Unnamed: 0.1           age  days_since_last_login  \\\n",
              "count   19915.000000  19915.000000  19915.000000           19915.000000   \n",
              "mean    30639.035300   9959.610143     36.885815             -39.226513   \n",
              "std     85394.820438   5750.288683     15.917345             223.295725   \n",
              "min         0.000000      0.000000     10.000000            -999.000000   \n",
              "25%      2114.500000   4979.500000     23.000000               8.000000   \n",
              "50%      4401.000000   9959.000000     37.000000              12.000000   \n",
              "75%      8097.500000  14939.500000     51.000000              16.000000   \n",
              "max    313033.000000  19918.000000     64.000000              26.000000   \n",
              "\n",
              "       avg_time_spent  avg_transaction_value  points_in_wallet   churn_score  \\\n",
              "count    19915.000000           19915.000000      17952.000000  19915.000000   \n",
              "mean       244.143891           29317.282449        685.959734      3.621843   \n",
              "std        403.942806           19509.233395        192.171504      1.190483   \n",
              "min      -2180.780796             803.710000       -465.289977      1.000000   \n",
              "25%         59.360000           14232.645000        615.725000      3.000000   \n",
              "50%        161.240000           27563.530000        698.110000      4.000000   \n",
              "75%        354.195000           40969.400000        764.730000      5.000000   \n",
              "max       3350.060000           99995.030000       2019.671602      5.000000   \n",
              "\n",
              "          sentiment    sentiments  \n",
              "count  19915.000000  19915.000000  \n",
              "mean       4.095004      0.762591  \n",
              "std        1.374605      0.425506  \n",
              "min        1.000000      0.000000  \n",
              "25%        4.000000      1.000000  \n",
              "50%        5.000000      1.000000  \n",
              "75%        5.000000      1.000000  \n",
              "max        5.000000      1.000000  "
            ],
            "text/html": [
              "\n",
              "  <div id=\"df-590ffce9-3b56-47a6-8390-7478a2641787\">\n",
              "    <div class=\"colab-df-container\">\n",
              "      <div>\n",
              "<style scoped>\n",
              "    .dataframe tbody tr th:only-of-type {\n",
              "        vertical-align: middle;\n",
              "    }\n",
              "\n",
              "    .dataframe tbody tr th {\n",
              "        vertical-align: top;\n",
              "    }\n",
              "\n",
              "    .dataframe thead th {\n",
              "        text-align: right;\n",
              "    }\n",
              "</style>\n",
              "<table border=\"1\" class=\"dataframe\">\n",
              "  <thead>\n",
              "    <tr style=\"text-align: right;\">\n",
              "      <th></th>\n",
              "      <th>Unnamed: 0</th>\n",
              "      <th>Unnamed: 0.1</th>\n",
              "      <th>age</th>\n",
              "      <th>days_since_last_login</th>\n",
              "      <th>avg_time_spent</th>\n",
              "      <th>avg_transaction_value</th>\n",
              "      <th>points_in_wallet</th>\n",
              "      <th>churn_score</th>\n",
              "      <th>sentiment</th>\n",
              "      <th>sentiments</th>\n",
              "    </tr>\n",
              "  </thead>\n",
              "  <tbody>\n",
              "    <tr>\n",
              "      <th>count</th>\n",
              "      <td>19915.000000</td>\n",
              "      <td>19915.000000</td>\n",
              "      <td>19915.000000</td>\n",
              "      <td>19915.000000</td>\n",
              "      <td>19915.000000</td>\n",
              "      <td>19915.000000</td>\n",
              "      <td>17952.000000</td>\n",
              "      <td>19915.000000</td>\n",
              "      <td>19915.000000</td>\n",
              "      <td>19915.000000</td>\n",
              "    </tr>\n",
              "    <tr>\n",
              "      <th>mean</th>\n",
              "      <td>30639.035300</td>\n",
              "      <td>9959.610143</td>\n",
              "      <td>36.885815</td>\n",
              "      <td>-39.226513</td>\n",
              "      <td>244.143891</td>\n",
              "      <td>29317.282449</td>\n",
              "      <td>685.959734</td>\n",
              "      <td>3.621843</td>\n",
              "      <td>4.095004</td>\n",
              "      <td>0.762591</td>\n",
              "    </tr>\n",
              "    <tr>\n",
              "      <th>std</th>\n",
              "      <td>85394.820438</td>\n",
              "      <td>5750.288683</td>\n",
              "      <td>15.917345</td>\n",
              "      <td>223.295725</td>\n",
              "      <td>403.942806</td>\n",
              "      <td>19509.233395</td>\n",
              "      <td>192.171504</td>\n",
              "      <td>1.190483</td>\n",
              "      <td>1.374605</td>\n",
              "      <td>0.425506</td>\n",
              "    </tr>\n",
              "    <tr>\n",
              "      <th>min</th>\n",
              "      <td>0.000000</td>\n",
              "      <td>0.000000</td>\n",
              "      <td>10.000000</td>\n",
              "      <td>-999.000000</td>\n",
              "      <td>-2180.780796</td>\n",
              "      <td>803.710000</td>\n",
              "      <td>-465.289977</td>\n",
              "      <td>1.000000</td>\n",
              "      <td>1.000000</td>\n",
              "      <td>0.000000</td>\n",
              "    </tr>\n",
              "    <tr>\n",
              "      <th>25%</th>\n",
              "      <td>2114.500000</td>\n",
              "      <td>4979.500000</td>\n",
              "      <td>23.000000</td>\n",
              "      <td>8.000000</td>\n",
              "      <td>59.360000</td>\n",
              "      <td>14232.645000</td>\n",
              "      <td>615.725000</td>\n",
              "      <td>3.000000</td>\n",
              "      <td>4.000000</td>\n",
              "      <td>1.000000</td>\n",
              "    </tr>\n",
              "    <tr>\n",
              "      <th>50%</th>\n",
              "      <td>4401.000000</td>\n",
              "      <td>9959.000000</td>\n",
              "      <td>37.000000</td>\n",
              "      <td>12.000000</td>\n",
              "      <td>161.240000</td>\n",
              "      <td>27563.530000</td>\n",
              "      <td>698.110000</td>\n",
              "      <td>4.000000</td>\n",
              "      <td>5.000000</td>\n",
              "      <td>1.000000</td>\n",
              "    </tr>\n",
              "    <tr>\n",
              "      <th>75%</th>\n",
              "      <td>8097.500000</td>\n",
              "      <td>14939.500000</td>\n",
              "      <td>51.000000</td>\n",
              "      <td>16.000000</td>\n",
              "      <td>354.195000</td>\n",
              "      <td>40969.400000</td>\n",
              "      <td>764.730000</td>\n",
              "      <td>5.000000</td>\n",
              "      <td>5.000000</td>\n",
              "      <td>1.000000</td>\n",
              "    </tr>\n",
              "    <tr>\n",
              "      <th>max</th>\n",
              "      <td>313033.000000</td>\n",
              "      <td>19918.000000</td>\n",
              "      <td>64.000000</td>\n",
              "      <td>26.000000</td>\n",
              "      <td>3350.060000</td>\n",
              "      <td>99995.030000</td>\n",
              "      <td>2019.671602</td>\n",
              "      <td>5.000000</td>\n",
              "      <td>5.000000</td>\n",
              "      <td>1.000000</td>\n",
              "    </tr>\n",
              "  </tbody>\n",
              "</table>\n",
              "</div>\n",
              "      <button class=\"colab-df-convert\" onclick=\"convertToInteractive('df-590ffce9-3b56-47a6-8390-7478a2641787')\"\n",
              "              title=\"Convert this dataframe to an interactive table.\"\n",
              "              style=\"display:none;\">\n",
              "        \n",
              "  <svg xmlns=\"http://www.w3.org/2000/svg\" height=\"24px\"viewBox=\"0 0 24 24\"\n",
              "       width=\"24px\">\n",
              "    <path d=\"M0 0h24v24H0V0z\" fill=\"none\"/>\n",
              "    <path d=\"M18.56 5.44l.94 2.06.94-2.06 2.06-.94-2.06-.94-.94-2.06-.94 2.06-2.06.94zm-11 1L8.5 8.5l.94-2.06 2.06-.94-2.06-.94L8.5 2.5l-.94 2.06-2.06.94zm10 10l.94 2.06.94-2.06 2.06-.94-2.06-.94-.94-2.06-.94 2.06-2.06.94z\"/><path d=\"M17.41 7.96l-1.37-1.37c-.4-.4-.92-.59-1.43-.59-.52 0-1.04.2-1.43.59L10.3 9.45l-7.72 7.72c-.78.78-.78 2.05 0 2.83L4 21.41c.39.39.9.59 1.41.59.51 0 1.02-.2 1.41-.59l7.78-7.78 2.81-2.81c.8-.78.8-2.07 0-2.86zM5.41 20L4 18.59l7.72-7.72 1.47 1.35L5.41 20z\"/>\n",
              "  </svg>\n",
              "      </button>\n",
              "      \n",
              "  <style>\n",
              "    .colab-df-container {\n",
              "      display:flex;\n",
              "      flex-wrap:wrap;\n",
              "      gap: 12px;\n",
              "    }\n",
              "\n",
              "    .colab-df-convert {\n",
              "      background-color: #E8F0FE;\n",
              "      border: none;\n",
              "      border-radius: 50%;\n",
              "      cursor: pointer;\n",
              "      display: none;\n",
              "      fill: #1967D2;\n",
              "      height: 32px;\n",
              "      padding: 0 0 0 0;\n",
              "      width: 32px;\n",
              "    }\n",
              "\n",
              "    .colab-df-convert:hover {\n",
              "      background-color: #E2EBFA;\n",
              "      box-shadow: 0px 1px 2px rgba(60, 64, 67, 0.3), 0px 1px 3px 1px rgba(60, 64, 67, 0.15);\n",
              "      fill: #174EA6;\n",
              "    }\n",
              "\n",
              "    [theme=dark] .colab-df-convert {\n",
              "      background-color: #3B4455;\n",
              "      fill: #D2E3FC;\n",
              "    }\n",
              "\n",
              "    [theme=dark] .colab-df-convert:hover {\n",
              "      background-color: #434B5C;\n",
              "      box-shadow: 0px 1px 3px 1px rgba(0, 0, 0, 0.15);\n",
              "      filter: drop-shadow(0px 1px 2px rgba(0, 0, 0, 0.3));\n",
              "      fill: #FFFFFF;\n",
              "    }\n",
              "  </style>\n",
              "\n",
              "      <script>\n",
              "        const buttonEl =\n",
              "          document.querySelector('#df-590ffce9-3b56-47a6-8390-7478a2641787 button.colab-df-convert');\n",
              "        buttonEl.style.display =\n",
              "          google.colab.kernel.accessAllowed ? 'block' : 'none';\n",
              "\n",
              "        async function convertToInteractive(key) {\n",
              "          const element = document.querySelector('#df-590ffce9-3b56-47a6-8390-7478a2641787');\n",
              "          const dataTable =\n",
              "            await google.colab.kernel.invokeFunction('convertToInteractive',\n",
              "                                                     [key], {});\n",
              "          if (!dataTable) return;\n",
              "\n",
              "          const docLinkHtml = 'Like what you see? Visit the ' +\n",
              "            '<a target=\"_blank\" href=https://colab.research.google.com/notebooks/data_table.ipynb>data table notebook</a>'\n",
              "            + ' to learn more about interactive tables.';\n",
              "          element.innerHTML = '';\n",
              "          dataTable['output_type'] = 'display_data';\n",
              "          await google.colab.output.renderOutput(dataTable, element);\n",
              "          const docLink = document.createElement('div');\n",
              "          docLink.innerHTML = docLinkHtml;\n",
              "          element.appendChild(docLink);\n",
              "        }\n",
              "      </script>\n",
              "    </div>\n",
              "  </div>\n",
              "  "
            ]
          },
          "metadata": {},
          "execution_count": 422
        }
      ]
    },
    {
      "cell_type": "code",
      "source": [
        "# to find out the data types of the various columns in train dataset\n",
        "\n",
        "train.dtypes\n"
      ],
      "metadata": {
        "colab": {
          "base_uri": "https://localhost:8080/"
        },
        "id": "YOcOg--88pw7",
        "outputId": "2505c0cf-e253-4264-920e-a5aa30d07f09"
      },
      "execution_count": 423,
      "outputs": [
        {
          "output_type": "execute_result",
          "data": {
            "text/plain": [
              "Unnamed: 0                        int64\n",
              "customer_id                      object\n",
              "Name                             object\n",
              "age                               int64\n",
              "gender                           object\n",
              "security_no                      object\n",
              "region_category                  object\n",
              "membership_category              object\n",
              "joining_date                     object\n",
              "joined_through_referral          object\n",
              "referral_id                      object\n",
              "preferred_offer_types            object\n",
              "medium_of_operation              object\n",
              "internet_option                  object\n",
              "last_visit_time                  object\n",
              "days_since_last_login             int64\n",
              "avg_time_spent                  float64\n",
              "avg_transaction_value           float64\n",
              "avg_frequency_login_days         object\n",
              "points_in_wallet                float64\n",
              "used_special_discount            object\n",
              "offer_application_preference     object\n",
              "past_complaint                   object\n",
              "complaint_status                 object\n",
              "feedback                         object\n",
              "churn_score                       int64\n",
              "content                          object\n",
              "summary                          object\n",
              "sentiment                         int64\n",
              "dtype: object"
            ]
          },
          "metadata": {},
          "execution_count": 423
        }
      ]
    },
    {
      "cell_type": "code",
      "source": [
        "# to find out the data types of the various columns in test dataset\n",
        "\n",
        "test.dtypes"
      ],
      "metadata": {
        "colab": {
          "base_uri": "https://localhost:8080/"
        },
        "id": "Ej2x1YPA8sb3",
        "outputId": "9a7d0797-266b-411b-d785-a359bbe485f4"
      },
      "execution_count": 424,
      "outputs": [
        {
          "output_type": "execute_result",
          "data": {
            "text/plain": [
              "Unnamed: 0                        int64\n",
              "Unnamed: 0.1                      int64\n",
              "customer_id                      object\n",
              "Name                             object\n",
              "age                               int64\n",
              "gender                           object\n",
              "security_no                      object\n",
              "region_category                  object\n",
              "membership_category              object\n",
              "joining_date                     object\n",
              "joined_through_referral          object\n",
              "referral_id                      object\n",
              "preferred_offer_types            object\n",
              "medium_of_operation              object\n",
              "internet_option                  object\n",
              "last_visit_time                  object\n",
              "days_since_last_login             int64\n",
              "avg_time_spent                  float64\n",
              "avg_transaction_value           float64\n",
              "avg_frequency_login_days         object\n",
              "points_in_wallet                float64\n",
              "used_special_discount            object\n",
              "offer_application_preference     object\n",
              "past_complaint                   object\n",
              "complaint_status                 object\n",
              "feedback                         object\n",
              "churn_score                       int64\n",
              "sentiment                         int64\n",
              "content                          object\n",
              "summary                          object\n",
              "sentiments                        int64\n",
              "dtype: object"
            ]
          },
          "metadata": {},
          "execution_count": 424
        }
      ]
    },
    {
      "cell_type": "code",
      "source": [
        "#number of rows and columns in train dataset\n",
        "\n",
        "train.shape"
      ],
      "metadata": {
        "colab": {
          "base_uri": "https://localhost:8080/"
        },
        "id": "XuIPDs1g8yI1",
        "outputId": "ddee7087-0d26-4e94-8242-a9458906193a"
      },
      "execution_count": 425,
      "outputs": [
        {
          "output_type": "execute_result",
          "data": {
            "text/plain": [
              "(36988, 29)"
            ]
          },
          "metadata": {},
          "execution_count": 425
        }
      ]
    },
    {
      "cell_type": "code",
      "source": [
        "#number of rows and columns in test dataset\n",
        "\n",
        "test.shape"
      ],
      "metadata": {
        "colab": {
          "base_uri": "https://localhost:8080/"
        },
        "id": "w0TOr0J286ni",
        "outputId": "3f53f5b4-5564-44a6-bdbe-81537022bd4d"
      },
      "execution_count": 426,
      "outputs": [
        {
          "output_type": "execute_result",
          "data": {
            "text/plain": [
              "(19915, 31)"
            ]
          },
          "metadata": {},
          "execution_count": 426
        }
      ]
    },
    {
      "cell_type": "code",
      "source": [
        "# the column names in the train dataset\n",
        "\n",
        "train.columns"
      ],
      "metadata": {
        "colab": {
          "base_uri": "https://localhost:8080/"
        },
        "id": "ipB00_wK88_e",
        "outputId": "6ca082ad-1f2b-4478-cb71-cc4846d27c9d"
      },
      "execution_count": 427,
      "outputs": [
        {
          "output_type": "execute_result",
          "data": {
            "text/plain": [
              "Index(['Unnamed: 0', 'customer_id', 'Name', 'age', 'gender', 'security_no',\n",
              "       'region_category', 'membership_category', 'joining_date',\n",
              "       'joined_through_referral', 'referral_id', 'preferred_offer_types',\n",
              "       'medium_of_operation', 'internet_option', 'last_visit_time',\n",
              "       'days_since_last_login', 'avg_time_spent', 'avg_transaction_value',\n",
              "       'avg_frequency_login_days', 'points_in_wallet', 'used_special_discount',\n",
              "       'offer_application_preference', 'past_complaint', 'complaint_status',\n",
              "       'feedback', 'churn_score', 'content', 'summary', 'sentiment'],\n",
              "      dtype='object')"
            ]
          },
          "metadata": {},
          "execution_count": 427
        }
      ]
    },
    {
      "cell_type": "code",
      "source": [
        "# the column names in the test dataset\n",
        "\n",
        "test.columns"
      ],
      "metadata": {
        "colab": {
          "base_uri": "https://localhost:8080/"
        },
        "id": "CVDQ54Lk8_m4",
        "outputId": "792feb32-b450-4f09-ecdf-52ab23d0081e"
      },
      "execution_count": 428,
      "outputs": [
        {
          "output_type": "execute_result",
          "data": {
            "text/plain": [
              "Index(['Unnamed: 0', 'Unnamed: 0.1', 'customer_id', 'Name', 'age', 'gender',\n",
              "       'security_no', 'region_category', 'membership_category', 'joining_date',\n",
              "       'joined_through_referral', 'referral_id', 'preferred_offer_types',\n",
              "       'medium_of_operation', 'internet_option', 'last_visit_time',\n",
              "       'days_since_last_login', 'avg_time_spent', 'avg_transaction_value',\n",
              "       'avg_frequency_login_days', 'points_in_wallet', 'used_special_discount',\n",
              "       'offer_application_preference', 'past_complaint', 'complaint_status',\n",
              "       'feedback', 'churn_score', 'sentiment', 'content', 'summary',\n",
              "       'sentiments'],\n",
              "      dtype='object')"
            ]
          },
          "metadata": {},
          "execution_count": 428
        }
      ]
    },
    {
      "cell_type": "code",
      "source": [
        "import seaborn as sns"
      ],
      "metadata": {
        "id": "I3_vHocS92SK"
      },
      "execution_count": 429,
      "outputs": []
    },
    {
      "cell_type": "code",
      "source": [
        "# to check if there are any null values in the train dataset\n",
        "train.isnull().sum()"
      ],
      "metadata": {
        "colab": {
          "base_uri": "https://localhost:8080/"
        },
        "id": "a5ZjkZri9B96",
        "outputId": "b10b9034-4437-401d-8494-06e57d24e67d"
      },
      "execution_count": 430,
      "outputs": [
        {
          "output_type": "execute_result",
          "data": {
            "text/plain": [
              "Unnamed: 0                         0\n",
              "customer_id                        0\n",
              "Name                               0\n",
              "age                                0\n",
              "gender                             0\n",
              "security_no                        0\n",
              "region_category                 5426\n",
              "membership_category                0\n",
              "joining_date                       0\n",
              "joined_through_referral            0\n",
              "referral_id                        0\n",
              "preferred_offer_types            288\n",
              "medium_of_operation                0\n",
              "internet_option                    0\n",
              "last_visit_time                    0\n",
              "days_since_last_login              0\n",
              "avg_time_spent                     0\n",
              "avg_transaction_value              0\n",
              "avg_frequency_login_days           0\n",
              "points_in_wallet                3442\n",
              "used_special_discount              0\n",
              "offer_application_preference       0\n",
              "past_complaint                     0\n",
              "complaint_status                   0\n",
              "feedback                           0\n",
              "churn_score                        0\n",
              "content                            0\n",
              "summary                            0\n",
              "sentiment                          0\n",
              "dtype: int64"
            ]
          },
          "metadata": {},
          "execution_count": 430
        }
      ]
    },
    {
      "cell_type": "code",
      "source": [
        "sns.heatmap(train.isnull(), yticklabels=False,cbar=False, cmap='viridis')\n",
        "#to visually show the null values"
      ],
      "metadata": {
        "colab": {
          "base_uri": "https://localhost:8080/",
          "height": 415
        },
        "id": "OhaU5QND99-b",
        "outputId": "64a4fb18-c94d-437c-d891-6411eb2127c4"
      },
      "execution_count": 431,
      "outputs": [
        {
          "output_type": "execute_result",
          "data": {
            "text/plain": [
              "<matplotlib.axes._subplots.AxesSubplot at 0x7fcb0603e0a0>"
            ]
          },
          "metadata": {},
          "execution_count": 431
        },
        {
          "output_type": "display_data",
          "data": {
            "text/plain": [
              "<Figure size 432x288 with 1 Axes>"
            ],
            "image/png": "[encoded data removed]"
          },
          "metadata": {
            "needs_background": "light"
          }
        }
      ]
    },
    {
      "cell_type": "code",
      "source": [
        "# to check if there are any null values in the test dataset\n",
        "\n",
        "test.isnull().sum()\n",
        "\n"
      ],
      "metadata": {
        "colab": {
          "base_uri": "https://localhost:8080/"
        },
        "id": "FwPA3_8S9EdY",
        "outputId": "932e90a3-bd39-4b6d-af23-b1a7711b1de5"
      },
      "execution_count": 432,
      "outputs": [
        {
          "output_type": "execute_result",
          "data": {
            "text/plain": [
              "Unnamed: 0                         0\n",
              "Unnamed: 0.1                       0\n",
              "customer_id                        0\n",
              "Name                               0\n",
              "age                                0\n",
              "gender                             0\n",
              "security_no                        0\n",
              "region_category                 2948\n",
              "membership_category                0\n",
              "joining_date                       0\n",
              "joined_through_referral            0\n",
              "referral_id                        0\n",
              "preferred_offer_types            159\n",
              "medium_of_operation                0\n",
              "internet_option                    0\n",
              "last_visit_time                    0\n",
              "days_since_last_login              0\n",
              "avg_time_spent                     0\n",
              "avg_transaction_value              0\n",
              "avg_frequency_login_days           0\n",
              "points_in_wallet                1963\n",
              "used_special_discount              0\n",
              "offer_application_preference       0\n",
              "past_complaint                     0\n",
              "complaint_status                   0\n",
              "feedback                           0\n",
              "churn_score                        0\n",
              "sentiment                          0\n",
              "content                            0\n",
              "summary                            0\n",
              "sentiments                         0\n",
              "dtype: int64"
            ]
          },
          "metadata": {},
          "execution_count": 432
        }
      ]
    },
    {
      "cell_type": "code",
      "source": [
        "sns.heatmap(test.isnull(), yticklabels=False,cbar=False, cmap='viridis')\n",
        "#to visually show the null values"
      ],
      "metadata": {
        "colab": {
          "base_uri": "https://localhost:8080/",
          "height": 415
        },
        "id": "_rU0xi2I9Gje",
        "outputId": "672f16b5-b191-4783-da44-1ca79c1978aa"
      },
      "execution_count": 433,
      "outputs": [
        {
          "output_type": "execute_result",
          "data": {
            "text/plain": [
              "<matplotlib.axes._subplots.AxesSubplot at 0x7fcb05fa4cd0>"
            ]
          },
          "metadata": {},
          "execution_count": 433
        },
        {
          "output_type": "display_data",
          "data": {
            "text/plain": [
              "<Figure size 432x288 with 1 Axes>"
            ],
            "image/png": "[encoded data removed]"
          },
          "metadata": {
            "needs_background": "light"
          }
        }
      ]
    },
    {
      "cell_type": "code",
      "source": [
        "#to get a sample of the values in the following columns in test dataset\n",
        "test['points_in_wallet']   \n",
        "print(\"-----\\n\")\n",
        "test['preferred_offer_types']      \n",
        "print(\"-----\\n\")      \n",
        "test['region_category']"
      ],
      "metadata": {
        "colab": {
          "base_uri": "https://localhost:8080/"
        },
        "id": "QDpc83QDKDMa",
        "outputId": "e307db1e-98a3-4509-969e-45d383ec2432"
      },
      "execution_count": 434,
      "outputs": [
        {
          "output_type": "execute_result",
          "data": {
            "text/plain": [
              "0         577.830000\n",
              "1         528.660000\n",
              "2         613.790000\n",
              "3         520.360000\n",
              "4         523.410000\n",
              "            ...     \n",
              "19910     798.880000\n",
              "19911     773.850000\n",
              "19912     796.360000\n",
              "19913     708.120000\n",
              "19914    1193.689813\n",
              "Name: points_in_wallet, Length: 19915, dtype: float64"
            ]
          },
          "metadata": {},
          "execution_count": 434
        },
        {
          "output_type": "stream",
          "name": "stdout",
          "text": [
            "-----\n",
            "\n"
          ]
        },
        {
          "output_type": "execute_result",
          "data": {
            "text/plain": [
              "0                  Without Offers\n",
              "1        Credit/Debit Card Offers\n",
              "2        Credit/Debit Card Offers\n",
              "3                  Without Offers\n",
              "4        Credit/Debit Card Offers\n",
              "                   ...           \n",
              "19910    Credit/Debit Card Offers\n",
              "19911    Credit/Debit Card Offers\n",
              "19912       Gift Vouchers/Coupons\n",
              "19913              Without Offers\n",
              "19914       Gift Vouchers/Coupons\n",
              "Name: preferred_offer_types, Length: 19915, dtype: object"
            ]
          },
          "metadata": {},
          "execution_count": 434
        },
        {
          "output_type": "stream",
          "name": "stdout",
          "text": [
            "-----\n",
            "\n"
          ]
        },
        {
          "output_type": "execute_result",
          "data": {
            "text/plain": [
              "0           Town\n",
              "1           Town\n",
              "2        Village\n",
              "3           Town\n",
              "4           City\n",
              "          ...   \n",
              "19910       Town\n",
              "19911       Town\n",
              "19912       City\n",
              "19913        NaN\n",
              "19914       Town\n",
              "Name: region_category, Length: 19915, dtype: object"
            ]
          },
          "metadata": {},
          "execution_count": 434
        }
      ]
    },
    {
      "cell_type": "code",
      "source": [
        "#to get a sample of the values in the following columns in train dataset\n",
        "\n",
        "train['points_in_wallet']   \n",
        "print(\"-----\\n\")\n",
        "train['preferred_offer_types']      \n",
        "print(\"-----\\n\")      \n",
        "train['region_category']"
      ],
      "metadata": {
        "colab": {
          "base_uri": "https://localhost:8080/"
        },
        "id": "Bvt4LDseKIkZ",
        "outputId": "d7e37489-5230-4a68-fe55-a2391b710b35"
      },
      "execution_count": 435,
      "outputs": [
        {
          "output_type": "execute_result",
          "data": {
            "text/plain": [
              "0         500.690000\n",
              "1         567.660000\n",
              "2         663.060000\n",
              "3         568.080000\n",
              "4         699.700000\n",
              "            ...     \n",
              "36983    1224.393346\n",
              "36984    1011.270354\n",
              "36985     703.030000\n",
              "36986     748.570000\n",
              "36987     197.264414\n",
              "Name: points_in_wallet, Length: 36988, dtype: float64"
            ]
          },
          "metadata": {},
          "execution_count": 435
        },
        {
          "output_type": "stream",
          "name": "stdout",
          "text": [
            "-----\n",
            "\n"
          ]
        },
        {
          "output_type": "execute_result",
          "data": {
            "text/plain": [
              "0           Gift Vouchers/Coupons\n",
              "1           Gift Vouchers/Coupons\n",
              "2        Credit/Debit Card Offers\n",
              "3        Credit/Debit Card Offers\n",
              "4           Gift Vouchers/Coupons\n",
              "                   ...           \n",
              "36983    Credit/Debit Card Offers\n",
              "36984    Credit/Debit Card Offers\n",
              "36985       Gift Vouchers/Coupons\n",
              "36986    Credit/Debit Card Offers\n",
              "36987       Gift Vouchers/Coupons\n",
              "Name: preferred_offer_types, Length: 36988, dtype: object"
            ]
          },
          "metadata": {},
          "execution_count": 435
        },
        {
          "output_type": "stream",
          "name": "stdout",
          "text": [
            "-----\n",
            "\n"
          ]
        },
        {
          "output_type": "execute_result",
          "data": {
            "text/plain": [
              "0           Town\n",
              "1           City\n",
              "2           City\n",
              "3            NaN\n",
              "4        Village\n",
              "          ...   \n",
              "36983       Town\n",
              "36984       City\n",
              "36985        NaN\n",
              "36986       Town\n",
              "36987    Village\n",
              "Name: region_category, Length: 36988, dtype: object"
            ]
          },
          "metadata": {},
          "execution_count": 435
        }
      ]
    },
    {
      "cell_type": "code",
      "source": [
        "# to view the column names in the test dataset\n",
        "test.columns"
      ],
      "metadata": {
        "colab": {
          "base_uri": "https://localhost:8080/"
        },
        "id": "FzxzbjELMd5R",
        "outputId": "9ca4a8fe-2c16-488a-d716-7139ff5f2433"
      },
      "execution_count": 436,
      "outputs": [
        {
          "output_type": "execute_result",
          "data": {
            "text/plain": [
              "Index(['Unnamed: 0', 'Unnamed: 0.1', 'customer_id', 'Name', 'age', 'gender',\n",
              "       'security_no', 'region_category', 'membership_category', 'joining_date',\n",
              "       'joined_through_referral', 'referral_id', 'preferred_offer_types',\n",
              "       'medium_of_operation', 'internet_option', 'last_visit_time',\n",
              "       'days_since_last_login', 'avg_time_spent', 'avg_transaction_value',\n",
              "       'avg_frequency_login_days', 'points_in_wallet', 'used_special_discount',\n",
              "       'offer_application_preference', 'past_complaint', 'complaint_status',\n",
              "       'feedback', 'churn_score', 'sentiment', 'content', 'summary',\n",
              "       'sentiments'],\n",
              "      dtype='object')"
            ]
          },
          "metadata": {},
          "execution_count": 436
        }
      ]
    },
    {
      "cell_type": "code",
      "source": [
        "# Dropping the irrelevant columns in test dataset\n",
        "\n",
        "test = test.drop('Unnamed: 0.1', axis=1)\n",
        "test = test.drop('preferred_offer_types', axis=1)\n",
        "test = test.drop('sentiments', axis=1)\n",
        "test = test.drop('medium_of_operation', axis=1)\n",
        "test = test.drop('internet_option', axis=1)\n",
        "test = test.drop('days_since_last_login', axis=1)\n",
        "test = test.drop('avg_time_spent', axis=1)\n",
        "test = test.drop('avg_frequency_login_days', axis=1)\n",
        "test = test.drop('offer_application_preference', axis=1)\n",
        "test = test.drop('joined_through_referral', axis=1)\n",
        "test = test.drop('referral_id', axis=1)\n",
        "test = test.drop('Unnamed: 0', axis=1)\n",
        "test = test.drop('customer_id', axis=1)\n",
        "test = test.drop('joining_date', axis=1)\n",
        "test = test.drop('last_visit_time', axis=1)\n",
        "\n",
        "\n"
      ],
      "metadata": {
        "id": "q1LoiSm2MGHx"
      },
      "execution_count": 437,
      "outputs": []
    },
    {
      "cell_type": "code",
      "source": [
        "test.columns"
      ],
      "metadata": {
        "colab": {
          "base_uri": "https://localhost:8080/"
        },
        "id": "q4_lWAFvMtRj",
        "outputId": "44c93e1b-f24a-4ef3-dfa5-c4f82bec3862"
      },
      "execution_count": 438,
      "outputs": [
        {
          "output_type": "execute_result",
          "data": {
            "text/plain": [
              "Index(['Name', 'age', 'gender', 'security_no', 'region_category',\n",
              "       'membership_category', 'avg_transaction_value', 'points_in_wallet',\n",
              "       'used_special_discount', 'past_complaint', 'complaint_status',\n",
              "       'feedback', 'churn_score', 'sentiment', 'content', 'summary'],\n",
              "      dtype='object')"
            ]
          },
          "metadata": {},
          "execution_count": 438
        }
      ]
    },
    {
      "cell_type": "code",
      "source": [
        "test.shape\n",
        "train.shape"
      ],
      "metadata": {
        "colab": {
          "base_uri": "https://localhost:8080/"
        },
        "id": "oUgyeCvMMwRV",
        "outputId": "6343df85-9d95-4958-ff47-543ac240c40d"
      },
      "execution_count": 439,
      "outputs": [
        {
          "output_type": "execute_result",
          "data": {
            "text/plain": [
              "(19915, 16)"
            ]
          },
          "metadata": {},
          "execution_count": 439
        },
        {
          "output_type": "execute_result",
          "data": {
            "text/plain": [
              "(36988, 29)"
            ]
          },
          "metadata": {},
          "execution_count": 439
        }
      ]
    },
    {
      "cell_type": "code",
      "source": [
        "# Dropping the irrelevant columns in test dataset\n",
        "\n",
        "train = train.drop('preferred_offer_types', axis=1)\n",
        "train = train.drop('medium_of_operation', axis=1)\n",
        "train = train.drop('internet_option', axis=1)\n",
        "train = train.drop('days_since_last_login', axis=1)\n",
        "train = train.drop('avg_time_spent', axis=1)\n",
        "train = train.drop('avg_frequency_login_days', axis=1)\n",
        "train = train.drop('offer_application_preference', axis=1)\n",
        "train = train.drop('joined_through_referral', axis=1)\n",
        "train = train.drop('referral_id', axis=1)\n",
        "train = train.drop('Unnamed: 0', axis=1)\n",
        "train = train.drop('customer_id', axis=1)\n",
        "train = train.drop('joining_date', axis=1)\n",
        "train = train.drop('last_visit_time', axis=1)\n"
      ],
      "metadata": {
        "id": "3HcjNzSEOhIV"
      },
      "execution_count": 440,
      "outputs": []
    },
    {
      "cell_type": "markdown",
      "source": [
        "NOTE- We need to take care of the missing values in the these two columns in both test and train dataset, i.e. region category and points_in_wallet"
      ],
      "metadata": {
        "id": "4BE7nwyuQwfN"
      }
    },
    {
      "cell_type": "code",
      "source": [
        "#Filling missing values in test dataset-\n",
        "def fill_missing(test):\n",
        "    test[\"region_category\"].fillna(value=\"unknown\", inplace=True)\n",
        "    test[\"points_in_wallet\"].fillna(value=\"0\", inplace=True)\n",
        "    return (test)"
      ],
      "metadata": {
        "id": "KbBtusNsRBNI"
      },
      "execution_count": 441,
      "outputs": []
    },
    {
      "cell_type": "code",
      "source": [
        "test = fill_missing(test)"
      ],
      "metadata": {
        "id": "ivjH8jLdRcXY"
      },
      "execution_count": 442,
      "outputs": []
    },
    {
      "cell_type": "code",
      "source": [
        "# checking if missing values have been added or not\n",
        "test.isnull().sum()"
      ],
      "metadata": {
        "colab": {
          "base_uri": "https://localhost:8080/"
        },
        "id": "WzoZIthERlMB",
        "outputId": "107b1fc7-2494-4f6b-9461-b37c32b8afa1"
      },
      "execution_count": 443,
      "outputs": [
        {
          "output_type": "execute_result",
          "data": {
            "text/plain": [
              "Name                     0\n",
              "age                      0\n",
              "gender                   0\n",
              "security_no              0\n",
              "region_category          0\n",
              "membership_category      0\n",
              "avg_transaction_value    0\n",
              "points_in_wallet         0\n",
              "used_special_discount    0\n",
              "past_complaint           0\n",
              "complaint_status         0\n",
              "feedback                 0\n",
              "churn_score              0\n",
              "sentiment                0\n",
              "content                  0\n",
              "summary                  0\n",
              "dtype: int64"
            ]
          },
          "metadata": {},
          "execution_count": 443
        }
      ]
    },
    {
      "cell_type": "code",
      "source": [
        "#Filling missing values in train dataset-\n",
        "def fill_missing(train):\n",
        "    train[\"region_category\"].fillna(value=\"unknown\", inplace=True)\n",
        "    train[\"points_in_wallet\"].fillna(value=\"0\", inplace=True)\n",
        "    return (train)"
      ],
      "metadata": {
        "id": "BHfbLZKDRoh5"
      },
      "execution_count": 444,
      "outputs": []
    },
    {
      "cell_type": "code",
      "source": [
        "train = fill_missing(train)"
      ],
      "metadata": {
        "id": "XKRZbxtzR5Gr"
      },
      "execution_count": 445,
      "outputs": []
    },
    {
      "cell_type": "code",
      "source": [
        "# checking if missing values have been added or not\n",
        "\n",
        "train.isnull().sum()"
      ],
      "metadata": {
        "colab": {
          "base_uri": "https://localhost:8080/"
        },
        "id": "x00QbEQOR8vp",
        "outputId": "db0604f5-4317-410e-af4e-20596bb54e24"
      },
      "execution_count": 446,
      "outputs": [
        {
          "output_type": "execute_result",
          "data": {
            "text/plain": [
              "Name                     0\n",
              "age                      0\n",
              "gender                   0\n",
              "security_no              0\n",
              "region_category          0\n",
              "membership_category      0\n",
              "avg_transaction_value    0\n",
              "points_in_wallet         0\n",
              "used_special_discount    0\n",
              "past_complaint           0\n",
              "complaint_status         0\n",
              "feedback                 0\n",
              "churn_score              0\n",
              "content                  0\n",
              "summary                  0\n",
              "sentiment                0\n",
              "dtype: int64"
            ]
          },
          "metadata": {},
          "execution_count": 446
        }
      ]
    },
    {
      "cell_type": "code",
      "source": [
        "train.columns"
      ],
      "metadata": {
        "colab": {
          "base_uri": "https://localhost:8080/"
        },
        "id": "d4xPOy223sEN",
        "outputId": "4f95def6-c8f5-4f07-f728-e39b8699abb1"
      },
      "execution_count": 447,
      "outputs": [
        {
          "output_type": "execute_result",
          "data": {
            "text/plain": [
              "Index(['Name', 'age', 'gender', 'security_no', 'region_category',\n",
              "       'membership_category', 'avg_transaction_value', 'points_in_wallet',\n",
              "       'used_special_discount', 'past_complaint', 'complaint_status',\n",
              "       'feedback', 'churn_score', 'content', 'summary', 'sentiment'],\n",
              "      dtype='object')"
            ]
          },
          "metadata": {},
          "execution_count": 447
        }
      ]
    },
    {
      "cell_type": "markdown",
      "source": [
        "### Data Visualization"
      ],
      "metadata": {
        "id": "2YFqfmRr3mKR"
      }
    },
    {
      "cell_type": "code",
      "source": [
        "# The membership category for the members\n",
        "sns.countplot(x='membership_category',data=train)\n",
        "sns.set_style(\"whitegrid\")"
      ],
      "metadata": {
        "colab": {
          "base_uri": "https://localhost:8080/",
          "height": 298
        },
        "id": "g-uZrJrw3kln",
        "outputId": "a5101ba7-a632-45b5-b90f-4d68a8a00e2c"
      },
      "execution_count": 448,
      "outputs": [
        {
          "output_type": "execute_result",
          "data": {
            "text/plain": [
              "<matplotlib.axes._subplots.AxesSubplot at 0x7fcb07ee93a0>"
            ]
          },
          "metadata": {},
          "execution_count": 448
        },
        {
          "output_type": "display_data",
          "data": {
            "text/plain": [
              "<Figure size 432x288 with 1 Axes>"
            ],
            "image/png": "[encoded data removed]"
          },
          "metadata": {
            "needs_background": "light"
          }
        }
      ]
    },
    {
      "cell_type": "code",
      "source": [
        "# Histogram depicting the ages of the members\n",
        "\n",
        "train['age'].hist(bins=50)\n"
      ],
      "metadata": {
        "colab": {
          "base_uri": "https://localhost:8080/",
          "height": 282
        },
        "id": "zP0Z-JRF4r8m",
        "outputId": "4fb6d258-a7c1-444f-d993-da0f0093478f"
      },
      "execution_count": 449,
      "outputs": [
        {
          "output_type": "execute_result",
          "data": {
            "text/plain": [
              "<matplotlib.axes._subplots.AxesSubplot at 0x7fcb10a27ac0>"
            ]
          },
          "metadata": {},
          "execution_count": 449
        },
        {
          "output_type": "display_data",
          "data": {
            "text/plain": [
              "<Figure size 432x288 with 1 Axes>"
            ],
            "image/png": "[encoded data removed]"
          },
          "metadata": {}
        }
      ]
    },
    {
      "cell_type": "code",
      "source": [
        "# Categoric plot for the Regions from where member belong\n",
        "sns.catplot('region_category',data=train,kind='count')\n"
      ],
      "metadata": {
        "colab": {
          "base_uri": "https://localhost:8080/",
          "height": 441
        },
        "id": "Fc2jsm3d4sB4",
        "outputId": "108339fb-6e62-475d-d5da-e3f5468204a5"
      },
      "execution_count": 450,
      "outputs": [
        {
          "output_type": "stream",
          "name": "stderr",
          "text": [
            "/usr/local/lib/python3.8/dist-packages/seaborn/_decorators.py:36: FutureWarning: Pass the following variable as a keyword arg: x. From version 0.12, the only valid positional argument will be `data`, and passing other arguments without an explicit keyword will result in an error or misinterpretation.\n",
            "  warnings.warn(\n"
          ]
        },
        {
          "output_type": "execute_result",
          "data": {
            "text/plain": [
              "<seaborn.axisgrid.FacetGrid at 0x7fcb05dcdbe0>"
            ]
          },
          "metadata": {},
          "execution_count": 450
        },
        {
          "output_type": "display_data",
          "data": {
            "text/plain": [
              "<Figure size 360x360 with 1 Axes>"
            ],
            "image/png": "[encoded data removed]"
          },
          "metadata": {}
        }
      ]
    },
    {
      "cell_type": "markdown",
      "source": [
        "### LABEL ENCODING of the categoric columns\n"
      ],
      "metadata": {
        "id": "s7VOMf3PSJ8s"
      }
    },
    {
      "cell_type": "code",
      "source": [
        "# Merge 1D category_name data of train & test into one array.\n",
        "\n",
        "gender_array = np.hstack([train.gender.values, test.gender .values])\n",
        "membership_category = np.hstack([train.membership_category.values, test.membership_category.values])\n",
        "used_special_discount_array = np.hstack([train.used_special_discount.values, test.used_special_discount.values])\n",
        "past_complaint_array = np.hstack([train.past_complaint.values, test.past_complaint.values])\n",
        "complaint_status_array = np.hstack([train.complaint_status.values, test.complaint_status.values])\n",
        "feedback_array = np.hstack([train.feedback.values, test.feedback.values])"
      ],
      "metadata": {
        "id": "mB7WbetQR28p"
      },
      "execution_count": 451,
      "outputs": []
    },
    {
      "cell_type": "code",
      "source": [
        "# Label encoding each category\n",
        "\n",
        "# Instantiate object for category name transformation:\n",
        "\n",
        "le1 = LabelEncoder()\n",
        "le2 = LabelEncoder()\n",
        "le3 = LabelEncoder()\n",
        "le4 = LabelEncoder()\n",
        "le5 = LabelEncoder()\n",
        "le6 = LabelEncoder()\n",
        "\n",
        "\n",
        "# Training :\n",
        "\n",
        "le1.fit(gender_array)\n",
        "le2.fit(membership_category)\n",
        "le3.fit(used_special_discount_array)\n",
        "le4.fit(past_complaint_array)\n",
        "le5.fit(complaint_status_array)\n",
        "le6.fit(feedback_array)\n"
      ],
      "metadata": {
        "colab": {
          "base_uri": "https://localhost:8080/"
        },
        "id": "ptsuC6rwhhUP",
        "outputId": "26c4bde6-4f01-47b5-db14-b310f550fcfb"
      },
      "execution_count": 452,
      "outputs": [
        {
          "output_type": "execute_result",
          "data": {
            "text/plain": [
              "LabelEncoder()"
            ]
          },
          "metadata": {},
          "execution_count": 452
        },
        {
          "output_type": "execute_result",
          "data": {
            "text/plain": [
              "LabelEncoder()"
            ]
          },
          "metadata": {},
          "execution_count": 452
        },
        {
          "output_type": "execute_result",
          "data": {
            "text/plain": [
              "LabelEncoder()"
            ]
          },
          "metadata": {},
          "execution_count": 452
        },
        {
          "output_type": "execute_result",
          "data": {
            "text/plain": [
              "LabelEncoder()"
            ]
          },
          "metadata": {},
          "execution_count": 452
        },
        {
          "output_type": "execute_result",
          "data": {
            "text/plain": [
              "LabelEncoder()"
            ]
          },
          "metadata": {},
          "execution_count": 452
        },
        {
          "output_type": "execute_result",
          "data": {
            "text/plain": [
              "LabelEncoder()"
            ]
          },
          "metadata": {},
          "execution_count": 452
        }
      ]
    },
    {
      "cell_type": "code",
      "source": [
        "train.gender = le1.transform(train.gender.values)\n",
        "test.gender = le1.transform(test.gender.values)"
      ],
      "metadata": {
        "id": "WgzX0k2nhjxM"
      },
      "execution_count": 453,
      "outputs": []
    },
    {
      "cell_type": "code",
      "source": [
        "train.membership_category = le2.transform(train.membership_category.values)\n",
        "test.membership_category = le2.transform(test.membership_category.values)"
      ],
      "metadata": {
        "id": "OWLdo9vWhmWj"
      },
      "execution_count": 454,
      "outputs": []
    },
    {
      "cell_type": "code",
      "source": [
        "train.used_special_discount = le3.transform(train.used_special_discount.values)\n",
        "test.used_special_discount = le3.transform(test.used_special_discount.values)"
      ],
      "metadata": {
        "id": "nyveXBxehoBQ"
      },
      "execution_count": 455,
      "outputs": []
    },
    {
      "cell_type": "code",
      "source": [
        "train.past_complaint = le4.transform(train.past_complaint.values)\n",
        "test.past_complaint = le4.transform(test.past_complaint.values)"
      ],
      "metadata": {
        "id": "pHqHD0_3hpsd"
      },
      "execution_count": 456,
      "outputs": []
    },
    {
      "cell_type": "code",
      "source": [
        "train.complaint_status = le5.transform(train.complaint_status.values)\n",
        "test.complaint_status = le5.transform(test.complaint_status.values)"
      ],
      "metadata": {
        "id": "Th7eqm9PhrSg"
      },
      "execution_count": 457,
      "outputs": []
    },
    {
      "cell_type": "code",
      "source": [
        "train.feedback = le6.transform(train.feedback.values)\n",
        "test.feedback = le6.transform(test.feedback.values)"
      ],
      "metadata": {
        "id": "9qaAq4bahs34"
      },
      "execution_count": 458,
      "outputs": []
    },
    {
      "cell_type": "code",
      "source": [
        "# Classes:\n",
        "le1.classes_\n",
        "len(le1.classes_)\n",
        "print(\"\\n======\\n\")\n",
        "le2.classes_\n",
        "len(le2.classes_)\n",
        "print(\"\\n======\\n\")\n",
        "le3.classes_\n",
        "len(le3.classes_)\n",
        "print(\"\\n======\\n\")\n",
        "le4.classes_\n",
        "len(le4.classes_)\n",
        "print(\"\\n======\\n\")\n",
        "le5.classes_\n",
        "len(le5.classes_)\n",
        "print(\"\\n======\\n\")\n",
        "le6.classes_\n",
        "len(le6.classes_)\n",
        "print(\"\\n======\\n\")\n"
      ],
      "metadata": {
        "colab": {
          "base_uri": "https://localhost:8080/"
        },
        "id": "8d2CxraFhuW4",
        "outputId": "e5aaba0a-bc0e-41f8-f9ea-f5e8583815bc"
      },
      "execution_count": 459,
      "outputs": [
        {
          "output_type": "execute_result",
          "data": {
            "text/plain": [
              "array(['F', 'M', 'Unknown'], dtype=object)"
            ]
          },
          "metadata": {},
          "execution_count": 459
        },
        {
          "output_type": "execute_result",
          "data": {
            "text/plain": [
              "3"
            ]
          },
          "metadata": {},
          "execution_count": 459
        },
        {
          "output_type": "stream",
          "name": "stdout",
          "text": [
            "\n",
            "======\n",
            "\n"
          ]
        },
        {
          "output_type": "execute_result",
          "data": {
            "text/plain": [
              "array(['Basic Membership', 'Gold Membership', 'No Membership',\n",
              "       'Platinum Membership', 'Premium Membership', 'Silver Membership'],\n",
              "      dtype=object)"
            ]
          },
          "metadata": {},
          "execution_count": 459
        },
        {
          "output_type": "execute_result",
          "data": {
            "text/plain": [
              "6"
            ]
          },
          "metadata": {},
          "execution_count": 459
        },
        {
          "output_type": "stream",
          "name": "stdout",
          "text": [
            "\n",
            "======\n",
            "\n"
          ]
        },
        {
          "output_type": "execute_result",
          "data": {
            "text/plain": [
              "array(['No', 'Yes'], dtype=object)"
            ]
          },
          "metadata": {},
          "execution_count": 459
        },
        {
          "output_type": "execute_result",
          "data": {
            "text/plain": [
              "2"
            ]
          },
          "metadata": {},
          "execution_count": 459
        },
        {
          "output_type": "stream",
          "name": "stdout",
          "text": [
            "\n",
            "======\n",
            "\n"
          ]
        },
        {
          "output_type": "execute_result",
          "data": {
            "text/plain": [
              "array(['No', 'Yes'], dtype=object)"
            ]
          },
          "metadata": {},
          "execution_count": 459
        },
        {
          "output_type": "execute_result",
          "data": {
            "text/plain": [
              "2"
            ]
          },
          "metadata": {},
          "execution_count": 459
        },
        {
          "output_type": "stream",
          "name": "stdout",
          "text": [
            "\n",
            "======\n",
            "\n"
          ]
        },
        {
          "output_type": "execute_result",
          "data": {
            "text/plain": [
              "array(['No Information Available', 'Not Applicable', 'Solved',\n",
              "       'Solved in Follow-up', 'Unsolved'], dtype=object)"
            ]
          },
          "metadata": {},
          "execution_count": 459
        },
        {
          "output_type": "execute_result",
          "data": {
            "text/plain": [
              "5"
            ]
          },
          "metadata": {},
          "execution_count": 459
        },
        {
          "output_type": "stream",
          "name": "stdout",
          "text": [
            "\n",
            "======\n",
            "\n"
          ]
        },
        {
          "output_type": "execute_result",
          "data": {
            "text/plain": [
              "array(['No reason specified', 'Poor Customer Service',\n",
              "       'Poor Product Quality', 'Poor Website', 'Products always in Stock',\n",
              "       'Quality Customer Care', 'Reasonable Price', 'Too many ads',\n",
              "       'User Friendly Website'], dtype=object)"
            ]
          },
          "metadata": {},
          "execution_count": 459
        },
        {
          "output_type": "execute_result",
          "data": {
            "text/plain": [
              "9"
            ]
          },
          "metadata": {},
          "execution_count": 459
        },
        {
          "output_type": "stream",
          "name": "stdout",
          "text": [
            "\n",
            "======\n",
            "\n"
          ]
        }
      ]
    },
    {
      "cell_type": "code",
      "source": [
        "# Length:\n",
        "\n",
        "MAX_CATEGORY_VOC = len(le1.classes_)\n",
        "print(\"\\n======\\n\")\n",
        "f\"Mac vocabulary size for category: {MAX_CATEGORY_VOC}\"\n",
        "\n",
        "MAX_CATEGORY_VOC = len(le2.classes_)\n",
        "print(\"\\n======\\n\")\n",
        "f\"Mac vocabulary size for category: {MAX_CATEGORY_VOC}\"\n",
        "\n",
        "MAX_CATEGORY_VOC = len(le3.classes_)\n",
        "print(\"\\n======\\n\")\n",
        "f\"Mac vocabulary size for category: {MAX_CATEGORY_VOC}\"\n",
        "\n",
        "MAX_CATEGORY_VOC = len(le4.classes_)\n",
        "print(\"\\n======\\n\")\n",
        "f\"Mac vocabulary size for category: {MAX_CATEGORY_VOC}\"\n",
        "\n",
        "MAX_CATEGORY_VOC = len(le5.classes_)\n",
        "print(\"\\n======\\n\")\n",
        "f\"Mac vocabulary size for category: {MAX_CATEGORY_VOC}\"\n",
        "\n",
        "MAX_CATEGORY_VOC = len(le6.classes_)\n",
        "print(\"\\n======\\n\")\n",
        "f\"Mac vocabulary size for category: {MAX_CATEGORY_VOC}\"\n",
        "\n",
        "\n",
        "\n",
        "\n"
      ],
      "metadata": {
        "colab": {
          "base_uri": "https://localhost:8080/",
          "height": 353
        },
        "id": "Pz4Kdf9ihwJH",
        "outputId": "33f807ba-4774-4eff-b040-22354367a53e"
      },
      "execution_count": 460,
      "outputs": [
        {
          "output_type": "stream",
          "name": "stdout",
          "text": [
            "\n",
            "======\n",
            "\n"
          ]
        },
        {
          "output_type": "execute_result",
          "data": {
            "text/plain": [
              "'Mac vocabulary size for category: 3'"
            ],
            "application/vnd.google.colaboratory.intrinsic+json": {
              "type": "string"
            }
          },
          "metadata": {},
          "execution_count": 460
        },
        {
          "output_type": "stream",
          "name": "stdout",
          "text": [
            "\n",
            "======\n",
            "\n"
          ]
        },
        {
          "output_type": "execute_result",
          "data": {
            "text/plain": [
              "'Mac vocabulary size for category: 6'"
            ],
            "application/vnd.google.colaboratory.intrinsic+json": {
              "type": "string"
            }
          },
          "metadata": {},
          "execution_count": 460
        },
        {
          "output_type": "stream",
          "name": "stdout",
          "text": [
            "\n",
            "======\n",
            "\n"
          ]
        },
        {
          "output_type": "execute_result",
          "data": {
            "text/plain": [
              "'Mac vocabulary size for category: 2'"
            ],
            "application/vnd.google.colaboratory.intrinsic+json": {
              "type": "string"
            }
          },
          "metadata": {},
          "execution_count": 460
        },
        {
          "output_type": "stream",
          "name": "stdout",
          "text": [
            "\n",
            "======\n",
            "\n"
          ]
        },
        {
          "output_type": "execute_result",
          "data": {
            "text/plain": [
              "'Mac vocabulary size for category: 2'"
            ],
            "application/vnd.google.colaboratory.intrinsic+json": {
              "type": "string"
            }
          },
          "metadata": {},
          "execution_count": 460
        },
        {
          "output_type": "stream",
          "name": "stdout",
          "text": [
            "\n",
            "======\n",
            "\n"
          ]
        },
        {
          "output_type": "execute_result",
          "data": {
            "text/plain": [
              "'Mac vocabulary size for category: 5'"
            ],
            "application/vnd.google.colaboratory.intrinsic+json": {
              "type": "string"
            }
          },
          "metadata": {},
          "execution_count": 460
        },
        {
          "output_type": "stream",
          "name": "stdout",
          "text": [
            "\n",
            "======\n",
            "\n"
          ]
        },
        {
          "output_type": "execute_result",
          "data": {
            "text/plain": [
              "'Mac vocabulary size for category: 9'"
            ],
            "application/vnd.google.colaboratory.intrinsic+json": {
              "type": "string"
            }
          },
          "metadata": {},
          "execution_count": 460
        }
      ]
    },
    {
      "cell_type": "markdown",
      "source": [
        "## Data after above transformations\n"
      ],
      "metadata": {
        "id": "cHtb4vBRh1nY"
      }
    },
    {
      "cell_type": "code",
      "source": [
        "# Looking at transformed data:\n",
        "\n",
        "train.head(3)\n",
        "test.head(3)"
      ],
      "metadata": {
        "colab": {
          "base_uri": "https://localhost:8080/",
          "height": 733
        },
        "id": "K_0LGQC7hy5z",
        "outputId": "14710e5d-abbc-4f45-f887-aa39b02b87ef"
      },
      "execution_count": 461,
      "outputs": [
        {
          "output_type": "execute_result",
          "data": {
            "text/plain": [
              "               Name  age  gender security_no region_category  \\\n",
              "0   Merideth Mcmeen   44       0     1F2TCL3            Town   \n",
              "1  Eufemia Cardwell   37       1     VJGJ33N            City   \n",
              "2      Meghan Kosak   31       0     SVZXCWB            City   \n",
              "\n",
              "   membership_category  avg_transaction_value points_in_wallet  \\\n",
              "0                    2               21027.00           500.69   \n",
              "1                    2               25239.56           567.66   \n",
              "2                    2               24483.66           663.06   \n",
              "\n",
              "   used_special_discount  past_complaint  complaint_status  feedback  \\\n",
              "0                      0               1                 3         3   \n",
              "1                      0               1                 4         3   \n",
              "2                      0               1                 2         3   \n",
              "\n",
              "   churn_score                                            content  \\\n",
              "0            5  Ordered two sets.  Jacked up car and used thes...   \n",
              "1            5                     Very good product worked great   \n",
              "2            5  This product is as stated on website, however ...   \n",
              "\n",
              "                                           summary  sentiment  \n",
              "0         Not stable enough for me to crawl under.          0  \n",
              "1                                         One Star          0  \n",
              "2  Great product, terrible packaging and delivery.          0  "
            ],
            "text/html": [
              "\n",
              "  <div id=\"df-3f659c74-d4c9-4ccd-b521-5928f5c025fb\">\n",
              "    <div class=\"colab-df-container\">\n",
              "      <div>\n",
              "<style scoped>\n",
              "    .dataframe tbody tr th:only-of-type {\n",
              "        vertical-align: middle;\n",
              "    }\n",
              "\n",
              "    .dataframe tbody tr th {\n",
              "        vertical-align: top;\n",
              "    }\n",
              "\n",
              "    .dataframe thead th {\n",
              "        text-align: right;\n",
              "    }\n",
              "</style>\n",
              "<table border=\"1\" class=\"dataframe\">\n",
              "  <thead>\n",
              "    <tr style=\"text-align: right;\">\n",
              "      <th></th>\n",
              "      <th>Name</th>\n",
              "      <th>age</th>\n",
              "      <th>gender</th>\n",
              "      <th>security_no</th>\n",
              "      <th>region_category</th>\n",
              "      <th>membership_category</th>\n",
              "      <th>avg_transaction_value</th>\n",
              "      <th>points_in_wallet</th>\n",
              "      <th>used_special_discount</th>\n",
              "      <th>past_complaint</th>\n",
              "      <th>complaint_status</th>\n",
              "      <th>feedback</th>\n",
              "      <th>churn_score</th>\n",
              "      <th>content</th>\n",
              "      <th>summary</th>\n",
              "      <th>sentiment</th>\n",
              "    </tr>\n",
              "  </thead>\n",
              "  <tbody>\n",
              "    <tr>\n",
              "      <th>0</th>\n",
              "      <td>Merideth Mcmeen</td>\n",
              "      <td>44</td>\n",
              "      <td>0</td>\n",
              "      <td>1F2TCL3</td>\n",
              "      <td>Town</td>\n",
              "      <td>2</td>\n",
              "      <td>21027.00</td>\n",
              "      <td>500.69</td>\n",
              "      <td>0</td>\n",
              "      <td>1</td>\n",
              "      <td>3</td>\n",
              "      <td>3</td>\n",
              "      <td>5</td>\n",
              "      <td>Ordered two sets.  Jacked up car and used thes...</td>\n",
              "      <td>Not stable enough for me to crawl under.</td>\n",
              "      <td>0</td>\n",
              "    </tr>\n",
              "    <tr>\n",
              "      <th>1</th>\n",
              "      <td>Eufemia Cardwell</td>\n",
              "      <td>37</td>\n",
              "      <td>1</td>\n",
              "      <td>VJGJ33N</td>\n",
              "      <td>City</td>\n",
              "      <td>2</td>\n",
              "      <td>25239.56</td>\n",
              "      <td>567.66</td>\n",
              "      <td>0</td>\n",
              "      <td>1</td>\n",
              "      <td>4</td>\n",
              "      <td>3</td>\n",
              "      <td>5</td>\n",
              "      <td>Very good product worked great</td>\n",
              "      <td>One Star</td>\n",
              "      <td>0</td>\n",
              "    </tr>\n",
              "    <tr>\n",
              "      <th>2</th>\n",
              "      <td>Meghan Kosak</td>\n",
              "      <td>31</td>\n",
              "      <td>0</td>\n",
              "      <td>SVZXCWB</td>\n",
              "      <td>City</td>\n",
              "      <td>2</td>\n",
              "      <td>24483.66</td>\n",
              "      <td>663.06</td>\n",
              "      <td>0</td>\n",
              "      <td>1</td>\n",
              "      <td>2</td>\n",
              "      <td>3</td>\n",
              "      <td>5</td>\n",
              "      <td>This product is as stated on website, however ...</td>\n",
              "      <td>Great product, terrible packaging and delivery.</td>\n",
              "      <td>0</td>\n",
              "    </tr>\n",
              "  </tbody>\n",
              "</table>\n",
              "</div>\n",
              "      <button class=\"colab-df-convert\" onclick=\"convertToInteractive('df-3f659c74-d4c9-4ccd-b521-5928f5c025fb')\"\n",
              "              title=\"Convert this dataframe to an interactive table.\"\n",
              "              style=\"display:none;\">\n",
              "        \n",
              "  <svg xmlns=\"http://www.w3.org/2000/svg\" height=\"24px\"viewBox=\"0 0 24 24\"\n",
              "       width=\"24px\">\n",
              "    <path d=\"M0 0h24v24H0V0z\" fill=\"none\"/>\n",
              "    <path d=\"M18.56 5.44l.94 2.06.94-2.06 2.06-.94-2.06-.94-.94-2.06-.94 2.06-2.06.94zm-11 1L8.5 8.5l.94-2.06 2.06-.94-2.06-.94L8.5 2.5l-.94 2.06-2.06.94zm10 10l.94 2.06.94-2.06 2.06-.94-2.06-.94-.94-2.06-.94 2.06-2.06.94z\"/><path d=\"M17.41 7.96l-1.37-1.37c-.4-.4-.92-.59-1.43-.59-.52 0-1.04.2-1.43.59L10.3 9.45l-7.72 7.72c-.78.78-.78 2.05 0 2.83L4 21.41c.39.39.9.59 1.41.59.51 0 1.02-.2 1.41-.59l7.78-7.78 2.81-2.81c.8-.78.8-2.07 0-2.86zM5.41 20L4 18.59l7.72-7.72 1.47 1.35L5.41 20z\"/>\n",
              "  </svg>\n",
              "      </button>\n",
              "      \n",
              "  <style>\n",
              "    .colab-df-container {\n",
              "      display:flex;\n",
              "      flex-wrap:wrap;\n",
              "      gap: 12px;\n",
              "    }\n",
              "\n",
              "    .colab-df-convert {\n",
              "      background-color: #E8F0FE;\n",
              "      border: none;\n",
              "      border-radius: 50%;\n",
              "      cursor: pointer;\n",
              "      display: none;\n",
              "      fill: #1967D2;\n",
              "      height: 32px;\n",
              "      padding: 0 0 0 0;\n",
              "      width: 32px;\n",
              "    }\n",
              "\n",
              "    .colab-df-convert:hover {\n",
              "      background-color: #E2EBFA;\n",
              "      box-shadow: 0px 1px 2px rgba(60, 64, 67, 0.3), 0px 1px 3px 1px rgba(60, 64, 67, 0.15);\n",
              "      fill: #174EA6;\n",
              "    }\n",
              "\n",
              "    [theme=dark] .colab-df-convert {\n",
              "      background-color: #3B4455;\n",
              "      fill: #D2E3FC;\n",
              "    }\n",
              "\n",
              "    [theme=dark] .colab-df-convert:hover {\n",
              "      background-color: #434B5C;\n",
              "      box-shadow: 0px 1px 3px 1px rgba(0, 0, 0, 0.15);\n",
              "      filter: drop-shadow(0px 1px 2px rgba(0, 0, 0, 0.3));\n",
              "      fill: #FFFFFF;\n",
              "    }\n",
              "  </style>\n",
              "\n",
              "      <script>\n",
              "        const buttonEl =\n",
              "          document.querySelector('#df-3f659c74-d4c9-4ccd-b521-5928f5c025fb button.colab-df-convert');\n",
              "        buttonEl.style.display =\n",
              "          google.colab.kernel.accessAllowed ? 'block' : 'none';\n",
              "\n",
              "        async function convertToInteractive(key) {\n",
              "          const element = document.querySelector('#df-3f659c74-d4c9-4ccd-b521-5928f5c025fb');\n",
              "          const dataTable =\n",
              "            await google.colab.kernel.invokeFunction('convertToInteractive',\n",
              "                                                     [key], {});\n",
              "          if (!dataTable) return;\n",
              "\n",
              "          const docLinkHtml = 'Like what you see? Visit the ' +\n",
              "            '<a target=\"_blank\" href=https://colab.research.google.com/notebooks/data_table.ipynb>data table notebook</a>'\n",
              "            + ' to learn more about interactive tables.';\n",
              "          element.innerHTML = '';\n",
              "          dataTable['output_type'] = 'display_data';\n",
              "          await google.colab.output.renderOutput(dataTable, element);\n",
              "          const docLink = document.createElement('div');\n",
              "          docLink.innerHTML = docLinkHtml;\n",
              "          element.appendChild(docLink);\n",
              "        }\n",
              "      </script>\n",
              "    </div>\n",
              "  </div>\n",
              "  "
            ]
          },
          "metadata": {},
          "execution_count": 461
        },
        {
          "output_type": "execute_result",
          "data": {
            "text/plain": [
              "             Name  age  gender security_no region_category  \\\n",
              "0   Evelyne Kinch   17       1     NBV1O8W            Town   \n",
              "1  Franklin Lurry   22       1     C3B77NU            Town   \n",
              "2     Alan Branum   17       1     OCHQG0L         Village   \n",
              "\n",
              "   membership_category  avg_transaction_value points_in_wallet  \\\n",
              "0                    0                9948.54           577.83   \n",
              "1                    2               19363.60           528.66   \n",
              "2                    0               48913.95           613.79   \n",
              "\n",
              "   used_special_discount  past_complaint  complaint_status  feedback  \\\n",
              "0                      1               1                 0         2   \n",
              "1                      1               0                 1         3   \n",
              "2                      1               0                 1         2   \n",
              "\n",
              "   churn_score  sentiment                                            content  \\\n",
              "0            5          2  I just want to say that most Meguiar's product...   \n",
              "1            5          1  This item is misrepresented.  Meguiar's no lon...   \n",
              "2            5          1                      Leaves film on car after wash   \n",
              "\n",
              "                                             summary  \n",
              "0  half of the product leaked before opening...di...  \n",
              "1                Meguiar's Gold Class Clear Coat Wax  \n",
              "2                                           One Star  "
            ],
            "text/html": [
              "\n",
              "  <div id=\"df-cd82d93c-9f16-4cb1-acab-67ac2362f4e6\">\n",
              "    <div class=\"colab-df-container\">\n",
              "      <div>\n",
              "<style scoped>\n",
              "    .dataframe tbody tr th:only-of-type {\n",
              "        vertical-align: middle;\n",
              "    }\n",
              "\n",
              "    .dataframe tbody tr th {\n",
              "        vertical-align: top;\n",
              "    }\n",
              "\n",
              "    .dataframe thead th {\n",
              "        text-align: right;\n",
              "    }\n",
              "</style>\n",
              "<table border=\"1\" class=\"dataframe\">\n",
              "  <thead>\n",
              "    <tr style=\"text-align: right;\">\n",
              "      <th></th>\n",
              "      <th>Name</th>\n",
              "      <th>age</th>\n",
              "      <th>gender</th>\n",
              "      <th>security_no</th>\n",
              "      <th>region_category</th>\n",
              "      <th>membership_category</th>\n",
              "      <th>avg_transaction_value</th>\n",
              "      <th>points_in_wallet</th>\n",
              "      <th>used_special_discount</th>\n",
              "      <th>past_complaint</th>\n",
              "      <th>complaint_status</th>\n",
              "      <th>feedback</th>\n",
              "      <th>churn_score</th>\n",
              "      <th>sentiment</th>\n",
              "      <th>content</th>\n",
              "      <th>summary</th>\n",
              "    </tr>\n",
              "  </thead>\n",
              "  <tbody>\n",
              "    <tr>\n",
              "      <th>0</th>\n",
              "      <td>Evelyne Kinch</td>\n",
              "      <td>17</td>\n",
              "      <td>1</td>\n",
              "      <td>NBV1O8W</td>\n",
              "      <td>Town</td>\n",
              "      <td>0</td>\n",
              "      <td>9948.54</td>\n",
              "      <td>577.83</td>\n",
              "      <td>1</td>\n",
              "      <td>1</td>\n",
              "      <td>0</td>\n",
              "      <td>2</td>\n",
              "      <td>5</td>\n",
              "      <td>2</td>\n",
              "      <td>I just want to say that most Meguiar's product...</td>\n",
              "      <td>half of the product leaked before opening...di...</td>\n",
              "    </tr>\n",
              "    <tr>\n",
              "      <th>1</th>\n",
              "      <td>Franklin Lurry</td>\n",
              "      <td>22</td>\n",
              "      <td>1</td>\n",
              "      <td>C3B77NU</td>\n",
              "      <td>Town</td>\n",
              "      <td>2</td>\n",
              "      <td>19363.60</td>\n",
              "      <td>528.66</td>\n",
              "      <td>1</td>\n",
              "      <td>0</td>\n",
              "      <td>1</td>\n",
              "      <td>3</td>\n",
              "      <td>5</td>\n",
              "      <td>1</td>\n",
              "      <td>This item is misrepresented.  Meguiar's no lon...</td>\n",
              "      <td>Meguiar's Gold Class Clear Coat Wax</td>\n",
              "    </tr>\n",
              "    <tr>\n",
              "      <th>2</th>\n",
              "      <td>Alan Branum</td>\n",
              "      <td>17</td>\n",
              "      <td>1</td>\n",
              "      <td>OCHQG0L</td>\n",
              "      <td>Village</td>\n",
              "      <td>0</td>\n",
              "      <td>48913.95</td>\n",
              "      <td>613.79</td>\n",
              "      <td>1</td>\n",
              "      <td>0</td>\n",
              "      <td>1</td>\n",
              "      <td>2</td>\n",
              "      <td>5</td>\n",
              "      <td>1</td>\n",
              "      <td>Leaves film on car after wash</td>\n",
              "      <td>One Star</td>\n",
              "    </tr>\n",
              "  </tbody>\n",
              "</table>\n",
              "</div>\n",
              "      <button class=\"colab-df-convert\" onclick=\"convertToInteractive('df-cd82d93c-9f16-4cb1-acab-67ac2362f4e6')\"\n",
              "              title=\"Convert this dataframe to an interactive table.\"\n",
              "              style=\"display:none;\">\n",
              "        \n",
              "  <svg xmlns=\"http://www.w3.org/2000/svg\" height=\"24px\"viewBox=\"0 0 24 24\"\n",
              "       width=\"24px\">\n",
              "    <path d=\"M0 0h24v24H0V0z\" fill=\"none\"/>\n",
              "    <path d=\"M18.56 5.44l.94 2.06.94-2.06 2.06-.94-2.06-.94-.94-2.06-.94 2.06-2.06.94zm-11 1L8.5 8.5l.94-2.06 2.06-.94-2.06-.94L8.5 2.5l-.94 2.06-2.06.94zm10 10l.94 2.06.94-2.06 2.06-.94-2.06-.94-.94-2.06-.94 2.06-2.06.94z\"/><path d=\"M17.41 7.96l-1.37-1.37c-.4-.4-.92-.59-1.43-.59-.52 0-1.04.2-1.43.59L10.3 9.45l-7.72 7.72c-.78.78-.78 2.05 0 2.83L4 21.41c.39.39.9.59 1.41.59.51 0 1.02-.2 1.41-.59l7.78-7.78 2.81-2.81c.8-.78.8-2.07 0-2.86zM5.41 20L4 18.59l7.72-7.72 1.47 1.35L5.41 20z\"/>\n",
              "  </svg>\n",
              "      </button>\n",
              "      \n",
              "  <style>\n",
              "    .colab-df-container {\n",
              "      display:flex;\n",
              "      flex-wrap:wrap;\n",
              "      gap: 12px;\n",
              "    }\n",
              "\n",
              "    .colab-df-convert {\n",
              "      background-color: #E8F0FE;\n",
              "      border: none;\n",
              "      border-radius: 50%;\n",
              "      cursor: pointer;\n",
              "      display: none;\n",
              "      fill: #1967D2;\n",
              "      height: 32px;\n",
              "      padding: 0 0 0 0;\n",
              "      width: 32px;\n",
              "    }\n",
              "\n",
              "    .colab-df-convert:hover {\n",
              "      background-color: #E2EBFA;\n",
              "      box-shadow: 0px 1px 2px rgba(60, 64, 67, 0.3), 0px 1px 3px 1px rgba(60, 64, 67, 0.15);\n",
              "      fill: #174EA6;\n",
              "    }\n",
              "\n",
              "    [theme=dark] .colab-df-convert {\n",
              "      background-color: #3B4455;\n",
              "      fill: #D2E3FC;\n",
              "    }\n",
              "\n",
              "    [theme=dark] .colab-df-convert:hover {\n",
              "      background-color: #434B5C;\n",
              "      box-shadow: 0px 1px 3px 1px rgba(0, 0, 0, 0.15);\n",
              "      filter: drop-shadow(0px 1px 2px rgba(0, 0, 0, 0.3));\n",
              "      fill: #FFFFFF;\n",
              "    }\n",
              "  </style>\n",
              "\n",
              "      <script>\n",
              "        const buttonEl =\n",
              "          document.querySelector('#df-cd82d93c-9f16-4cb1-acab-67ac2362f4e6 button.colab-df-convert');\n",
              "        buttonEl.style.display =\n",
              "          google.colab.kernel.accessAllowed ? 'block' : 'none';\n",
              "\n",
              "        async function convertToInteractive(key) {\n",
              "          const element = document.querySelector('#df-cd82d93c-9f16-4cb1-acab-67ac2362f4e6');\n",
              "          const dataTable =\n",
              "            await google.colab.kernel.invokeFunction('convertToInteractive',\n",
              "                                                     [key], {});\n",
              "          if (!dataTable) return;\n",
              "\n",
              "          const docLinkHtml = 'Like what you see? Visit the ' +\n",
              "            '<a target=\"_blank\" href=https://colab.research.google.com/notebooks/data_table.ipynb>data table notebook</a>'\n",
              "            + ' to learn more about interactive tables.';\n",
              "          element.innerHTML = '';\n",
              "          dataTable['output_type'] = 'display_data';\n",
              "          await google.colab.output.renderOutput(dataTable, element);\n",
              "          const docLink = document.createElement('div');\n",
              "          docLink.innerHTML = docLinkHtml;\n",
              "          element.appendChild(docLink);\n",
              "        }\n",
              "      </script>\n",
              "    </div>\n",
              "  </div>\n",
              "  "
            ]
          },
          "metadata": {},
          "execution_count": 461
        }
      ]
    },
    {
      "cell_type": "markdown",
      "source": [
        "##Transform two text fields to integer sequences\n"
      ],
      "metadata": {
        "id": "_jdciupZh6ov"
      }
    },
    {
      "cell_type": "code",
      "source": [
        "# Vectorize into integers text data\n",
        "# Three columns: summary, content, Name\n",
        "\n",
        "# 7.2 Stacking columns as arrays, end-to-end in 1D array\n",
        "\n",
        "raw_text = np.hstack(\n",
        "                     [\n",
        "                       train.summary.values,\n",
        "                       train.Name.values,\n",
        "                       train.content.values,\n",
        "                       test.summary.values,\n",
        "                       test.Name.values,\n",
        "                       test.content.values\n",
        "                      ]\n",
        "                     )\n",
        "\n",
        "# \n",
        "raw_text[:3]"
      ],
      "metadata": {
        "colab": {
          "base_uri": "https://localhost:8080/"
        },
        "id": "QdsFS7JZh3-N",
        "outputId": "f6805d86-47ab-4e82-c678-26113bf3561f"
      },
      "execution_count": 462,
      "outputs": [
        {
          "output_type": "execute_result",
          "data": {
            "text/plain": [
              "array(['Not stable enough for me to crawl under.', 'One Star',\n",
              "       'Great product, terrible packaging and delivery.'], dtype=object)"
            ]
          },
          "metadata": {},
          "execution_count": 462
        }
      ]
    },
    {
      "cell_type": "code",
      "source": [
        "# Fitting on raw_text tokenizer\n",
        "\n",
        "tok_raw = Tokenizer()           # Create Tokenizer() object\n",
        "tok_raw.fit_on_texts(raw_text)  # Just training. No transformation as yet\n"
      ],
      "metadata": {
        "id": "WnuxVHiGh-wO"
      },
      "execution_count": 463,
      "outputs": []
    },
    {
      "cell_type": "code",
      "source": [
        "# Word_index\n",
        "\n",
        "tok_raw.word_index"
      ],
      "metadata": {
        "colab": {
          "base_uri": "https://localhost:8080/"
        },
        "id": "NtnDUNIliBDo",
        "outputId": "12bfa006-6442-4827-abbf-653405965780"
      },
      "execution_count": 464,
      "outputs": [
        {
          "output_type": "execute_result",
          "data": {
            "text/plain": [
              "{'the': 1,\n",
              " 'to': 2,\n",
              " 'and': 3,\n",
              " 'i': 4,\n",
              " 'it': 5,\n",
              " 'a': 6,\n",
              " 'this': 7,\n",
              " 'for': 8,\n",
              " 'is': 9,\n",
              " 'my': 10,\n",
              " 'of': 11,\n",
              " 'on': 12,\n",
              " 'in': 13,\n",
              " 'great': 14,\n",
              " 'not': 15,\n",
              " 'with': 16,\n",
              " 'that': 17,\n",
              " 'but': 18,\n",
              " 'have': 19,\n",
              " 'was': 20,\n",
              " 'you': 21,\n",
              " 'as': 22,\n",
              " 'good': 23,\n",
              " 'product': 24,\n",
              " 'works': 25,\n",
              " 'car': 26,\n",
              " 'one': 27,\n",
              " 'stars': 28,\n",
              " 'so': 29,\n",
              " 'use': 30,\n",
              " 'very': 31,\n",
              " 'well': 32,\n",
              " 'they': 33,\n",
              " 'be': 34,\n",
              " 'easy': 35,\n",
              " 'just': 36,\n",
              " 'are': 37,\n",
              " 'had': 38,\n",
              " 'five': 39,\n",
              " 'like': 40,\n",
              " 'if': 41,\n",
              " 'will': 42,\n",
              " 'up': 43,\n",
              " 'fit': 44,\n",
              " 'would': 45,\n",
              " 'at': 46,\n",
              " 'all': 47,\n",
              " 'used': 48,\n",
              " 'out': 49,\n",
              " 'no': 50,\n",
              " 'these': 51,\n",
              " 'when': 52,\n",
              " 'or': 53,\n",
              " 'from': 54,\n",
              " 'than': 55,\n",
              " 'your': 56,\n",
              " 'price': 57,\n",
              " 'get': 58,\n",
              " 'time': 59,\n",
              " 'off': 60,\n",
              " \"it's\": 61,\n",
              " 'work': 62,\n",
              " 'after': 63,\n",
              " 'does': 64,\n",
              " 'can': 65,\n",
              " 'what': 66,\n",
              " 'only': 67,\n",
              " 'do': 68,\n",
              " 'them': 69,\n",
              " 'more': 70,\n",
              " 'an': 71,\n",
              " 'we': 72,\n",
              " 'about': 73,\n",
              " 'battery': 74,\n",
              " 'quality': 75,\n",
              " 'has': 76,\n",
              " 'buy': 77,\n",
              " 'me': 78,\n",
              " 'bought': 79,\n",
              " \"don't\": 80,\n",
              " 'nice': 81,\n",
              " 'better': 82,\n",
              " 'did': 83,\n",
              " 'much': 84,\n",
              " 'other': 85,\n",
              " '2': 86,\n",
              " 'tire': 87,\n",
              " 'gauge': 88,\n",
              " 'filter': 89,\n",
              " 'really': 90,\n",
              " 'perfect': 91,\n",
              " 'worked': 92,\n",
              " 'best': 93,\n",
              " 'some': 94,\n",
              " 'wiper': 95,\n",
              " 'two': 96,\n",
              " 'little': 97,\n",
              " 'install': 98,\n",
              " 'using': 99,\n",
              " 'years': 100,\n",
              " 'too': 101,\n",
              " 'now': 102,\n",
              " 'over': 103,\n",
              " 'there': 104,\n",
              " 'any': 105,\n",
              " 'new': 106,\n",
              " 'made': 107,\n",
              " 'need': 108,\n",
              " 'even': 109,\n",
              " 'been': 110,\n",
              " 'because': 111,\n",
              " 'back': 112,\n",
              " 'job': 113,\n",
              " 'also': 114,\n",
              " 'recommend': 115,\n",
              " 'then': 116,\n",
              " 'were': 117,\n",
              " 'which': 118,\n",
              " \"i've\": 119,\n",
              " 'right': 120,\n",
              " 'long': 121,\n",
              " 'by': 122,\n",
              " 'first': 123,\n",
              " 'got': 124,\n",
              " 'wax': 125,\n",
              " 'love': 126,\n",
              " 'its': 127,\n",
              " 'oil': 128,\n",
              " 'put': 129,\n",
              " 'air': 130,\n",
              " 'still': 131,\n",
              " 'our': 132,\n",
              " 'way': 133,\n",
              " \"didn't\": 134,\n",
              " 'again': 135,\n",
              " 'water': 136,\n",
              " 'lock': 137,\n",
              " 'amazon': 138,\n",
              " 'charger': 139,\n",
              " '1': 140,\n",
              " 'old': 141,\n",
              " 'blades': 142,\n",
              " 'stuff': 143,\n",
              " 'make': 144,\n",
              " '3': 145,\n",
              " 'blade': 146,\n",
              " 'could': 147,\n",
              " 'pressure': 148,\n",
              " 'how': 149,\n",
              " '5': 150,\n",
              " 'fine': 151,\n",
              " 'last': 152,\n",
              " 'am': 153,\n",
              " \"doesn't\": 154,\n",
              " 'tires': 155,\n",
              " \"i'm\": 156,\n",
              " 'into': 157,\n",
              " 'fits': 158,\n",
              " 'before': 159,\n",
              " 'needed': 160,\n",
              " '4': 161,\n",
              " 'go': 162,\n",
              " 'sure': 163,\n",
              " 'look': 164,\n",
              " 'item': 165,\n",
              " 'keep': 166,\n",
              " 'excellent': 167,\n",
              " 'far': 168,\n",
              " 'see': 169,\n",
              " 'clean': 170,\n",
              " 'four': 171,\n",
              " 'perfectly': 172,\n",
              " 'few': 173,\n",
              " 'enough': 174,\n",
              " 'shine': 175,\n",
              " 'money': 176,\n",
              " 'without': 177,\n",
              " 'rain': 178,\n",
              " 'looks': 179,\n",
              " 'seems': 180,\n",
              " 'truck': 181,\n",
              " 'should': 182,\n",
              " 'wash': 183,\n",
              " 'purchased': 184,\n",
              " 'small': 185,\n",
              " 'trailer': 186,\n",
              " 'thing': 187,\n",
              " 'light': 188,\n",
              " 'never': 189,\n",
              " 'same': 190,\n",
              " 'down': 191,\n",
              " 'accurate': 192,\n",
              " 'every': 193,\n",
              " 'another': 194,\n",
              " 'makes': 195,\n",
              " 'vehicle': 196,\n",
              " 'cars': 197,\n",
              " 'months': 198,\n",
              " 'lot': 199,\n",
              " 'wipers': 200,\n",
              " 'garage': 201,\n",
              " 'while': 202,\n",
              " 'hard': 203,\n",
              " 'side': 204,\n",
              " 'hitch': 205,\n",
              " 'year': 206,\n",
              " 'paint': 207,\n",
              " 'batteries': 208,\n",
              " 'plastic': 209,\n",
              " 'top': 210,\n",
              " 'since': 211,\n",
              " 'find': 212,\n",
              " 'always': 213,\n",
              " 'around': 214,\n",
              " 'cheap': 215,\n",
              " 'size': 216,\n",
              " 'windshield': 217,\n",
              " 'cover': 218,\n",
              " 'dry': 219,\n",
              " 'through': 220,\n",
              " 'know': 221,\n",
              " 'three': 222,\n",
              " 'read': 223,\n",
              " 'tool': 224,\n",
              " 'problem': 225,\n",
              " 'easily': 226,\n",
              " 'say': 227,\n",
              " 'unit': 228,\n",
              " 'products': 229,\n",
              " 'bit': 230,\n",
              " 'charge': 231,\n",
              " 'towel': 232,\n",
              " 'pretty': 233,\n",
              " 'once': 234,\n",
              " 'happy': 235,\n",
              " 'looking': 236,\n",
              " 'where': 237,\n",
              " 'installed': 238,\n",
              " \"can't\": 239,\n",
              " 'both': 240,\n",
              " 'came': 241,\n",
              " 'purchase': 242,\n",
              " 'want': 243,\n",
              " 'expected': 244,\n",
              " 'valve': 245,\n",
              " 'worth': 246,\n",
              " 'tried': 247,\n",
              " 'going': 248,\n",
              " 'take': 249,\n",
              " 'found': 250,\n",
              " 'think': 251,\n",
              " 'took': 252,\n",
              " 'brand': 253,\n",
              " 'most': 254,\n",
              " 'bag': 255,\n",
              " 'star': 256,\n",
              " 'fram': 257,\n",
              " 'ever': 258,\n",
              " 'exactly': 259,\n",
              " 'their': 260,\n",
              " 'fast': 261,\n",
              " 'bad': 262,\n",
              " 'less': 263,\n",
              " 'remove': 264,\n",
              " 'however': 265,\n",
              " 'replacement': 266,\n",
              " 'working': 267,\n",
              " 'times': 268,\n",
              " 'highly': 269,\n",
              " '10': 270,\n",
              " 'many': 271,\n",
              " 'high': 272,\n",
              " 'though': 273,\n",
              " 'part': 274,\n",
              " '6': 275,\n",
              " 'ok': 276,\n",
              " 'different': 277,\n",
              " 'box': 278,\n",
              " 'set': 279,\n",
              " 'hold': 280,\n",
              " 'big': 281,\n",
              " 'went': 282,\n",
              " 'quick': 283,\n",
              " 'advertised': 284,\n",
              " 'black': 285,\n",
              " 'rear': 286,\n",
              " 'straps': 287,\n",
              " 'ball': 288,\n",
              " 'change': 289,\n",
              " 'engine': 290,\n",
              " 'able': 291,\n",
              " 'day': 292,\n",
              " 'try': 293,\n",
              " 'end': 294,\n",
              " 'said': 295,\n",
              " 'ordered': 296,\n",
              " 'something': 297,\n",
              " 'honda': 298,\n",
              " 'may': 299,\n",
              " 'awesome': 300,\n",
              " 'replace': 301,\n",
              " 'shipping': 302,\n",
              " 'couple': 303,\n",
              " 'power': 304,\n",
              " 'getting': 305,\n",
              " 'everything': 306,\n",
              " 'store': 307,\n",
              " 'instructions': 308,\n",
              " 'problems': 309,\n",
              " 'carrier': 310,\n",
              " 'place': 311,\n",
              " 'minutes': 312,\n",
              " 'give': 313,\n",
              " 'heavy': 314,\n",
              " 'easier': 315,\n",
              " 'several': 316,\n",
              " 'winter': 317,\n",
              " 'plug': 318,\n",
              " 'trip': 319,\n",
              " 'parts': 320,\n",
              " 'away': 321,\n",
              " 'longer': 322,\n",
              " 'reviews': 323,\n",
              " 'having': 324,\n",
              " 'days': 325,\n",
              " 'miles': 326,\n",
              " 'come': 327,\n",
              " 'he': 328,\n",
              " 'simple': 329,\n",
              " 'extra': 330,\n",
              " 'nothing': 331,\n",
              " 'fuel': 332,\n",
              " 'filters': 333,\n",
              " 'apply': 334,\n",
              " 'thought': 335,\n",
              " \"won't\": 336,\n",
              " 'inside': 337,\n",
              " 'being': 338,\n",
              " 'left': 339,\n",
              " 'value': 340,\n",
              " 'auto': 341,\n",
              " 'done': 342,\n",
              " 'spray': 343,\n",
              " 'actually': 344,\n",
              " 'must': 345,\n",
              " 'here': 346,\n",
              " 'second': 347,\n",
              " 'metal': 348,\n",
              " 'definitely': 349,\n",
              " 'order': 350,\n",
              " 'probably': 351,\n",
              " 'cleaner': 352,\n",
              " 'comes': 353,\n",
              " 'rubber': 354,\n",
              " 'wrong': 355,\n",
              " 'under': 356,\n",
              " 'front': 357,\n",
              " 'drying': 358,\n",
              " 'recommended': 359,\n",
              " 'clear': 360,\n",
              " 'return': 361,\n",
              " 'reading': 362,\n",
              " 'window': 363,\n",
              " 'anything': 364,\n",
              " 'quickly': 365,\n",
              " 'installation': 366,\n",
              " 'leave': 367,\n",
              " 'almost': 368,\n",
              " 'finish': 369,\n",
              " 'bottle': 370,\n",
              " 'bike': 371,\n",
              " 'door': 372,\n",
              " 'those': 373,\n",
              " 'full': 374,\n",
              " 'x': 375,\n",
              " 'things': 376,\n",
              " 'super': 377,\n",
              " 'brush': 378,\n",
              " 'buying': 379,\n",
              " 'hand': 380,\n",
              " 'each': 381,\n",
              " 'cleaning': 382,\n",
              " 'check': 383,\n",
              " 'vehicles': 384,\n",
              " 'wanted': 385,\n",
              " \"meguiar's\": 386,\n",
              " 'cost': 387,\n",
              " 'arrived': 388,\n",
              " 'laser': 389,\n",
              " 'ford': 390,\n",
              " 'yet': 391,\n",
              " 'who': 392,\n",
              " 'ones': 393,\n",
              " 'piece': 394,\n",
              " 'gas': 395,\n",
              " 'key': 396,\n",
              " 'needs': 397,\n",
              " 'ago': 398,\n",
              " 'expensive': 399,\n",
              " 'low': 400,\n",
              " 'issues': 401,\n",
              " 'socket': 402,\n",
              " 'half': 403,\n",
              " 'roof': 404,\n",
              " 'rack': 405,\n",
              " 'leaves': 406,\n",
              " 'large': 407,\n",
              " 'received': 408,\n",
              " 'wheel': 409,\n",
              " 'wipe': 410,\n",
              " 'next': 411,\n",
              " 'deal': 412,\n",
              " 'until': 413,\n",
              " '8': 414,\n",
              " 'help': 415,\n",
              " 'gets': 416,\n",
              " 'between': 417,\n",
              " 'let': 418,\n",
              " 'wish': 419,\n",
              " 'started': 420,\n",
              " 'broke': 421,\n",
              " 'seem': 422,\n",
              " 'weeks': 423,\n",
              " 'described': 424,\n",
              " 'completely': 425,\n",
              " 'stem': 426,\n",
              " 'psi': 427,\n",
              " 'quite': 428,\n",
              " 'solid': 429,\n",
              " 'why': 430,\n",
              " 'feel': 431,\n",
              " 'cheaper': 432,\n",
              " 'else': 433,\n",
              " 'review': 434,\n",
              " 'drive': 435,\n",
              " 'pin': 436,\n",
              " 'jeep': 437,\n",
              " \"i'll\": 438,\n",
              " 'sturdy': 439,\n",
              " 'says': 440,\n",
              " 'goes': 441,\n",
              " 'results': 442,\n",
              " '20': 443,\n",
              " 'others': 444,\n",
              " 'might': 445,\n",
              " 'home': 446,\n",
              " 'system': 447,\n",
              " 'instead': 448,\n",
              " 'disappointed': 449,\n",
              " 'people': 450,\n",
              " 'already': 451,\n",
              " 'amazing': 452,\n",
              " 'maybe': 453,\n",
              " 'hose': 454,\n",
              " 'charged': 455,\n",
              " 'mount': 456,\n",
              " 'driving': 457,\n",
              " \"that's\": 458,\n",
              " 'week': 459,\n",
              " 'anyone': 460,\n",
              " 'own': 461,\n",
              " 'keeps': 462,\n",
              " 'bottom': 463,\n",
              " 'kit': 464,\n",
              " 'issue': 465,\n",
              " 'red': 466,\n",
              " 'least': 467,\n",
              " 'waste': 468,\n",
              " 'thanks': 469,\n",
              " 'color': 470,\n",
              " 'type': 471,\n",
              " 'original': 472,\n",
              " 'mine': 473,\n",
              " 'tight': 474,\n",
              " 'tell': 475,\n",
              " 'soft': 476,\n",
              " 'during': 477,\n",
              " 'adapter': 478,\n",
              " 'difficult': 479,\n",
              " 'supposed': 480,\n",
              " 'replaced': 481,\n",
              " 'takes': 482,\n",
              " 'anco': 483,\n",
              " 'pleased': 484,\n",
              " 'hook': 485,\n",
              " \"haven't\": 486,\n",
              " 'motorcycle': 487,\n",
              " 'free': 488,\n",
              " 'poor': 489,\n",
              " 'gauges': 490,\n",
              " 'run': 491,\n",
              " 'month': 492,\n",
              " 'model': 493,\n",
              " 'charging': 494,\n",
              " 'start': 495,\n",
              " 'boat': 496,\n",
              " 'mirror': 497,\n",
              " 'life': 498,\n",
              " '12': 499,\n",
              " 'streaks': 500,\n",
              " 'secure': 501,\n",
              " 'doing': 502,\n",
              " 'local': 503,\n",
              " 'leather': 504,\n",
              " 'lasts': 505,\n",
              " 'add': 506,\n",
              " 'short': 507,\n",
              " 'strong': 508,\n",
              " 'soap': 509,\n",
              " 'real': 510,\n",
              " 'junk': 511,\n",
              " 'digital': 512,\n",
              " 'dirt': 513,\n",
              " 'design': 514,\n",
              " 'seat': 515,\n",
              " 'built': 516,\n",
              " '30': 517,\n",
              " 'hours': 518,\n",
              " 'holds': 519,\n",
              " 'trying': 520,\n",
              " 'properly': 521,\n",
              " 'wet': 522,\n",
              " 'difference': 523,\n",
              " '15': 524,\n",
              " 'service': 525,\n",
              " 'line': 526,\n",
              " 'device': 527,\n",
              " 'overall': 528,\n",
              " \"wasn't\": 529,\n",
              " 'covers': 530,\n",
              " \"wouldn't\": 531,\n",
              " 'arm': 532,\n",
              " 'connector': 533,\n",
              " 'washing': 534,\n",
              " 'inflator': 535,\n",
              " 'pay': 536,\n",
              " 'looked': 537,\n",
              " 'stay': 538,\n",
              " 'handy': 539,\n",
              " 'dust': 540,\n",
              " 'weather': 541,\n",
              " \"i'd\": 542,\n",
              " 'cut': 543,\n",
              " 'either': 544,\n",
              " 'onto': 545,\n",
              " 'road': 546,\n",
              " 'pull': 547,\n",
              " 'his': 548,\n",
              " 'surface': 549,\n",
              " 'application': 550,\n",
              " 'material': 551,\n",
              " 'case': 552,\n",
              " \"couldn't\": 553,\n",
              " 'gave': 554,\n",
              " 'glass': 555,\n",
              " \"you're\": 556,\n",
              " 'lights': 557,\n",
              " 'durable': 558,\n",
              " 'due': 559,\n",
              " 'uses': 560,\n",
              " 'clips': 561,\n",
              " 'wheels': 562,\n",
              " 'area': 563,\n",
              " 'lasted': 564,\n",
              " \"isn't\": 565,\n",
              " 'duty': 566,\n",
              " 'towels': 567,\n",
              " 'handle': 568,\n",
              " 'whole': 569,\n",
              " 'past': 570,\n",
              " 'wire': 571,\n",
              " 'toyota': 572,\n",
              " 'package': 573,\n",
              " 'turn': 574,\n",
              " 'polish': 575,\n",
              " 'correct': 576,\n",
              " 'point': 577,\n",
              " 'save': 578,\n",
              " 'spot': 579,\n",
              " 'smaller': 580,\n",
              " 'guess': 581,\n",
              " 'space': 582,\n",
              " 'class': 583,\n",
              " 'normal': 584,\n",
              " 'chevy': 585,\n",
              " 'inch': 586,\n",
              " 'close': 587,\n",
              " 'plate': 588,\n",
              " '7': 589,\n",
              " 'open': 590,\n",
              " 'oem': 591,\n",
              " 'snow': 592,\n",
              " 'itself': 593,\n",
              " 'especially': 594,\n",
              " 'amount': 595,\n",
              " 'coat': 596,\n",
              " 'foam': 597,\n",
              " 'plus': 598,\n",
              " 'microfiber': 599,\n",
              " 'decent': 600,\n",
              " 'holes': 601,\n",
              " 'apart': 602,\n",
              " 'tank': 603,\n",
              " 'dead': 604,\n",
              " 'dash': 605,\n",
              " 'within': 606,\n",
              " 'reason': 607,\n",
              " 'shiny': 608,\n",
              " 'factory': 609,\n",
              " 'items': 610,\n",
              " 'decided': 611,\n",
              " 'fill': 612,\n",
              " 'pad': 613,\n",
              " '100': 614,\n",
              " 'gives': 615,\n",
              " 'spots': 616,\n",
              " 'kind': 617,\n",
              " 'rv': 618,\n",
              " 'etc': 619,\n",
              " 'step': 620,\n",
              " 'later': 621,\n",
              " 'such': 622,\n",
              " 'held': 623,\n",
              " 'standard': 624,\n",
              " 'entire': 625,\n",
              " 'expect': 626,\n",
              " 'clip': 627,\n",
              " 'stop': 628,\n",
              " 'us': 629,\n",
              " 'wind': 630,\n",
              " 'running': 631,\n",
              " 'someone': 632,\n",
              " 'sun': 633,\n",
              " 'parking': 634,\n",
              " 'performance': 635,\n",
              " 'hole': 636,\n",
              " 'head': 637,\n",
              " 'although': 638,\n",
              " 'sensor': 639,\n",
              " 'noise': 640,\n",
              " 'delivery': 641,\n",
              " 'tools': 642,\n",
              " 'glad': 643,\n",
              " 'care': 644,\n",
              " 'seal': 645,\n",
              " 'nicely': 646,\n",
              " 'making': 647,\n",
              " 'mounting': 648,\n",
              " 'windows': 649,\n",
              " 'frame': 650,\n",
              " 'live': 651,\n",
              " 'link': 652,\n",
              " 'move': 653,\n",
              " 'smooth': 654,\n",
              " 'park': 655,\n",
              " 'directions': 656,\n",
              " 'satisfied': 657,\n",
              " 'chrome': 658,\n",
              " 'applied': 659,\n",
              " 'along': 660,\n",
              " 'cleans': 661,\n",
              " 'cool': 662,\n",
              " 'simply': 663,\n",
              " 'update': 664,\n",
              " 'finally': 665,\n",
              " 'included': 666,\n",
              " 'schumacher': 667,\n",
              " 'stores': 668,\n",
              " 'designed': 669,\n",
              " 'husband': 670,\n",
              " 'kept': 671,\n",
              " 'added': 672,\n",
              " 'weight': 673,\n",
              " 'behind': 674,\n",
              " 'hot': 675,\n",
              " 'idea': 676,\n",
              " 'noticed': 677,\n",
              " 'stick': 678,\n",
              " 'locks': 679,\n",
              " 'helps': 680,\n",
              " 'cold': 681,\n",
              " 'duster': 682,\n",
              " 'bar': 683,\n",
              " 'believe': 684,\n",
              " 'cannot': 685,\n",
              " 'fantastic': 686,\n",
              " 'leak': 687,\n",
              " 'helmet': 688,\n",
              " 'display': 689,\n",
              " 'receiver': 690,\n",
              " 'bright': 691,\n",
              " 'twice': 692,\n",
              " 'thank': 693,\n",
              " 'otherwise': 694,\n",
              " 'description': 695,\n",
              " 'company': 696,\n",
              " 'pump': 697,\n",
              " 'extremely': 698,\n",
              " 'white': 699,\n",
              " 'compared': 700,\n",
              " 'regular': 701,\n",
              " '0': 702,\n",
              " 'room': 703,\n",
              " 'picture': 704,\n",
              " 'nissan': 705,\n",
              " 'fully': 706,\n",
              " 'together': 707,\n",
              " 'deep': 708,\n",
              " 'usually': 709,\n",
              " 'compressor': 710,\n",
              " 'often': 711,\n",
              " 'ended': 712,\n",
              " 'removing': 713,\n",
              " 'absolutely': 714,\n",
              " 'rust': 715,\n",
              " 'cloth': 716,\n",
              " 'keeping': 717,\n",
              " 'unless': 718,\n",
              " 'cap': 719,\n",
              " 'shop': 720,\n",
              " 'loose': 721,\n",
              " 'spend': 722,\n",
              " 'older': 723,\n",
              " 'non': 724,\n",
              " 'putting': 725,\n",
              " 'paper': 726,\n",
              " 'rather': 727,\n",
              " 'manual': 728,\n",
              " 'smell': 729,\n",
              " 'tape': 730,\n",
              " 'useful': 731,\n",
              " 'useless': 732,\n",
              " 'larger': 733,\n",
              " 'attached': 734,\n",
              " 'scratches': 735,\n",
              " 'hands': 736,\n",
              " 'protection': 737,\n",
              " 'applicator': 738,\n",
              " 'storage': 739,\n",
              " 'feels': 740,\n",
              " 'hour': 741,\n",
              " 'seemed': 742,\n",
              " 'cargo': 743,\n",
              " 'exact': 744,\n",
              " 'hope': 745,\n",
              " '000': 746,\n",
              " 'grip': 747,\n",
              " 'grease': 748,\n",
              " \"you'll\": 749,\n",
              " 'style': 750,\n",
              " 'outside': 751,\n",
              " 'sometimes': 752,\n",
              " 'saved': 753,\n",
              " 'wiring': 754,\n",
              " 'beat': 755,\n",
              " 'drove': 756,\n",
              " 'leaks': 757,\n",
              " 'removed': 758,\n",
              " 'pack': 759,\n",
              " 'tractor': 760,\n",
              " 'fact': 761,\n",
              " 'camper': 762,\n",
              " 'attach': 763,\n",
              " 'per': 764,\n",
              " 'experience': 765,\n",
              " 'double': 766,\n",
              " 'wife': 767,\n",
              " '2004': 768,\n",
              " 'stuck': 769,\n",
              " 'connect': 770,\n",
              " 'appears': 771,\n",
              " 'wires': 772,\n",
              " 'thin': 773,\n",
              " 'curt': 774,\n",
              " 'fairly': 775,\n",
              " 'broken': 776,\n",
              " '50': 777,\n",
              " 'fix': 778,\n",
              " \"they're\": 779,\n",
              " 'priced': 780,\n",
              " 'seen': 781,\n",
              " 'leaving': 782,\n",
              " 'meguiars': 783,\n",
              " 'fan': 784,\n",
              " 'fitting': 785,\n",
              " 'show': 786,\n",
              " 'yes': 787,\n",
              " 'packaging': 788,\n",
              " 'flat': 789,\n",
              " 'paid': 790,\n",
              " 'smells': 791,\n",
              " 'mower': 792,\n",
              " 'stopped': 793,\n",
              " 'break': 794,\n",
              " 'market': 795,\n",
              " 'name': 796,\n",
              " 'today': 797,\n",
              " 'chuck': 798,\n",
              " 'careful': 799,\n",
              " 'thick': 800,\n",
              " 'complaints': 801,\n",
              " 'suv': 802,\n",
              " 'screw': 803,\n",
              " '2005': 804,\n",
              " 'across': 805,\n",
              " 'lots': 806,\n",
              " 'plugged': 807,\n",
              " 'multiple': 808,\n",
              " 'seconds': 809,\n",
              " 'mounted': 810,\n",
              " 'test': 811,\n",
              " 'strap': 812,\n",
              " 'single': 813,\n",
              " 'mind': 814,\n",
              " 'locking': 815,\n",
              " 'night': 816,\n",
              " 'guy': 817,\n",
              " 'okay': 818,\n",
              " 'returned': 819,\n",
              " 'inexpensive': 820,\n",
              " 'screws': 821,\n",
              " 'transmission': 822,\n",
              " 'match': 823,\n",
              " 'bolts': 824,\n",
              " 'she': 825,\n",
              " 'pads': 826,\n",
              " 'against': 827,\n",
              " '16': 828,\n",
              " 'holding': 829,\n",
              " 'steering': 830,\n",
              " 'mileage': 831,\n",
              " 'her': 832,\n",
              " 'brands': 833,\n",
              " 'failed': 834,\n",
              " 'liked': 835,\n",
              " 'switch': 836,\n",
              " 'slightly': 837,\n",
              " 'higher': 838,\n",
              " 'lower': 839,\n",
              " 'push': 840,\n",
              " 'damage': 841,\n",
              " '2003': 842,\n",
              " 'connection': 843,\n",
              " 'range': 844,\n",
              " 'customer': 845,\n",
              " 'bolt': 846,\n",
              " 'liquid': 847,\n",
              " 'myself': 848,\n",
              " 'lasers': 849,\n",
              " 'dirty': 850,\n",
              " 'soon': 851,\n",
              " 'harness': 852,\n",
              " 'steps': 853,\n",
              " 'fluid': 854,\n",
              " 'touch': 855,\n",
              " 'body': 856,\n",
              " 'wrench': 857,\n",
              " 'impressed': 858,\n",
              " 'amp': 859,\n",
              " 'installing': 860,\n",
              " 'effective': 861,\n",
              " 'washes': 862,\n",
              " 'blue': 863,\n",
              " 'motor': 864,\n",
              " '2006': 865,\n",
              " 'similar': 866,\n",
              " 'steel': 867,\n",
              " 'required': 868,\n",
              " 'bumper': 869,\n",
              " 'ready': 870,\n",
              " 'shipped': 871,\n",
              " '2007': 872,\n",
              " 'dodge': 873,\n",
              " 'shape': 874,\n",
              " 'turned': 875,\n",
              " 'coming': 876,\n",
              " 'cr': 877,\n",
              " 'load': 878,\n",
              " 'checked': 879,\n",
              " 'wear': 880,\n",
              " 'hit': 881,\n",
              " 'hardware': 882,\n",
              " 'intended': 883,\n",
              " 'position': 884,\n",
              " 'gift': 885,\n",
              " 'house': 886,\n",
              " 'purpose': 887,\n",
              " 'adjust': 888,\n",
              " 'gear': 889,\n",
              " 'wide': 890,\n",
              " 'stays': 891,\n",
              " 'led': 892,\n",
              " 'solution': 893,\n",
              " 'available': 894,\n",
              " 'brake': 895,\n",
              " 'protect': 896,\n",
              " 'saw': 897,\n",
              " 'told': 898,\n",
              " 'fell': 899,\n",
              " 'techron': 900,\n",
              " 'number': 901,\n",
              " 'based': 902,\n",
              " 'subaru': 903,\n",
              " 'washed': 904,\n",
              " 'changed': 905,\n",
              " 'son': 906,\n",
              " 'pair': 907,\n",
              " 'recently': 908,\n",
              " 'heat': 909,\n",
              " 'owned': 910,\n",
              " 'note': 911,\n",
              " 'interior': 912,\n",
              " 'gel': 913,\n",
              " 'california': 914,\n",
              " '9': 915,\n",
              " 'yellow': 916,\n",
              " 'gone': 917,\n",
              " 'sent': 918,\n",
              " 'length': 919,\n",
              " 'inches': 920,\n",
              " \"there's\": 921,\n",
              " 'shows': 922,\n",
              " 'version': 923,\n",
              " '2012': 924,\n",
              " 's': 925,\n",
              " 'follow': 926,\n",
              " 'travel': 927,\n",
              " 'applying': 928,\n",
              " 'convenient': 929,\n",
              " 'd': 930,\n",
              " 'guage': 931,\n",
              " 'ground': 932,\n",
              " 'totally': 933,\n",
              " 'readings': 934,\n",
              " 'replacing': 935,\n",
              " 'cause': 936,\n",
              " 'unfortunately': 937,\n",
              " 'figure': 938,\n",
              " 'lawn': 939,\n",
              " 'friend': 940,\n",
              " 'floor': 941,\n",
              " 'plates': 942,\n",
              " 'reach': 943,\n",
              " 'reliable': 944,\n",
              " 'warranty': 945,\n",
              " 'lost': 946,\n",
              " 'huge': 947,\n",
              " 'terrible': 948,\n",
              " 'safe': 949,\n",
              " 'polishing': 950,\n",
              " 'stayed': 951,\n",
              " 'plugs': 952,\n",
              " 'stock': 953,\n",
              " 'effort': 954,\n",
              " 'rest': 955,\n",
              " 'stated': 956,\n",
              " 'tie': 957,\n",
              " 'chamois': 958,\n",
              " 'turtle': 959,\n",
              " '2002': 960,\n",
              " 'van': 961,\n",
              " 'cleaned': 962,\n",
              " 'motion': 963,\n",
              " 'delivered': 964,\n",
              " 'family': 965,\n",
              " 'scratch': 966,\n",
              " 'lasting': 967,\n",
              " 'cord': 968,\n",
              " 'mechanic': 969,\n",
              " 'loved': 970,\n",
              " 'wait': 971,\n",
              " 'matter': 972,\n",
              " 'notice': 973,\n",
              " 'summer': 974,\n",
              " 'online': 975,\n",
              " '2001': 976,\n",
              " 'process': 977,\n",
              " 'angle': 978,\n",
              " 'yourself': 979,\n",
              " 'rated': 980,\n",
              " 'except': 981,\n",
              " 'given': 982,\n",
              " 'feature': 983,\n",
              " 'correctly': 984,\n",
              " 'spring': 985,\n",
              " 'accord': 986,\n",
              " 'charm': 987,\n",
              " 'plenty': 988,\n",
              " 'optima': 989,\n",
              " 'previous': 990,\n",
              " 'lighter': 991,\n",
              " 'nut': 992,\n",
              " 'bucks': 993,\n",
              " 'support': 994,\n",
              " 'chargers': 995,\n",
              " 'straight': 996,\n",
              " 'repair': 997,\n",
              " 'taking': 998,\n",
              " 'garbage': 999,\n",
              " 'tough': 1000,\n",
              " ...}"
            ]
          },
          "metadata": {},
          "execution_count": 464
        }
      ]
    },
    {
      "cell_type": "code",
      "source": [
        "#And vocab size:\n",
        "\n",
        "MAX_TEXT_VOC = len(tok_raw.word_index)\n",
        "MAX_TEXT_VOC   # 321999, say: 322000"
      ],
      "metadata": {
        "colab": {
          "base_uri": "https://localhost:8080/"
        },
        "id": "IbhK2Ta_iDyx",
        "outputId": "851b8c07-0e40-4bfd-8366-1db277c7dc6c"
      },
      "execution_count": 465,
      "outputs": [
        {
          "output_type": "execute_result",
          "data": {
            "text/plain": [
              "33061"
            ]
          },
          "metadata": {},
          "execution_count": 465
        }
      ]
    },
    {
      "cell_type": "code",
      "source": [
        "#  Transforming the above three columns to integer sequences\n",
        "\n",
        "#  training first\n",
        "train[\"content_1\"] = tok_raw.texts_to_sequences(train.content.values)\n",
        "\n",
        "#  testing next\n",
        "\n",
        "test[\"content_1\"] = tok_raw.texts_to_sequences(test.content.values)\n",
        "\n",
        "#  training first\n",
        "train[\"summary_1\"] = tok_raw.texts_to_sequences(train.summary.values)\n",
        "\n",
        "#  testing next\n",
        "\n",
        "test[\"summary_1\"] = tok_raw.texts_to_sequences(test.summary.values)\n",
        "\n",
        "#  training first\n",
        "train[\"Name_1\"] = tok_raw.texts_to_sequences(train.Name.values)\n",
        "\n",
        "#  testing next\n",
        "\n",
        "test[\"Name_1\"] = tok_raw.texts_to_sequences(test.Name.values)\n",
        "\n"
      ],
      "metadata": {
        "id": "OhwYj1c1iHdK"
      },
      "execution_count": 466,
      "outputs": []
    },
    {
      "cell_type": "code",
      "source": [
        "# Checking transformed data:\n",
        "\n",
        "train.head(2)\n",
        "test.head(2)"
      ],
      "metadata": {
        "colab": {
          "base_uri": "https://localhost:8080/",
          "height": 566
        },
        "id": "vWLgHNt1iJR9",
        "outputId": "1e6d0882-0d11-4d16-e6b3-1db93db09998"
      },
      "execution_count": 467,
      "outputs": [
        {
          "output_type": "execute_result",
          "data": {
            "text/plain": [
              "               Name  age  gender security_no region_category  \\\n",
              "0   Merideth Mcmeen   44       0     1F2TCL3            Town   \n",
              "1  Eufemia Cardwell   37       1     VJGJ33N            City   \n",
              "\n",
              "   membership_category  avg_transaction_value points_in_wallet  \\\n",
              "0                    2               21027.00           500.69   \n",
              "1                    2               25239.56           567.66   \n",
              "\n",
              "   used_special_discount  past_complaint  complaint_status  feedback  \\\n",
              "0                      0               1                 3         3   \n",
              "1                      0               1                 4         3   \n",
              "\n",
              "   churn_score                                            content  \\\n",
              "0            5  Ordered two sets.  Jacked up car and used thes...   \n",
              "1            5                     Very good product worked great   \n",
              "\n",
              "                                    summary  sentiment  \\\n",
              "0  Not stable enough for me to crawl under.          0   \n",
              "1                                  One Star          0   \n",
              "\n",
              "                                           content_1  \\\n",
              "0  [296, 96, 1582, 10276, 43, 26, 3, 48, 51, 171,...   \n",
              "1                               [31, 23, 24, 92, 14]   \n",
              "\n",
              "                               summary_1        Name_1  \n",
              "0  [15, 2599, 174, 8, 78, 2, 10709, 356]  [1653, 6856]  \n",
              "1                              [27, 256]  [4658, 3179]  "
            ],
            "text/html": [
              "\n",
              "  <div id=\"df-bf2deb63-4dc2-47f9-9b41-de4e29c50837\">\n",
              "    <div class=\"colab-df-container\">\n",
              "      <div>\n",
              "<style scoped>\n",
              "    .dataframe tbody tr th:only-of-type {\n",
              "        vertical-align: middle;\n",
              "    }\n",
              "\n",
              "    .dataframe tbody tr th {\n",
              "        vertical-align: top;\n",
              "    }\n",
              "\n",
              "    .dataframe thead th {\n",
              "        text-align: right;\n",
              "    }\n",
              "</style>\n",
              "<table border=\"1\" class=\"dataframe\">\n",
              "  <thead>\n",
              "    <tr style=\"text-align: right;\">\n",
              "      <th></th>\n",
              "      <th>Name</th>\n",
              "      <th>age</th>\n",
              "      <th>gender</th>\n",
              "      <th>security_no</th>\n",
              "      <th>region_category</th>\n",
              "      <th>membership_category</th>\n",
              "      <th>avg_transaction_value</th>\n",
              "      <th>points_in_wallet</th>\n",
              "      <th>used_special_discount</th>\n",
              "      <th>past_complaint</th>\n",
              "      <th>complaint_status</th>\n",
              "      <th>feedback</th>\n",
              "      <th>churn_score</th>\n",
              "      <th>content</th>\n",
              "      <th>summary</th>\n",
              "      <th>sentiment</th>\n",
              "      <th>content_1</th>\n",
              "      <th>summary_1</th>\n",
              "      <th>Name_1</th>\n",
              "    </tr>\n",
              "  </thead>\n",
              "  <tbody>\n",
              "    <tr>\n",
              "      <th>0</th>\n",
              "      <td>Merideth Mcmeen</td>\n",
              "      <td>44</td>\n",
              "      <td>0</td>\n",
              "      <td>1F2TCL3</td>\n",
              "      <td>Town</td>\n",
              "      <td>2</td>\n",
              "      <td>21027.00</td>\n",
              "      <td>500.69</td>\n",
              "      <td>0</td>\n",
              "      <td>1</td>\n",
              "      <td>3</td>\n",
              "      <td>3</td>\n",
              "      <td>5</td>\n",
              "      <td>Ordered two sets.  Jacked up car and used thes...</td>\n",
              "      <td>Not stable enough for me to crawl under.</td>\n",
              "      <td>0</td>\n",
              "      <td>[296, 96, 1582, 10276, 43, 26, 3, 48, 51, 171,...</td>\n",
              "      <td>[15, 2599, 174, 8, 78, 2, 10709, 356]</td>\n",
              "      <td>[1653, 6856]</td>\n",
              "    </tr>\n",
              "    <tr>\n",
              "      <th>1</th>\n",
              "      <td>Eufemia Cardwell</td>\n",
              "      <td>37</td>\n",
              "      <td>1</td>\n",
              "      <td>VJGJ33N</td>\n",
              "      <td>City</td>\n",
              "      <td>2</td>\n",
              "      <td>25239.56</td>\n",
              "      <td>567.66</td>\n",
              "      <td>0</td>\n",
              "      <td>1</td>\n",
              "      <td>4</td>\n",
              "      <td>3</td>\n",
              "      <td>5</td>\n",
              "      <td>Very good product worked great</td>\n",
              "      <td>One Star</td>\n",
              "      <td>0</td>\n",
              "      <td>[31, 23, 24, 92, 14]</td>\n",
              "      <td>[27, 256]</td>\n",
              "      <td>[4658, 3179]</td>\n",
              "    </tr>\n",
              "  </tbody>\n",
              "</table>\n",
              "</div>\n",
              "      <button class=\"colab-df-convert\" onclick=\"convertToInteractive('df-bf2deb63-4dc2-47f9-9b41-de4e29c50837')\"\n",
              "              title=\"Convert this dataframe to an interactive table.\"\n",
              "              style=\"display:none;\">\n",
              "        \n",
              "  <svg xmlns=\"http://www.w3.org/2000/svg\" height=\"24px\"viewBox=\"0 0 24 24\"\n",
              "       width=\"24px\">\n",
              "    <path d=\"M0 0h24v24H0V0z\" fill=\"none\"/>\n",
              "    <path d=\"M18.56 5.44l.94 2.06.94-2.06 2.06-.94-2.06-.94-.94-2.06-.94 2.06-2.06.94zm-11 1L8.5 8.5l.94-2.06 2.06-.94-2.06-.94L8.5 2.5l-.94 2.06-2.06.94zm10 10l.94 2.06.94-2.06 2.06-.94-2.06-.94-.94-2.06-.94 2.06-2.06.94z\"/><path d=\"M17.41 7.96l-1.37-1.37c-.4-.4-.92-.59-1.43-.59-.52 0-1.04.2-1.43.59L10.3 9.45l-7.72 7.72c-.78.78-.78 2.05 0 2.83L4 21.41c.39.39.9.59 1.41.59.51 0 1.02-.2 1.41-.59l7.78-7.78 2.81-2.81c.8-.78.8-2.07 0-2.86zM5.41 20L4 18.59l7.72-7.72 1.47 1.35L5.41 20z\"/>\n",
              "  </svg>\n",
              "      </button>\n",
              "      \n",
              "  <style>\n",
              "    .colab-df-container {\n",
              "      display:flex;\n",
              "      flex-wrap:wrap;\n",
              "      gap: 12px;\n",
              "    }\n",
              "\n",
              "    .colab-df-convert {\n",
              "      background-color: #E8F0FE;\n",
              "      border: none;\n",
              "      border-radius: 50%;\n",
              "      cursor: pointer;\n",
              "      display: none;\n",
              "      fill: #1967D2;\n",
              "      height: 32px;\n",
              "      padding: 0 0 0 0;\n",
              "      width: 32px;\n",
              "    }\n",
              "\n",
              "    .colab-df-convert:hover {\n",
              "      background-color: #E2EBFA;\n",
              "      box-shadow: 0px 1px 2px rgba(60, 64, 67, 0.3), 0px 1px 3px 1px rgba(60, 64, 67, 0.15);\n",
              "      fill: #174EA6;\n",
              "    }\n",
              "\n",
              "    [theme=dark] .colab-df-convert {\n",
              "      background-color: #3B4455;\n",
              "      fill: #D2E3FC;\n",
              "    }\n",
              "\n",
              "    [theme=dark] .colab-df-convert:hover {\n",
              "      background-color: #434B5C;\n",
              "      box-shadow: 0px 1px 3px 1px rgba(0, 0, 0, 0.15);\n",
              "      filter: drop-shadow(0px 1px 2px rgba(0, 0, 0, 0.3));\n",
              "      fill: #FFFFFF;\n",
              "    }\n",
              "  </style>\n",
              "\n",
              "      <script>\n",
              "        const buttonEl =\n",
              "          document.querySelector('#df-bf2deb63-4dc2-47f9-9b41-de4e29c50837 button.colab-df-convert');\n",
              "        buttonEl.style.display =\n",
              "          google.colab.kernel.accessAllowed ? 'block' : 'none';\n",
              "\n",
              "        async function convertToInteractive(key) {\n",
              "          const element = document.querySelector('#df-bf2deb63-4dc2-47f9-9b41-de4e29c50837');\n",
              "          const dataTable =\n",
              "            await google.colab.kernel.invokeFunction('convertToInteractive',\n",
              "                                                     [key], {});\n",
              "          if (!dataTable) return;\n",
              "\n",
              "          const docLinkHtml = 'Like what you see? Visit the ' +\n",
              "            '<a target=\"_blank\" href=https://colab.research.google.com/notebooks/data_table.ipynb>data table notebook</a>'\n",
              "            + ' to learn more about interactive tables.';\n",
              "          element.innerHTML = '';\n",
              "          dataTable['output_type'] = 'display_data';\n",
              "          await google.colab.output.renderOutput(dataTable, element);\n",
              "          const docLink = document.createElement('div');\n",
              "          docLink.innerHTML = docLinkHtml;\n",
              "          element.appendChild(docLink);\n",
              "        }\n",
              "      </script>\n",
              "    </div>\n",
              "  </div>\n",
              "  "
            ]
          },
          "metadata": {},
          "execution_count": 467
        },
        {
          "output_type": "execute_result",
          "data": {
            "text/plain": [
              "             Name  age  gender security_no region_category  \\\n",
              "0   Evelyne Kinch   17       1     NBV1O8W            Town   \n",
              "1  Franklin Lurry   22       1     C3B77NU            Town   \n",
              "\n",
              "   membership_category  avg_transaction_value points_in_wallet  \\\n",
              "0                    0                9948.54           577.83   \n",
              "1                    2               19363.60           528.66   \n",
              "\n",
              "   used_special_discount  past_complaint  complaint_status  feedback  \\\n",
              "0                      1               1                 0         2   \n",
              "1                      1               0                 1         3   \n",
              "\n",
              "   churn_score  sentiment                                            content  \\\n",
              "0            5          2  I just want to say that most Meguiar's product...   \n",
              "1            5          1  This item is misrepresented.  Meguiar's no lon...   \n",
              "\n",
              "                                             summary  \\\n",
              "0  half of the product leaked before opening...di...   \n",
              "1                Meguiar's Gold Class Clear Coat Wax   \n",
              "\n",
              "                                           content_1  \\\n",
              "0  [4, 36, 243, 2, 227, 17, 254, 386, 229, 37, 10...   \n",
              "1  [7, 165, 9, 8813, 386, 50, 322, 195, 360, 596,...   \n",
              "\n",
              "                                summary_1        Name_1  \n",
              "0  [403, 11, 1, 24, 1623, 159, 1377, 449]  [1568, 4868]  \n",
              "1         [386, 1110, 583, 360, 596, 125]  [2071, 5055]  "
            ],
            "text/html": [
              "\n",
              "  <div id=\"df-a6912a6c-4058-4d72-90dd-cfaf7bf78c5f\">\n",
              "    <div class=\"colab-df-container\">\n",
              "      <div>\n",
              "<style scoped>\n",
              "    .dataframe tbody tr th:only-of-type {\n",
              "        vertical-align: middle;\n",
              "    }\n",
              "\n",
              "    .dataframe tbody tr th {\n",
              "        vertical-align: top;\n",
              "    }\n",
              "\n",
              "    .dataframe thead th {\n",
              "        text-align: right;\n",
              "    }\n",
              "</style>\n",
              "<table border=\"1\" class=\"dataframe\">\n",
              "  <thead>\n",
              "    <tr style=\"text-align: right;\">\n",
              "      <th></th>\n",
              "      <th>Name</th>\n",
              "      <th>age</th>\n",
              "      <th>gender</th>\n",
              "      <th>security_no</th>\n",
              "      <th>region_category</th>\n",
              "      <th>membership_category</th>\n",
              "      <th>avg_transaction_value</th>\n",
              "      <th>points_in_wallet</th>\n",
              "      <th>used_special_discount</th>\n",
              "      <th>past_complaint</th>\n",
              "      <th>complaint_status</th>\n",
              "      <th>feedback</th>\n",
              "      <th>churn_score</th>\n",
              "      <th>sentiment</th>\n",
              "      <th>content</th>\n",
              "      <th>summary</th>\n",
              "      <th>content_1</th>\n",
              "      <th>summary_1</th>\n",
              "      <th>Name_1</th>\n",
              "    </tr>\n",
              "  </thead>\n",
              "  <tbody>\n",
              "    <tr>\n",
              "      <th>0</th>\n",
              "      <td>Evelyne Kinch</td>\n",
              "      <td>17</td>\n",
              "      <td>1</td>\n",
              "      <td>NBV1O8W</td>\n",
              "      <td>Town</td>\n",
              "      <td>0</td>\n",
              "      <td>9948.54</td>\n",
              "      <td>577.83</td>\n",
              "      <td>1</td>\n",
              "      <td>1</td>\n",
              "      <td>0</td>\n",
              "      <td>2</td>\n",
              "      <td>5</td>\n",
              "      <td>2</td>\n",
              "      <td>I just want to say that most Meguiar's product...</td>\n",
              "      <td>half of the product leaked before opening...di...</td>\n",
              "      <td>[4, 36, 243, 2, 227, 17, 254, 386, 229, 37, 10...</td>\n",
              "      <td>[403, 11, 1, 24, 1623, 159, 1377, 449]</td>\n",
              "      <td>[1568, 4868]</td>\n",
              "    </tr>\n",
              "    <tr>\n",
              "      <th>1</th>\n",
              "      <td>Franklin Lurry</td>\n",
              "      <td>22</td>\n",
              "      <td>1</td>\n",
              "      <td>C3B77NU</td>\n",
              "      <td>Town</td>\n",
              "      <td>2</td>\n",
              "      <td>19363.60</td>\n",
              "      <td>528.66</td>\n",
              "      <td>1</td>\n",
              "      <td>0</td>\n",
              "      <td>1</td>\n",
              "      <td>3</td>\n",
              "      <td>5</td>\n",
              "      <td>1</td>\n",
              "      <td>This item is misrepresented.  Meguiar's no lon...</td>\n",
              "      <td>Meguiar's Gold Class Clear Coat Wax</td>\n",
              "      <td>[7, 165, 9, 8813, 386, 50, 322, 195, 360, 596,...</td>\n",
              "      <td>[386, 1110, 583, 360, 596, 125]</td>\n",
              "      <td>[2071, 5055]</td>\n",
              "    </tr>\n",
              "  </tbody>\n",
              "</table>\n",
              "</div>\n",
              "      <button class=\"colab-df-convert\" onclick=\"convertToInteractive('df-a6912a6c-4058-4d72-90dd-cfaf7bf78c5f')\"\n",
              "              title=\"Convert this dataframe to an interactive table.\"\n",
              "              style=\"display:none;\">\n",
              "        \n",
              "  <svg xmlns=\"http://www.w3.org/2000/svg\" height=\"24px\"viewBox=\"0 0 24 24\"\n",
              "       width=\"24px\">\n",
              "    <path d=\"M0 0h24v24H0V0z\" fill=\"none\"/>\n",
              "    <path d=\"M18.56 5.44l.94 2.06.94-2.06 2.06-.94-2.06-.94-.94-2.06-.94 2.06-2.06.94zm-11 1L8.5 8.5l.94-2.06 2.06-.94-2.06-.94L8.5 2.5l-.94 2.06-2.06.94zm10 10l.94 2.06.94-2.06 2.06-.94-2.06-.94-.94-2.06-.94 2.06-2.06.94z\"/><path d=\"M17.41 7.96l-1.37-1.37c-.4-.4-.92-.59-1.43-.59-.52 0-1.04.2-1.43.59L10.3 9.45l-7.72 7.72c-.78.78-.78 2.05 0 2.83L4 21.41c.39.39.9.59 1.41.59.51 0 1.02-.2 1.41-.59l7.78-7.78 2.81-2.81c.8-.78.8-2.07 0-2.86zM5.41 20L4 18.59l7.72-7.72 1.47 1.35L5.41 20z\"/>\n",
              "  </svg>\n",
              "      </button>\n",
              "      \n",
              "  <style>\n",
              "    .colab-df-container {\n",
              "      display:flex;\n",
              "      flex-wrap:wrap;\n",
              "      gap: 12px;\n",
              "    }\n",
              "\n",
              "    .colab-df-convert {\n",
              "      background-color: #E8F0FE;\n",
              "      border: none;\n",
              "      border-radius: 50%;\n",
              "      cursor: pointer;\n",
              "      display: none;\n",
              "      fill: #1967D2;\n",
              "      height: 32px;\n",
              "      padding: 0 0 0 0;\n",
              "      width: 32px;\n",
              "    }\n",
              "\n",
              "    .colab-df-convert:hover {\n",
              "      background-color: #E2EBFA;\n",
              "      box-shadow: 0px 1px 2px rgba(60, 64, 67, 0.3), 0px 1px 3px 1px rgba(60, 64, 67, 0.15);\n",
              "      fill: #174EA6;\n",
              "    }\n",
              "\n",
              "    [theme=dark] .colab-df-convert {\n",
              "      background-color: #3B4455;\n",
              "      fill: #D2E3FC;\n",
              "    }\n",
              "\n",
              "    [theme=dark] .colab-df-convert:hover {\n",
              "      background-color: #434B5C;\n",
              "      box-shadow: 0px 1px 3px 1px rgba(0, 0, 0, 0.15);\n",
              "      filter: drop-shadow(0px 1px 2px rgba(0, 0, 0, 0.3));\n",
              "      fill: #FFFFFF;\n",
              "    }\n",
              "  </style>\n",
              "\n",
              "      <script>\n",
              "        const buttonEl =\n",
              "          document.querySelector('#df-a6912a6c-4058-4d72-90dd-cfaf7bf78c5f button.colab-df-convert');\n",
              "        buttonEl.style.display =\n",
              "          google.colab.kernel.accessAllowed ? 'block' : 'none';\n",
              "\n",
              "        async function convertToInteractive(key) {\n",
              "          const element = document.querySelector('#df-a6912a6c-4058-4d72-90dd-cfaf7bf78c5f');\n",
              "          const dataTable =\n",
              "            await google.colab.kernel.invokeFunction('convertToInteractive',\n",
              "                                                     [key], {});\n",
              "          if (!dataTable) return;\n",
              "\n",
              "          const docLinkHtml = 'Like what you see? Visit the ' +\n",
              "            '<a target=\"_blank\" href=https://colab.research.google.com/notebooks/data_table.ipynb>data table notebook</a>'\n",
              "            + ' to learn more about interactive tables.';\n",
              "          element.innerHTML = '';\n",
              "          dataTable['output_type'] = 'display_data';\n",
              "          await google.colab.output.renderOutput(dataTable, element);\n",
              "          const docLink = document.createElement('div');\n",
              "          docLink.innerHTML = docLinkHtml;\n",
              "          element.appendChild(docLink);\n",
              "        }\n",
              "      </script>\n",
              "    </div>\n",
              "  </div>\n",
              "  "
            ]
          },
          "metadata": {},
          "execution_count": 467
        }
      ]
    },
    {
      "cell_type": "code",
      "source": [
        "train.columns\n",
        "test.columns"
      ],
      "metadata": {
        "colab": {
          "base_uri": "https://localhost:8080/"
        },
        "id": "AqfHT_priLdw",
        "outputId": "a14afa1f-8166-4427-bd76-d4db40b263bf"
      },
      "execution_count": 468,
      "outputs": [
        {
          "output_type": "execute_result",
          "data": {
            "text/plain": [
              "Index(['Name', 'age', 'gender', 'security_no', 'region_category',\n",
              "       'membership_category', 'avg_transaction_value', 'points_in_wallet',\n",
              "       'used_special_discount', 'past_complaint', 'complaint_status',\n",
              "       'feedback', 'churn_score', 'content', 'summary', 'sentiment',\n",
              "       'content_1', 'summary_1', 'Name_1'],\n",
              "      dtype='object')"
            ]
          },
          "metadata": {},
          "execution_count": 468
        },
        {
          "output_type": "execute_result",
          "data": {
            "text/plain": [
              "Index(['Name', 'age', 'gender', 'security_no', 'region_category',\n",
              "       'membership_category', 'avg_transaction_value', 'points_in_wallet',\n",
              "       'used_special_discount', 'past_complaint', 'complaint_status',\n",
              "       'feedback', 'churn_score', 'sentiment', 'content', 'summary',\n",
              "       'content_1', 'summary_1', 'Name_1'],\n",
              "      dtype='object')"
            ]
          },
          "metadata": {},
          "execution_count": 468
        }
      ]
    },
    {
      "cell_type": "code",
      "source": [
        "# To get histogram of distribution of content lengths\n",
        "\n",
        "train.content_1.apply(lambda x: len(x)).hist()"
      ],
      "metadata": {
        "colab": {
          "base_uri": "https://localhost:8080/",
          "height": 282
        },
        "id": "5YHEg9CYiNSG",
        "outputId": "44e3ee07-e83c-412a-8fa4-8f29af39b05c"
      },
      "execution_count": 469,
      "outputs": [
        {
          "output_type": "execute_result",
          "data": {
            "text/plain": [
              "<matplotlib.axes._subplots.AxesSubplot at 0x7fcb05d88580>"
            ]
          },
          "metadata": {},
          "execution_count": 469
        },
        {
          "output_type": "display_data",
          "data": {
            "text/plain": [
              "<Figure size 432x288 with 1 Axes>"
            ],
            "image/png": "[encoded data removed]"
          },
          "metadata": {}
        }
      ]
    },
    {
      "cell_type": "code",
      "source": [
        "# To get histogram of distribution of Name lengths\n",
        "\n",
        "train.Name_1.apply(lambda x: len(x)).hist()"
      ],
      "metadata": {
        "colab": {
          "base_uri": "https://localhost:8080/",
          "height": 282
        },
        "id": "XzLOZKMliPFK",
        "outputId": "2b6fb7b9-d174-4d3f-941e-8075c665c53f"
      },
      "execution_count": 470,
      "outputs": [
        {
          "output_type": "execute_result",
          "data": {
            "text/plain": [
              "<matplotlib.axes._subplots.AxesSubplot at 0x7fcb05d7edf0>"
            ]
          },
          "metadata": {},
          "execution_count": 470
        },
        {
          "output_type": "display_data",
          "data": {
            "text/plain": [
              "<Figure size 432x288 with 1 Axes>"
            ],
            "image/png": "[encoded data removed]"
          },
          "metadata": {}
        }
      ]
    },
    {
      "cell_type": "code",
      "source": [
        "# To get histogram of distribution of summary lengths\n",
        "\n",
        "train.summary_1.apply(lambda x: len(x)).hist()"
      ],
      "metadata": {
        "colab": {
          "base_uri": "https://localhost:8080/",
          "height": 282
        },
        "id": "uv-Lw7qTiQvM",
        "outputId": "242c5881-b65e-4e65-eb3a-8518e1568702"
      },
      "execution_count": 471,
      "outputs": [
        {
          "output_type": "execute_result",
          "data": {
            "text/plain": [
              "<matplotlib.axes._subplots.AxesSubplot at 0x7fcb040cb0a0>"
            ]
          },
          "metadata": {},
          "execution_count": 471
        },
        {
          "output_type": "display_data",
          "data": {
            "text/plain": [
              "<Figure size 432x288 with 1 Axes>"
            ],
            "image/png": "[encoded data removed]"
          },
          "metadata": {}
        }
      ]
    },
    {
      "cell_type": "markdown",
      "source": [
        "##Defining the function and creating a dictionary of data"
      ],
      "metadata": {
        "id": "FB9HtiBAiVdh"
      }
    },
    {
      "cell_type": "code",
      "source": [
        "train.head(2)"
      ],
      "metadata": {
        "colab": {
          "base_uri": "https://localhost:8080/",
          "height": 332
        },
        "id": "Sds6A7mdiSnx",
        "outputId": "30cae0b3-b8de-4590-88a8-ba44cc7738a6"
      },
      "execution_count": 472,
      "outputs": [
        {
          "output_type": "execute_result",
          "data": {
            "text/plain": [
              "               Name  age  gender security_no region_category  \\\n",
              "0   Merideth Mcmeen   44       0     1F2TCL3            Town   \n",
              "1  Eufemia Cardwell   37       1     VJGJ33N            City   \n",
              "\n",
              "   membership_category  avg_transaction_value points_in_wallet  \\\n",
              "0                    2               21027.00           500.69   \n",
              "1                    2               25239.56           567.66   \n",
              "\n",
              "   used_special_discount  past_complaint  complaint_status  feedback  \\\n",
              "0                      0               1                 3         3   \n",
              "1                      0               1                 4         3   \n",
              "\n",
              "   churn_score                                            content  \\\n",
              "0            5  Ordered two sets.  Jacked up car and used thes...   \n",
              "1            5                     Very good product worked great   \n",
              "\n",
              "                                    summary  sentiment  \\\n",
              "0  Not stable enough for me to crawl under.          0   \n",
              "1                                  One Star          0   \n",
              "\n",
              "                                           content_1  \\\n",
              "0  [296, 96, 1582, 10276, 43, 26, 3, 48, 51, 171,...   \n",
              "1                               [31, 23, 24, 92, 14]   \n",
              "\n",
              "                               summary_1        Name_1  \n",
              "0  [15, 2599, 174, 8, 78, 2, 10709, 356]  [1653, 6856]  \n",
              "1                              [27, 256]  [4658, 3179]  "
            ],
            "text/html": [
              "\n",
              "  <div id=\"df-9c508b3a-e64f-44b0-b157-1df8538255ca\">\n",
              "    <div class=\"colab-df-container\">\n",
              "      <div>\n",
              "<style scoped>\n",
              "    .dataframe tbody tr th:only-of-type {\n",
              "        vertical-align: middle;\n",
              "    }\n",
              "\n",
              "    .dataframe tbody tr th {\n",
              "        vertical-align: top;\n",
              "    }\n",
              "\n",
              "    .dataframe thead th {\n",
              "        text-align: right;\n",
              "    }\n",
              "</style>\n",
              "<table border=\"1\" class=\"dataframe\">\n",
              "  <thead>\n",
              "    <tr style=\"text-align: right;\">\n",
              "      <th></th>\n",
              "      <th>Name</th>\n",
              "      <th>age</th>\n",
              "      <th>gender</th>\n",
              "      <th>security_no</th>\n",
              "      <th>region_category</th>\n",
              "      <th>membership_category</th>\n",
              "      <th>avg_transaction_value</th>\n",
              "      <th>points_in_wallet</th>\n",
              "      <th>used_special_discount</th>\n",
              "      <th>past_complaint</th>\n",
              "      <th>complaint_status</th>\n",
              "      <th>feedback</th>\n",
              "      <th>churn_score</th>\n",
              "      <th>content</th>\n",
              "      <th>summary</th>\n",
              "      <th>sentiment</th>\n",
              "      <th>content_1</th>\n",
              "      <th>summary_1</th>\n",
              "      <th>Name_1</th>\n",
              "    </tr>\n",
              "  </thead>\n",
              "  <tbody>\n",
              "    <tr>\n",
              "      <th>0</th>\n",
              "      <td>Merideth Mcmeen</td>\n",
              "      <td>44</td>\n",
              "      <td>0</td>\n",
              "      <td>1F2TCL3</td>\n",
              "      <td>Town</td>\n",
              "      <td>2</td>\n",
              "      <td>21027.00</td>\n",
              "      <td>500.69</td>\n",
              "      <td>0</td>\n",
              "      <td>1</td>\n",
              "      <td>3</td>\n",
              "      <td>3</td>\n",
              "      <td>5</td>\n",
              "      <td>Ordered two sets.  Jacked up car and used thes...</td>\n",
              "      <td>Not stable enough for me to crawl under.</td>\n",
              "      <td>0</td>\n",
              "      <td>[296, 96, 1582, 10276, 43, 26, 3, 48, 51, 171,...</td>\n",
              "      <td>[15, 2599, 174, 8, 78, 2, 10709, 356]</td>\n",
              "      <td>[1653, 6856]</td>\n",
              "    </tr>\n",
              "    <tr>\n",
              "      <th>1</th>\n",
              "      <td>Eufemia Cardwell</td>\n",
              "      <td>37</td>\n",
              "      <td>1</td>\n",
              "      <td>VJGJ33N</td>\n",
              "      <td>City</td>\n",
              "      <td>2</td>\n",
              "      <td>25239.56</td>\n",
              "      <td>567.66</td>\n",
              "      <td>0</td>\n",
              "      <td>1</td>\n",
              "      <td>4</td>\n",
              "      <td>3</td>\n",
              "      <td>5</td>\n",
              "      <td>Very good product worked great</td>\n",
              "      <td>One Star</td>\n",
              "      <td>0</td>\n",
              "      <td>[31, 23, 24, 92, 14]</td>\n",
              "      <td>[27, 256]</td>\n",
              "      <td>[4658, 3179]</td>\n",
              "    </tr>\n",
              "  </tbody>\n",
              "</table>\n",
              "</div>\n",
              "      <button class=\"colab-df-convert\" onclick=\"convertToInteractive('df-9c508b3a-e64f-44b0-b157-1df8538255ca')\"\n",
              "              title=\"Convert this dataframe to an interactive table.\"\n",
              "              style=\"display:none;\">\n",
              "        \n",
              "  <svg xmlns=\"http://www.w3.org/2000/svg\" height=\"24px\"viewBox=\"0 0 24 24\"\n",
              "       width=\"24px\">\n",
              "    <path d=\"M0 0h24v24H0V0z\" fill=\"none\"/>\n",
              "    <path d=\"M18.56 5.44l.94 2.06.94-2.06 2.06-.94-2.06-.94-.94-2.06-.94 2.06-2.06.94zm-11 1L8.5 8.5l.94-2.06 2.06-.94-2.06-.94L8.5 2.5l-.94 2.06-2.06.94zm10 10l.94 2.06.94-2.06 2.06-.94-2.06-.94-.94-2.06-.94 2.06-2.06.94z\"/><path d=\"M17.41 7.96l-1.37-1.37c-.4-.4-.92-.59-1.43-.59-.52 0-1.04.2-1.43.59L10.3 9.45l-7.72 7.72c-.78.78-.78 2.05 0 2.83L4 21.41c.39.39.9.59 1.41.59.51 0 1.02-.2 1.41-.59l7.78-7.78 2.81-2.81c.8-.78.8-2.07 0-2.86zM5.41 20L4 18.59l7.72-7.72 1.47 1.35L5.41 20z\"/>\n",
              "  </svg>\n",
              "      </button>\n",
              "      \n",
              "  <style>\n",
              "    .colab-df-container {\n",
              "      display:flex;\n",
              "      flex-wrap:wrap;\n",
              "      gap: 12px;\n",
              "    }\n",
              "\n",
              "    .colab-df-convert {\n",
              "      background-color: #E8F0FE;\n",
              "      border: none;\n",
              "      border-radius: 50%;\n",
              "      cursor: pointer;\n",
              "      display: none;\n",
              "      fill: #1967D2;\n",
              "      height: 32px;\n",
              "      padding: 0 0 0 0;\n",
              "      width: 32px;\n",
              "    }\n",
              "\n",
              "    .colab-df-convert:hover {\n",
              "      background-color: #E2EBFA;\n",
              "      box-shadow: 0px 1px 2px rgba(60, 64, 67, 0.3), 0px 1px 3px 1px rgba(60, 64, 67, 0.15);\n",
              "      fill: #174EA6;\n",
              "    }\n",
              "\n",
              "    [theme=dark] .colab-df-convert {\n",
              "      background-color: #3B4455;\n",
              "      fill: #D2E3FC;\n",
              "    }\n",
              "\n",
              "    [theme=dark] .colab-df-convert:hover {\n",
              "      background-color: #434B5C;\n",
              "      box-shadow: 0px 1px 3px 1px rgba(0, 0, 0, 0.15);\n",
              "      filter: drop-shadow(0px 1px 2px rgba(0, 0, 0, 0.3));\n",
              "      fill: #FFFFFF;\n",
              "    }\n",
              "  </style>\n",
              "\n",
              "      <script>\n",
              "        const buttonEl =\n",
              "          document.querySelector('#df-9c508b3a-e64f-44b0-b157-1df8538255ca button.colab-df-convert');\n",
              "        buttonEl.style.display =\n",
              "          google.colab.kernel.accessAllowed ? 'block' : 'none';\n",
              "\n",
              "        async function convertToInteractive(key) {\n",
              "          const element = document.querySelector('#df-9c508b3a-e64f-44b0-b157-1df8538255ca');\n",
              "          const dataTable =\n",
              "            await google.colab.kernel.invokeFunction('convertToInteractive',\n",
              "                                                     [key], {});\n",
              "          if (!dataTable) return;\n",
              "\n",
              "          const docLinkHtml = 'Like what you see? Visit the ' +\n",
              "            '<a target=\"_blank\" href=https://colab.research.google.com/notebooks/data_table.ipynb>data table notebook</a>'\n",
              "            + ' to learn more about interactive tables.';\n",
              "          element.innerHTML = '';\n",
              "          dataTable['output_type'] = 'display_data';\n",
              "          await google.colab.output.renderOutput(dataTable, element);\n",
              "          const docLink = document.createElement('div');\n",
              "          docLink.innerHTML = docLinkHtml;\n",
              "          element.appendChild(docLink);\n",
              "        }\n",
              "      </script>\n",
              "    </div>\n",
              "  </div>\n",
              "  "
            ]
          },
          "metadata": {},
          "execution_count": 472
        }
      ]
    },
    {
      "cell_type": "code",
      "source": [
        "train.columns"
      ],
      "metadata": {
        "colab": {
          "base_uri": "https://localhost:8080/"
        },
        "id": "m7FBRSdsnuI8",
        "outputId": "9aca9369-6da8-4611-c359-298c63a2483f"
      },
      "execution_count": 473,
      "outputs": [
        {
          "output_type": "execute_result",
          "data": {
            "text/plain": [
              "Index(['Name', 'age', 'gender', 'security_no', 'region_category',\n",
              "       'membership_category', 'avg_transaction_value', 'points_in_wallet',\n",
              "       'used_special_discount', 'past_complaint', 'complaint_status',\n",
              "       'feedback', 'churn_score', 'content', 'summary', 'sentiment',\n",
              "       'content_1', 'summary_1', 'Name_1'],\n",
              "      dtype='object')"
            ]
          },
          "metadata": {},
          "execution_count": 473
        }
      ]
    },
    {
      "cell_type": "markdown",
      "source": [
        "### To view all columns"
      ],
      "metadata": {
        "id": "VV8_dvgWqS_Z"
      }
    },
    {
      "cell_type": "code",
      "source": [
        "pd.set_option('display.max_columns', None)"
      ],
      "metadata": {
        "id": "Fk64JuB7pgfY"
      },
      "execution_count": 474,
      "outputs": []
    },
    {
      "cell_type": "code",
      "source": [
        "test.head()"
      ],
      "metadata": {
        "colab": {
          "base_uri": "https://localhost:8080/",
          "height": 565
        },
        "id": "W7g5YnKnpjKQ",
        "outputId": "078f9e4d-e519-4e36-8ae0-6403e410eb76"
      },
      "execution_count": 475,
      "outputs": [
        {
          "output_type": "execute_result",
          "data": {
            "text/plain": [
              "                Name  age  gender security_no region_category  \\\n",
              "0      Evelyne Kinch   17       1     NBV1O8W            Town   \n",
              "1     Franklin Lurry   22       1     C3B77NU            Town   \n",
              "2        Alan Branum   17       1     OCHQG0L         Village   \n",
              "3          Elke Yann   55       0     4KPKRVX            Town   \n",
              "4  Nichelle Oceguera   18       0     M0ZT1CU            City   \n",
              "\n",
              "   membership_category  avg_transaction_value points_in_wallet  \\\n",
              "0                    0                9948.54           577.83   \n",
              "1                    2               19363.60           528.66   \n",
              "2                    0               48913.95           613.79   \n",
              "3                    0               30773.81           520.36   \n",
              "4                    0               28112.33           523.41   \n",
              "\n",
              "   used_special_discount  past_complaint  complaint_status  feedback  \\\n",
              "0                      1               1                 0         2   \n",
              "1                      1               0                 1         3   \n",
              "2                      1               0                 1         2   \n",
              "3                      0               0                 1         7   \n",
              "4                      1               1                 2         3   \n",
              "\n",
              "   churn_score  sentiment                                            content  \\\n",
              "0            5          2  I just want to say that most Meguiar's product...   \n",
              "1            5          1  This item is misrepresented.  Meguiar's no lon...   \n",
              "2            5          1                      Leaves film on car after wash   \n",
              "3            5          1  Soap is soap regardless of manufacturer ,who c...   \n",
              "4            5          1  I purchased 2 bottles, finished the first bott...   \n",
              "\n",
              "                                             summary  \\\n",
              "0  half of the product leaked before opening...di...   \n",
              "1                Meguiar's Gold Class Clear Coat Wax   \n",
              "2                                           One Star   \n",
              "3                                    Give me a break   \n",
              "4                               Diluted Liquid Soap!   \n",
              "\n",
              "                                           content_1  \\\n",
              "0  [4, 36, 243, 2, 227, 17, 254, 386, 229, 37, 10...   \n",
              "1  [7, 165, 9, 8813, 386, 50, 322, 195, 360, 596,...   \n",
              "2                       [406, 1801, 12, 26, 63, 183]   \n",
              "3  [509, 9, 509, 2669, 11, 1098, 392, 65, 90, 475...   \n",
              "4  [4, 184, 86, 1602, 1730, 1, 123, 370, 3, 13, 1...   \n",
              "\n",
              "                                summary_1        Name_1  \n",
              "0  [403, 11, 1, 24, 1623, 159, 1377, 449]  [1568, 4868]  \n",
              "1         [386, 1110, 583, 360, 596, 125]  [2071, 5055]  \n",
              "2                               [27, 256]  [1753, 3236]  \n",
              "3                       [313, 78, 6, 794]  [2161, 4014]  \n",
              "4                        [7341, 847, 509]  [2258, 5152]  "
            ],
            "text/html": [
              "\n",
              "  <div id=\"df-ec982ff4-052d-4f8c-b7e7-0b52083be8e3\">\n",
              "    <div class=\"colab-df-container\">\n",
              "      <div>\n",
              "<style scoped>\n",
              "    .dataframe tbody tr th:only-of-type {\n",
              "        vertical-align: middle;\n",
              "    }\n",
              "\n",
              "    .dataframe tbody tr th {\n",
              "        vertical-align: top;\n",
              "    }\n",
              "\n",
              "    .dataframe thead th {\n",
              "        text-align: right;\n",
              "    }\n",
              "</style>\n",
              "<table border=\"1\" class=\"dataframe\">\n",
              "  <thead>\n",
              "    <tr style=\"text-align: right;\">\n",
              "      <th></th>\n",
              "      <th>Name</th>\n",
              "      <th>age</th>\n",
              "      <th>gender</th>\n",
              "      <th>security_no</th>\n",
              "      <th>region_category</th>\n",
              "      <th>membership_category</th>\n",
              "      <th>avg_transaction_value</th>\n",
              "      <th>points_in_wallet</th>\n",
              "      <th>used_special_discount</th>\n",
              "      <th>past_complaint</th>\n",
              "      <th>complaint_status</th>\n",
              "      <th>feedback</th>\n",
              "      <th>churn_score</th>\n",
              "      <th>sentiment</th>\n",
              "      <th>content</th>\n",
              "      <th>summary</th>\n",
              "      <th>content_1</th>\n",
              "      <th>summary_1</th>\n",
              "      <th>Name_1</th>\n",
              "    </tr>\n",
              "  </thead>\n",
              "  <tbody>\n",
              "    <tr>\n",
              "      <th>0</th>\n",
              "      <td>Evelyne Kinch</td>\n",
              "      <td>17</td>\n",
              "      <td>1</td>\n",
              "      <td>NBV1O8W</td>\n",
              "      <td>Town</td>\n",
              "      <td>0</td>\n",
              "      <td>9948.54</td>\n",
              "      <td>577.83</td>\n",
              "      <td>1</td>\n",
              "      <td>1</td>\n",
              "      <td>0</td>\n",
              "      <td>2</td>\n",
              "      <td>5</td>\n",
              "      <td>2</td>\n",
              "      <td>I just want to say that most Meguiar's product...</td>\n",
              "      <td>half of the product leaked before opening...di...</td>\n",
              "      <td>[4, 36, 243, 2, 227, 17, 254, 386, 229, 37, 10...</td>\n",
              "      <td>[403, 11, 1, 24, 1623, 159, 1377, 449]</td>\n",
              "      <td>[1568, 4868]</td>\n",
              "    </tr>\n",
              "    <tr>\n",
              "      <th>1</th>\n",
              "      <td>Franklin Lurry</td>\n",
              "      <td>22</td>\n",
              "      <td>1</td>\n",
              "      <td>C3B77NU</td>\n",
              "      <td>Town</td>\n",
              "      <td>2</td>\n",
              "      <td>19363.60</td>\n",
              "      <td>528.66</td>\n",
              "      <td>1</td>\n",
              "      <td>0</td>\n",
              "      <td>1</td>\n",
              "      <td>3</td>\n",
              "      <td>5</td>\n",
              "      <td>1</td>\n",
              "      <td>This item is misrepresented.  Meguiar's no lon...</td>\n",
              "      <td>Meguiar's Gold Class Clear Coat Wax</td>\n",
              "      <td>[7, 165, 9, 8813, 386, 50, 322, 195, 360, 596,...</td>\n",
              "      <td>[386, 1110, 583, 360, 596, 125]</td>\n",
              "      <td>[2071, 5055]</td>\n",
              "    </tr>\n",
              "    <tr>\n",
              "      <th>2</th>\n",
              "      <td>Alan Branum</td>\n",
              "      <td>17</td>\n",
              "      <td>1</td>\n",
              "      <td>OCHQG0L</td>\n",
              "      <td>Village</td>\n",
              "      <td>0</td>\n",
              "      <td>48913.95</td>\n",
              "      <td>613.79</td>\n",
              "      <td>1</td>\n",
              "      <td>0</td>\n",
              "      <td>1</td>\n",
              "      <td>2</td>\n",
              "      <td>5</td>\n",
              "      <td>1</td>\n",
              "      <td>Leaves film on car after wash</td>\n",
              "      <td>One Star</td>\n",
              "      <td>[406, 1801, 12, 26, 63, 183]</td>\n",
              "      <td>[27, 256]</td>\n",
              "      <td>[1753, 3236]</td>\n",
              "    </tr>\n",
              "    <tr>\n",
              "      <th>3</th>\n",
              "      <td>Elke Yann</td>\n",
              "      <td>55</td>\n",
              "      <td>0</td>\n",
              "      <td>4KPKRVX</td>\n",
              "      <td>Town</td>\n",
              "      <td>0</td>\n",
              "      <td>30773.81</td>\n",
              "      <td>520.36</td>\n",
              "      <td>0</td>\n",
              "      <td>0</td>\n",
              "      <td>1</td>\n",
              "      <td>7</td>\n",
              "      <td>5</td>\n",
              "      <td>1</td>\n",
              "      <td>Soap is soap regardless of manufacturer ,who c...</td>\n",
              "      <td>Give me a break</td>\n",
              "      <td>[509, 9, 509, 2669, 11, 1098, 392, 65, 90, 475...</td>\n",
              "      <td>[313, 78, 6, 794]</td>\n",
              "      <td>[2161, 4014]</td>\n",
              "    </tr>\n",
              "    <tr>\n",
              "      <th>4</th>\n",
              "      <td>Nichelle Oceguera</td>\n",
              "      <td>18</td>\n",
              "      <td>0</td>\n",
              "      <td>M0ZT1CU</td>\n",
              "      <td>City</td>\n",
              "      <td>0</td>\n",
              "      <td>28112.33</td>\n",
              "      <td>523.41</td>\n",
              "      <td>1</td>\n",
              "      <td>1</td>\n",
              "      <td>2</td>\n",
              "      <td>3</td>\n",
              "      <td>5</td>\n",
              "      <td>1</td>\n",
              "      <td>I purchased 2 bottles, finished the first bott...</td>\n",
              "      <td>Diluted Liquid Soap!</td>\n",
              "      <td>[4, 184, 86, 1602, 1730, 1, 123, 370, 3, 13, 1...</td>\n",
              "      <td>[7341, 847, 509]</td>\n",
              "      <td>[2258, 5152]</td>\n",
              "    </tr>\n",
              "  </tbody>\n",
              "</table>\n",
              "</div>\n",
              "      <button class=\"colab-df-convert\" onclick=\"convertToInteractive('df-ec982ff4-052d-4f8c-b7e7-0b52083be8e3')\"\n",
              "              title=\"Convert this dataframe to an interactive table.\"\n",
              "              style=\"display:none;\">\n",
              "        \n",
              "  <svg xmlns=\"http://www.w3.org/2000/svg\" height=\"24px\"viewBox=\"0 0 24 24\"\n",
              "       width=\"24px\">\n",
              "    <path d=\"M0 0h24v24H0V0z\" fill=\"none\"/>\n",
              "    <path d=\"M18.56 5.44l.94 2.06.94-2.06 2.06-.94-2.06-.94-.94-2.06-.94 2.06-2.06.94zm-11 1L8.5 8.5l.94-2.06 2.06-.94-2.06-.94L8.5 2.5l-.94 2.06-2.06.94zm10 10l.94 2.06.94-2.06 2.06-.94-2.06-.94-.94-2.06-.94 2.06-2.06.94z\"/><path d=\"M17.41 7.96l-1.37-1.37c-.4-.4-.92-.59-1.43-.59-.52 0-1.04.2-1.43.59L10.3 9.45l-7.72 7.72c-.78.78-.78 2.05 0 2.83L4 21.41c.39.39.9.59 1.41.59.51 0 1.02-.2 1.41-.59l7.78-7.78 2.81-2.81c.8-.78.8-2.07 0-2.86zM5.41 20L4 18.59l7.72-7.72 1.47 1.35L5.41 20z\"/>\n",
              "  </svg>\n",
              "      </button>\n",
              "      \n",
              "  <style>\n",
              "    .colab-df-container {\n",
              "      display:flex;\n",
              "      flex-wrap:wrap;\n",
              "      gap: 12px;\n",
              "    }\n",
              "\n",
              "    .colab-df-convert {\n",
              "      background-color: #E8F0FE;\n",
              "      border: none;\n",
              "      border-radius: 50%;\n",
              "      cursor: pointer;\n",
              "      display: none;\n",
              "      fill: #1967D2;\n",
              "      height: 32px;\n",
              "      padding: 0 0 0 0;\n",
              "      width: 32px;\n",
              "    }\n",
              "\n",
              "    .colab-df-convert:hover {\n",
              "      background-color: #E2EBFA;\n",
              "      box-shadow: 0px 1px 2px rgba(60, 64, 67, 0.3), 0px 1px 3px 1px rgba(60, 64, 67, 0.15);\n",
              "      fill: #174EA6;\n",
              "    }\n",
              "\n",
              "    [theme=dark] .colab-df-convert {\n",
              "      background-color: #3B4455;\n",
              "      fill: #D2E3FC;\n",
              "    }\n",
              "\n",
              "    [theme=dark] .colab-df-convert:hover {\n",
              "      background-color: #434B5C;\n",
              "      box-shadow: 0px 1px 3px 1px rgba(0, 0, 0, 0.15);\n",
              "      filter: drop-shadow(0px 1px 2px rgba(0, 0, 0, 0.3));\n",
              "      fill: #FFFFFF;\n",
              "    }\n",
              "  </style>\n",
              "\n",
              "      <script>\n",
              "        const buttonEl =\n",
              "          document.querySelector('#df-ec982ff4-052d-4f8c-b7e7-0b52083be8e3 button.colab-df-convert');\n",
              "        buttonEl.style.display =\n",
              "          google.colab.kernel.accessAllowed ? 'block' : 'none';\n",
              "\n",
              "        async function convertToInteractive(key) {\n",
              "          const element = document.querySelector('#df-ec982ff4-052d-4f8c-b7e7-0b52083be8e3');\n",
              "          const dataTable =\n",
              "            await google.colab.kernel.invokeFunction('convertToInteractive',\n",
              "                                                     [key], {});\n",
              "          if (!dataTable) return;\n",
              "\n",
              "          const docLinkHtml = 'Like what you see? Visit the ' +\n",
              "            '<a target=\"_blank\" href=https://colab.research.google.com/notebooks/data_table.ipynb>data table notebook</a>'\n",
              "            + ' to learn more about interactive tables.';\n",
              "          element.innerHTML = '';\n",
              "          dataTable['output_type'] = 'display_data';\n",
              "          await google.colab.output.renderOutput(dataTable, element);\n",
              "          const docLink = document.createElement('div');\n",
              "          docLink.innerHTML = docLinkHtml;\n",
              "          element.appendChild(docLink);\n",
              "        }\n",
              "      </script>\n",
              "    </div>\n",
              "  </div>\n",
              "  "
            ]
          },
          "metadata": {},
          "execution_count": 475
        }
      ]
    },
    {
      "cell_type": "code",
      "source": [
        "# Defining function\n",
        "\n",
        "def get_keras_data(dataset):\n",
        "    X = {                                                    \n",
        "        'name_in':     np.array(train.Name),                                                \n",
        "        'gender_in':     np.array(train.gender),                                                 \n",
        "        'security_no_in':     np.array(train['security_no']),\n",
        "        'region_category_in':     np.array(train['region_category']),\n",
        "        'membership_category_in':     np.array(train['membership_category']),\n",
        "        'used_special_discount_in':     np.array(train['used_special_discount']),\n",
        "        'past_complaint_in':     np.array(train['past_complaint']), \n",
        "        'feedback_in':     np.array(train.feedback), \n",
        "        'churn_score_in':     np.array(train['churn_score']), \n",
        "        'sentiment_in':     np.array(train.sentiment), \n",
        "        'num_vars_in':       np.array(train[[\"age\", \"avg_transaction_value\",\"points_in_wallet\"]])    \n",
        "    }\n",
        "    return X"
      ],
      "metadata": {
        "id": "Uogpx7DYpnzi"
      },
      "execution_count": 476,
      "outputs": []
    },
    {
      "cell_type": "code",
      "source": [
        "# Get these datasets now:\n",
        "\n",
        "X_train = get_keras_data(train)  # type: dict"
      ],
      "metadata": {
        "id": "ynVF77XErui8"
      },
      "execution_count": 477,
      "outputs": []
    },
    {
      "cell_type": "code",
      "source": [
        "# \n",
        "\n",
        "X_train.keys()"
      ],
      "metadata": {
        "colab": {
          "base_uri": "https://localhost:8080/"
        },
        "id": "b5ByrHygr1-g",
        "outputId": "2843fa3b-291b-4b59-85ab-b1b256181823"
      },
      "execution_count": 478,
      "outputs": [
        {
          "output_type": "execute_result",
          "data": {
            "text/plain": [
              "dict_keys(['name_in', 'gender_in', 'security_no_in', 'region_category_in', 'membership_category_in', 'used_special_discount_in', 'past_complaint_in', 'feedback_in', 'churn_score_in', 'sentiment_in', 'num_vars_in'])"
            ]
          },
          "metadata": {},
          "execution_count": 478
        }
      ]
    },
    {
      "cell_type": "code",
      "source": [
        "\n",
        "# Printing two objects for each data of X_train\n",
        "\n",
        "for key, value in X_train.items():\n",
        "    print(\"\\n\\n============\")\n",
        "    print(key, ' : ', value[:2])"
      ],
      "metadata": {
        "colab": {
          "base_uri": "https://localhost:8080/"
        },
        "id": "Otztdulxr5Xq",
        "outputId": "a6bd2658-94e4-42cb-b13e-29833141c892"
      },
      "execution_count": 479,
      "outputs": [
        {
          "output_type": "stream",
          "name": "stdout",
          "text": [
            "\n",
            "\n",
            "============\n",
            "name_in  :  ['Merideth Mcmeen' 'Eufemia Cardwell']\n",
            "\n",
            "\n",
            "============\n",
            "gender_in  :  [0 1]\n",
            "\n",
            "\n",
            "============\n",
            "security_no_in  :  ['1F2TCL3' 'VJGJ33N']\n",
            "\n",
            "\n",
            "============\n",
            "region_category_in  :  ['Town' 'City']\n",
            "\n",
            "\n",
            "============\n",
            "membership_category_in  :  [2 2]\n",
            "\n",
            "\n",
            "============\n",
            "used_special_discount_in  :  [0 0]\n",
            "\n",
            "\n",
            "============\n",
            "past_complaint_in  :  [1 1]\n",
            "\n",
            "\n",
            "============\n",
            "feedback_in  :  [3 3]\n",
            "\n",
            "\n",
            "============\n",
            "churn_score_in  :  [5 5]\n",
            "\n",
            "\n",
            "============\n",
            "sentiment_in  :  [0 0]\n",
            "\n",
            "\n",
            "============\n",
            "num_vars_in  :  [[44 21027.0 500.69]\n",
            " [37 25239.56 567.66]]\n"
          ]
        }
      ]
    },
    {
      "cell_type": "code",
      "source": [
        "# Getting subsets for X_valid and X_test:\n",
        "\n",
        "X_test = get_keras_data(train)"
      ],
      "metadata": {
        "id": "9BOgth2Or7_N"
      },
      "execution_count": 480,
      "outputs": []
    },
    {
      "cell_type": "code",
      "source": [
        "# checking shape\n",
        "\n",
        "print(X_train[\"name_in\"][:4])\n",
        "print(\"\\n===========\")\n",
        "print(X_train[\"name_in\"].shape)"
      ],
      "metadata": {
        "colab": {
          "base_uri": "https://localhost:8080/"
        },
        "id": "_XUhCBoNr_7r",
        "outputId": "8f1667e8-85c6-4fc9-a4ab-60d3d02a65e6"
      },
      "execution_count": 481,
      "outputs": [
        {
          "output_type": "stream",
          "name": "stdout",
          "text": [
            "['Merideth Mcmeen' 'Eufemia Cardwell' 'Meghan Kosak' 'Herma Torgeson']\n",
            "\n",
            "===========\n",
            "(36988,)\n"
          ]
        }
      ]
    },
    {
      "cell_type": "code",
      "source": [
        "# Inputs. \n",
        "\n",
        "Name =      Input(shape=(1,),                             name=\"Name_in\")   \n",
        "gender=Input(shape=(1,),     name=\"gender_in\")\n",
        "security_no=Input(shape=(1,),     name=\"security_no_in\") \n",
        "region_category=Input(shape=(1,),     name=\"region_category_in\")\n",
        "membership_category=Input(shape=(1,),     name=\"membership_category_in\")  \n",
        "used_special_discount=Input(shape=(1,),     name=\"used_special_discount_in\") \n",
        "past_complaint=Input(shape=(1,),     name=\"past_complaint_in\") \n",
        "feedback=Input(shape=(1,),     name=\"feedback_in\") \n",
        "churn_score=Input(shape=(1,),     name=\"churn_score_in\") \n",
        "sentiment=Input(shape=(1,),     name=\"sentiment_in\") \n",
        "\n",
        "num_vars =        Input(shape=(X_train[\"num_vars_in\"].shape[1]),  name=\"num_vars_in\")"
      ],
      "metadata": {
        "id": "QF9ICrKPsORY"
      },
      "execution_count": 482,
      "outputs": []
    },
    {
      "cell_type": "markdown",
      "source": [
        "Emdedding layer for categorical"
      ],
      "metadata": {
        "id": "eTgn7DiKtnzv"
      }
    },
    {
      "cell_type": "code",
      "source": [
        "# Embeddings layers."
      ],
      "metadata": {
        "id": "F7C8fkXRtmCt"
      },
      "execution_count": 483,
      "outputs": []
    },
    {
      "cell_type": "code",
      "source": [
        "emb_gender =                    Embedding(MAX_TEXT_VOC,      3  )(gender)               \n",
        "emb_region_category =           Embedding(MAX_TEXT_VOC,      4  )(region_category)\n",
        "emb_membership_category =       Embedding(MAX_TEXT_VOC,      6  )(membership_category)\n",
        "emb_used_special_discount =     Embedding(MAX_TEXT_VOC,      2  )(used_special_discount)\n",
        "emb_past_complaint =            Embedding(MAX_TEXT_VOC,      2  )(past_complaint)\n",
        "emb_feedback =                  Embedding(MAX_TEXT_VOC,      9  )(feedback)\n",
        "emb_churn_score =               Embedding(MAX_TEXT_VOC,      5  )(churn_score)\n",
        "emb_sentiment =                 Embedding(MAX_TEXT_VOC,      5  )(sentiment)\n"
      ],
      "metadata": {
        "id": "fgwqTQQNtxPC"
      },
      "execution_count": 484,
      "outputs": []
    },
    {
      "cell_type": "code",
      "source": [
        "# Flattening layers before concatenation\n",
        "\n",
        "print(f\"emb_gender: {emb_gender.shape}\")             \n",
        "print(f\"emb_region_category: {emb_region_category.shape}\")       \n",
        "print(f\"emb_membership_category: {emb_membership_category.shape}\")     \n",
        "print(f\"emb_used_special_discount: {emb_used_special_discount.shape}\")     \n",
        "print(f\"emb_past_complaint: {emb_past_complaint.shape}\")     \n",
        "print(f\"emb_feedback: {emb_feedback.shape}\")     \n",
        "print(f\"emb_churn_score: {emb_churn_score.shape}\")     \n",
        "print(f\"emb_sentiment: {emb_sentiment.shape}\")     "
      ],
      "metadata": {
        "colab": {
          "base_uri": "https://localhost:8080/"
        },
        "id": "FcqocfycyCeW",
        "outputId": "8741d239-c337-4111-db63-0b04ba8dcddc"
      },
      "execution_count": 485,
      "outputs": [
        {
          "output_type": "stream",
          "name": "stdout",
          "text": [
            "emb_gender: (None, 1, 3)\n",
            "emb_region_category: (None, 1, 4)\n",
            "emb_membership_category: (None, 1, 6)\n",
            "emb_used_special_discount: (None, 1, 2)\n",
            "emb_past_complaint: (None, 1, 2)\n",
            "emb_feedback: (None, 1, 9)\n",
            "emb_churn_score: (None, 1, 5)\n",
            "emb_sentiment: (None, 1, 5)\n"
          ]
        }
      ]
    },
    {
      "cell_type": "code",
      "source": [
        "# Concatenating all layer-branches:\n",
        "\n",
        "main_l = concatenate(\n",
        "                        [\n",
        "                          Flatten() (emb_gender),\n",
        "                          Flatten() (emb_region_category),\n",
        "                          Flatten() (emb_membership_category),\n",
        "                          Flatten() (emb_used_special_discount),\n",
        "                          Flatten() (emb_past_complaint),\n",
        "                          Flatten() (emb_feedback),\n",
        "                          Flatten() (emb_churn_score),\n",
        "                          Flatten() (emb_sentiment),\n",
        "                          num_vars          \n",
        "                        ]\n",
        "                      )"
      ],
      "metadata": {
        "id": "TnSRxIGiwCiq"
      },
      "execution_count": 486,
      "outputs": []
    },
    {
      "cell_type": "code",
      "source": [
        "#Level of dropouts:\n",
        "dr_r = 0.1   \n",
        "\n",
        "# Adding classification layer\n",
        "main_l = Dense(128) (main_l)\n",
        "main_l = Dropout(dr_r)(main_l)\n",
        "main_l = Dense(64) (main_l)\n",
        "main_l = Dropout(dr_r) (main_l)"
      ],
      "metadata": {
        "id": "KR-r8m4ly4MP"
      },
      "execution_count": 487,
      "outputs": []
    },
    {
      "cell_type": "code",
      "source": [
        "# Output neuron\n",
        "output = Dense(2, activation=\"sigmoid\") (main_l)"
      ],
      "metadata": {
        "id": "48egGwWRzQio"
      },
      "execution_count": 488,
      "outputs": []
    },
    {
      "cell_type": "code",
      "source": [
        "# Formulating Model \n",
        "model = Model(\n",
        "              inputs= [                     \n",
        "                        gender,\n",
        "                        region_category,\n",
        "                        membership_category,\n",
        "                        used_special_discount,\n",
        "                        past_complaint,\n",
        "                        feedback,\n",
        "                        churn_score,\n",
        "                        sentiment,\n",
        "                        num_vars\n",
        "                       ],\n",
        "              outputs= output\n",
        "              )"
      ],
      "metadata": {
        "id": "CKq_pUsjzSs2"
      },
      "execution_count": 489,
      "outputs": []
    },
    {
      "cell_type": "code",
      "source": [
        "# Compiling model\n",
        "model.compile(loss=\"mse\",\n",
        "              optimizer=\"adam\",\n",
        "              metrics=[\"mae\"]    # Not using rmsle_cust\n",
        "              )"
      ],
      "metadata": {
        "id": "R9aU4ljiz1QD"
      },
      "execution_count": 490,
      "outputs": []
    },
    {
      "cell_type": "code",
      "source": [
        "# To show model summary    \n",
        "model.summary()"
      ],
      "metadata": {
        "colab": {
          "base_uri": "https://localhost:8080/"
        },
        "id": "F2zcpVVqz3tn",
        "outputId": "0ca1512c-e371-420d-e69a-1aaa9fda70d2"
      },
      "execution_count": 491,
      "outputs": [
        {
          "output_type": "stream",
          "name": "stdout",
          "text": [
            "Model: \"model_1\"\n",
            "__________________________________________________________________________________________________\n",
            " Layer (type)                   Output Shape         Param #     Connected to                     \n",
            "==================================================================================================\n",
            " gender_in (InputLayer)         [(None, 1)]          0           []                               \n",
            "                                                                                                  \n",
            " region_category_in (InputLayer  [(None, 1)]         0           []                               \n",
            " )                                                                                                \n",
            "                                                                                                  \n",
            " membership_category_in (InputL  [(None, 1)]         0           []                               \n",
            " ayer)                                                                                            \n",
            "                                                                                                  \n",
            " used_special_discount_in (Inpu  [(None, 1)]         0           []                               \n",
            " tLayer)                                                                                          \n",
            "                                                                                                  \n",
            " past_complaint_in (InputLayer)  [(None, 1)]         0           []                               \n",
            "                                                                                                  \n",
            " feedback_in (InputLayer)       [(None, 1)]          0           []                               \n",
            "                                                                                                  \n",
            " churn_score_in (InputLayer)    [(None, 1)]          0           []                               \n",
            "                                                                                                  \n",
            " sentiment_in (InputLayer)      [(None, 1)]          0           []                               \n",
            "                                                                                                  \n",
            " embedding_14 (Embedding)       (None, 1, 3)         99183       ['gender_in[0][0]']              \n",
            "                                                                                                  \n",
            " embedding_15 (Embedding)       (None, 1, 4)         132244      ['region_category_in[0][0]']     \n",
            "                                                                                                  \n",
            " embedding_16 (Embedding)       (None, 1, 6)         198366      ['membership_category_in[0][0]'] \n",
            "                                                                                                  \n",
            " embedding_17 (Embedding)       (None, 1, 2)         66122       ['used_special_discount_in[0][0]'\n",
            "                                                                 ]                                \n",
            "                                                                                                  \n",
            " embedding_18 (Embedding)       (None, 1, 2)         66122       ['past_complaint_in[0][0]']      \n",
            "                                                                                                  \n",
            " embedding_19 (Embedding)       (None, 1, 9)         297549      ['feedback_in[0][0]']            \n",
            "                                                                                                  \n",
            " embedding_20 (Embedding)       (None, 1, 5)         165305      ['churn_score_in[0][0]']         \n",
            "                                                                                                  \n",
            " embedding_21 (Embedding)       (None, 1, 5)         165305      ['sentiment_in[0][0]']           \n",
            "                                                                                                  \n",
            " flatten_8 (Flatten)            (None, 3)            0           ['embedding_14[0][0]']           \n",
            "                                                                                                  \n",
            " flatten_9 (Flatten)            (None, 4)            0           ['embedding_15[0][0]']           \n",
            "                                                                                                  \n",
            " flatten_10 (Flatten)           (None, 6)            0           ['embedding_16[0][0]']           \n",
            "                                                                                                  \n",
            " flatten_11 (Flatten)           (None, 2)            0           ['embedding_17[0][0]']           \n",
            "                                                                                                  \n",
            " flatten_12 (Flatten)           (None, 2)            0           ['embedding_18[0][0]']           \n",
            "                                                                                                  \n",
            " flatten_13 (Flatten)           (None, 9)            0           ['embedding_19[0][0]']           \n",
            "                                                                                                  \n",
            " flatten_14 (Flatten)           (None, 5)            0           ['embedding_20[0][0]']           \n",
            "                                                                                                  \n",
            " flatten_15 (Flatten)           (None, 5)            0           ['embedding_21[0][0]']           \n",
            "                                                                                                  \n",
            " num_vars_in (InputLayer)       [(None, 3)]          0           []                               \n",
            "                                                                                                  \n",
            " concatenate_1 (Concatenate)    (None, 39)           0           ['flatten_8[0][0]',              \n",
            "                                                                  'flatten_9[0][0]',              \n",
            "                                                                  'flatten_10[0][0]',             \n",
            "                                                                  'flatten_11[0][0]',             \n",
            "                                                                  'flatten_12[0][0]',             \n",
            "                                                                  'flatten_13[0][0]',             \n",
            "                                                                  'flatten_14[0][0]',             \n",
            "                                                                  'flatten_15[0][0]',             \n",
            "                                                                  'num_vars_in[0][0]']            \n",
            "                                                                                                  \n",
            " dense_3 (Dense)                (None, 128)          5120        ['concatenate_1[0][0]']          \n",
            "                                                                                                  \n",
            " dropout_2 (Dropout)            (None, 128)          0           ['dense_3[0][0]']                \n",
            "                                                                                                  \n",
            " dense_4 (Dense)                (None, 64)           8256        ['dropout_2[0][0]']              \n",
            "                                                                                                  \n",
            " dropout_3 (Dropout)            (None, 64)           0           ['dense_4[0][0]']                \n",
            "                                                                                                  \n",
            " dense_5 (Dense)                (None, 2)            130         ['dropout_3[0][0]']              \n",
            "                                                                                                  \n",
            "==================================================================================================\n",
            "Total params: 1,203,702\n",
            "Trainable params: 1,203,702\n",
            "Non-trainable params: 0\n",
            "__________________________________________________________________________________________________\n"
          ]
        }
      ]
    },
    {
      "cell_type": "code",
      "source": [
        "# Plot the model architecture\n",
        "plt.figure(figsize = (14,14));\n",
        "plot_model(model, to_file = \"model.png\");\n"
      ],
      "metadata": {
        "colab": {
          "base_uri": "https://localhost:8080/",
          "height": 34
        },
        "id": "rYYBWmsFz5hD",
        "outputId": "c93410c3-f427-45ee-f559-c24a567e6d9c"
      },
      "execution_count": 492,
      "outputs": [
        {
          "output_type": "display_data",
          "data": {
            "text/plain": [
              "<Figure size 1008x1008 with 0 Axes>"
            ]
          },
          "metadata": {}
        }
      ]
    },
    {
      "cell_type": "code",
      "source": [
        "# Some constants\n",
        "BATCH_SIZE = 20000\n",
        "epochs = 5"
      ],
      "metadata": {
        "id": "abcuORDlz8tQ"
      },
      "execution_count": 493,
      "outputs": []
    },
    {
      "cell_type": "code",
      "source": [
        "# Observing our training data once more:\n",
        "\n",
        "for key, value in X_train.items():\n",
        "    print(\"\\n\\n============\")\n",
        "    print(key, ' : ', value[:2])"
      ],
      "metadata": {
        "colab": {
          "base_uri": "https://localhost:8080/"
        },
        "id": "KLEWhbA1z-0w",
        "outputId": "7d4f8be3-0562-4cf3-d674-f07e84c5e208"
      },
      "execution_count": 494,
      "outputs": [
        {
          "output_type": "stream",
          "name": "stdout",
          "text": [
            "\n",
            "\n",
            "============\n",
            "name_in  :  ['Merideth Mcmeen' 'Eufemia Cardwell']\n",
            "\n",
            "\n",
            "============\n",
            "gender_in  :  [0 1]\n",
            "\n",
            "\n",
            "============\n",
            "security_no_in  :  ['1F2TCL3' 'VJGJ33N']\n",
            "\n",
            "\n",
            "============\n",
            "region_category_in  :  ['Town' 'City']\n",
            "\n",
            "\n",
            "============\n",
            "membership_category_in  :  [2 2]\n",
            "\n",
            "\n",
            "============\n",
            "used_special_discount_in  :  [0 0]\n",
            "\n",
            "\n",
            "============\n",
            "past_complaint_in  :  [1 1]\n",
            "\n",
            "\n",
            "============\n",
            "feedback_in  :  [3 3]\n",
            "\n",
            "\n",
            "============\n",
            "churn_score_in  :  [5 5]\n",
            "\n",
            "\n",
            "============\n",
            "sentiment_in  :  [0 0]\n",
            "\n",
            "\n",
            "============\n",
            "num_vars_in  :  [[44 21027.0 500.69]\n",
            " [37 25239.56 567.66]]\n"
          ]
        }
      ]
    },
    {
      "cell_type": "code",
      "source": [
        "# 26.4\n",
        "\n",
        "start = time.time()\n",
        "history= model.fit(X_train,\n",
        "                   X_test['churn_score'],\n",
        "                   epochs=epochs,\n",
        "                   batch_size=BATCH_SIZE,\n",
        "                   validation_data=(X_valid, valid.target),\n",
        "                   #callbacks = callbacks,\n",
        "                   verbose=1\n",
        "                  )\n",
        "\n",
        "end = time.time()\n",
        "print((end-start)/60)    "
      ],
      "metadata": {
        "colab": {
          "base_uri": "https://localhost:8080/",
          "height": 236
        },
        "id": "vJYuMdLz0A1e",
        "outputId": "f182a860-d69d-4a13-c9c8-0b36f5842b9d"
      },
      "execution_count": 496,
      "outputs": [
        {
          "output_type": "error",
          "ename": "KeyError",
          "evalue": "ignored",
          "traceback": [
            "\u001b[0;31m---------------------------------------------------------------------------\u001b[0m",
            "\u001b[0;31mKeyError\u001b[0m                                  Traceback (most recent call last)",
            "\u001b[0;32m<ipython-input-496-5bf91195c2a7>\u001b[0m in \u001b[0;36m<module>\u001b[0;34m\u001b[0m\n\u001b[1;32m      3\u001b[0m \u001b[0mstart\u001b[0m \u001b[0;34m=\u001b[0m \u001b[0mtime\u001b[0m\u001b[0;34m.\u001b[0m\u001b[0mtime\u001b[0m\u001b[0;34m(\u001b[0m\u001b[0;34m)\u001b[0m\u001b[0;34m\u001b[0m\u001b[0;34m\u001b[0m\u001b[0m\n\u001b[1;32m      4\u001b[0m history= model.fit(X_train,\n\u001b[0;32m----> 5\u001b[0;31m                    \u001b[0mX_test\u001b[0m\u001b[0;34m[\u001b[0m\u001b[0;34m'churn_score'\u001b[0m\u001b[0;34m]\u001b[0m\u001b[0;34m,\u001b[0m\u001b[0;34m\u001b[0m\u001b[0;34m\u001b[0m\u001b[0m\n\u001b[0m\u001b[1;32m      6\u001b[0m                    \u001b[0mepochs\u001b[0m\u001b[0;34m=\u001b[0m\u001b[0mepochs\u001b[0m\u001b[0;34m,\u001b[0m\u001b[0;34m\u001b[0m\u001b[0;34m\u001b[0m\u001b[0m\n\u001b[1;32m      7\u001b[0m                    \u001b[0mbatch_size\u001b[0m\u001b[0;34m=\u001b[0m\u001b[0mBATCH_SIZE\u001b[0m\u001b[0;34m,\u001b[0m\u001b[0;34m\u001b[0m\u001b[0;34m\u001b[0m\u001b[0m\n",
            "\u001b[0;31mKeyError\u001b[0m: 'churn_score'"
          ]
        }
      ]
    },
    {
      "cell_type": "code",
      "source": [],
      "metadata": {
        "id": "CFJlGNX70FQ9"
      },
      "execution_count": null,
      "outputs": []
    }
  ]
}